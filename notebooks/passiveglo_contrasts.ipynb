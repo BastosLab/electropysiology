{
 "cells": [
  {
   "cell_type": "code",
   "execution_count": null,
   "id": "032e7f3b-4c0e-4222-b94c-7a0c31095291",
   "metadata": {},
   "outputs": [],
   "source": [
    "%cd .."
   ]
  },
  {
   "cell_type": "code",
   "execution_count": null,
   "id": "58a51e18-e847-479b-b3a6-f785f02ea137",
   "metadata": {},
   "outputs": [],
   "source": [
    "import epych\n",
    "import glob\n",
    "import h5py\n",
    "import logging\n",
    "import math\n",
    "import matplotlib.pyplot as plt\n",
    "import numpy as np\n",
    "import os\n",
    "import pandas as pd\n",
    "import pickle\n",
    "import quantities as pq"
   ]
  },
  {
   "cell_type": "code",
   "execution_count": null,
   "id": "98c35185-db98-4e9b-a72b-efff6723c1e7",
   "metadata": {},
   "outputs": [],
   "source": [
    "%load_ext autoreload\n",
    "%autoreload 2\n",
    "%matplotlib inline"
   ]
  },
  {
   "cell_type": "code",
   "execution_count": null,
   "id": "f0fc9442-7bc4-44a9-ba16-145472382f52",
   "metadata": {},
   "outputs": [],
   "source": [
    "logging.basicConfig(level=logging.INFO)"
   ]
  },
  {
   "cell_type": "code",
   "execution_count": null,
   "id": "8080c295-5b7a-4cdf-b4f0-fb4ebdaee5d9",
   "metadata": {},
   "outputs": [],
   "source": [
    "CONDITIONS = [\"go_gloexp\", \"lo_gloexp\"]\n",
    "PRETRIAL_SECONDS = 0.5\n",
    "POSTTRIAL_SECONDS = 0.5"
   ]
  },
  {
   "cell_type": "code",
   "execution_count": null,
   "id": "38a7731f-ab30-47d6-b03f-92f974b68605",
   "metadata": {},
   "outputs": [],
   "source": [
    "def hippocampal_channels(channels):\n",
    "    for l in channels.location.values:\n",
    "        l = l.decode()\n",
    "        yield (\"DG-\" in l or \"CA\" in l)\n",
    "\n",
    "def visual_channels(channels):\n",
    "    for l in channels.location.values:\n",
    "        l = l.decode()\n",
    "        yield (\"VIS\" in l)\n",
    "\n",
    "def subcortical_channels(channels):\n",
    "    for l in channels.location.values:\n",
    "        l = l.decode()\n",
    "        yield (\"DG-\" in l or \"CA\" in l or \"MB\" in l or \"SCi\" in l or \"POST\" in l)"
   ]
  },
  {
   "cell_type": "code",
   "execution_count": null,
   "id": "0b0b3d9c-2703-44b0-8a67-7e23b2bfa12f",
   "metadata": {},
   "outputs": [],
   "source": [
    "NWB_FILES = glob.glob('/mnt/data/*.nwb')"
   ]
  },
  {
   "cell_type": "code",
   "execution_count": null,
   "id": "6da6203d-4efd-4528-b5f6-2e9b7103aa41",
   "metadata": {},
   "outputs": [],
   "source": [
    "contrasts = {}\n",
    "events = {}"
   ]
  },
  {
   "cell_type": "code",
   "execution_count": null,
   "id": "466fc5da-b29a-43c9-9ac4-2b07293f38de",
   "metadata": {},
   "outputs": [],
   "source": [
    "def common_area_title(signame, signal):\n",
    "    locations = [loc.decode() for loc in signal.channels.location.values]\n",
    "    prefix = os.path.commonprefix(locations)\n",
    "    return \"%s (%s)\" % (prefix if prefix else \"Subcortical\", signame)"
   ]
  },
  {
   "cell_type": "code",
   "execution_count": null,
   "id": "173432e5-5027-43cb-bc7f-05d0412c9b07",
   "metadata": {},
   "outputs": [],
   "source": [
    "for f, nwb_file in enumerate(NWB_FILES):\n",
    "    basename = os.path.splitext(nwb_file)[0]\n",
    "    if not os.path.exists(basename + \"_go_seqctl\"):\n",
    "        continue\n",
    "    ctrls = {\n",
    "        \"go_gloexp\": epych.recording.Sampling.unpickle(basename + \"_go_rndctl\").smap(lambda sig: sig.median_filter()),\n",
    "        \"lo_gloexp\": epych.recording.Sampling.unpickle(basename + \"_lo_rndctl\").smap(lambda sig: sig.median_filter()),\n",
    "    }\n",
    "    logging.info(\"Loaded random control data of %s\" % nwb_file)\n",
    "\n",
    "    for cond in CONDITIONS:\n",
    "        sampling = epych.recording.Sampling.unpickle(basename + \"_\" + cond).smap(lambda sig: sig.median_filter())\n",
    "        events[(nwb_file, cond)] = {\n",
    "            \"Oddball Onset\": (sampling.trials[cond + \"_start\"].mean(), 'lightgreen'),\n",
    "            \"Oddball Offset\": (sampling.trials[cond + \"_end\"].mean(), 'red'),\n",
    "        }\n",
    "        seqctrl = ctrls[cond]\n",
    "\n",
    "        test_lfp, ctrl_lfp = sampling.baseline_correct(0, PRETRIAL_SECONDS), seqctrl.baseline_correct(0, PRETRIAL_SECONDS)\n",
    "        contrasts[(nwb_file, cond, \"lfp\")] = epych.recording.trials_ttest(test_lfp, ctrl_lfp, pvalue=0.001)\n",
    "\n",
    "        test_csd = test_lfp.smap(lambda sig: sig.downsample(4).current_source_density(\"vertical\"))\n",
    "        ctrl_csd = ctrl_lfp.smap(lambda sig: sig.downsample(4).current_source_density(\"vertical\"))\n",
    "        contrasts[(nwb_file, cond, \"csd\")] = epych.recording.trials_ttest(test_csd, ctrl_csd, pvalue=0.001)\n",
    "        logging.info(\"Calculated single contrast of %s condition in %s\" % (cond, nwb_file))\n",
    "        del ctrl_csd, ctrl_lfp, sampling, test_csd, test_lfp\n",
    "    logging.info(\"Calculated single contrasts of %s\" % nwb_file)\n",
    "    \n",
    "    del ctrls"
   ]
  },
  {
   "cell_type": "code",
   "execution_count": null,
   "id": "254fe1cf-13e4-4912-a356-5521758cce91",
   "metadata": {},
   "outputs": [],
   "source": [
    "for f, nwb_file in enumerate(NWB_FILES):\n",
    "    basename = os.path.splitext(nwb_file)[0]\n",
    "    if not os.path.exists(basename + \"_go_seqctl\"):\n",
    "        continue\n",
    "\n",
    "    for cond in CONDITIONS:\n",
    "        erp = contrasts[(nwb_file, cond, \"lfp\")].erp()\n",
    "        cortical = erp.smap(lambda sig: sig.select_channels(list(visual_channels(sig.channels))))\n",
    "        cortical.plot(vmin=-1e-4, vmax=1e-4, figure=\"%s_%s_contrast_visual_lfp.pdf\" % (basename, cond), sigtitle=common_area_title, **events[(nwb_file, cond)])\n",
    "\n",
    "        subcortical = erp.smap(lambda sig: sig.select_channels(list(subcortical_channels(sig.channels))))\n",
    "        subcortical.plot(vmin=-1e-4, vmax=1e-4, figure=\"%s_%s_contrast_subcortical_lfp.pdf\" % (basename, cond), sigtitle=common_area_title, **events[(nwb_file, cond)])\n",
    "\n",
    "        csd = contrasts[(nwb_file, cond, \"csd\")].erp()\n",
    "        cortical = csd.smap(lambda sig: sig.select_channels(list(visual_channels(sig.channels))))\n",
    "        cortical.plot(vmin=-1e-4, vmax=1e-4, figure=\"%s_%s_contrast_visual_csd.pdf\" % (basename, cond), sigtitle=common_area_title, **events[(nwb_file, cond)])\n",
    "\n",
    "        subcortical = csd.smap(lambda sig: sig.select_channels(list(subcortical_channels(sig.channels))))\n",
    "        subcortical.plot(vmin=-1e-4, vmax=1e-4, figure=\"%s_%s_contrast_subcortical_csd.pdf\" % (basename, cond), sigtitle=common_area_title, **events[(nwb_file, cond)])\n",
    "\n",
    "        logging.info(\"Plotted single contrasts of %s condition in %s\" % (cond, nwb_file))\n",
    "    logging.info(\"Plotted single contrasts of %s\" % nwb_file)"
   ]
  },
  {
   "cell_type": "code",
   "execution_count": null,
   "id": "bfd339f8-7e05-4034-b1ff-bea3f7096b16",
   "metadata": {},
   "outputs": [],
   "source": []
  }
 ],
 "metadata": {
  "kernelspec": {
   "display_name": "Python [conda env:ephys] *",
   "language": "python",
   "name": "conda-env-ephys-py"
  },
  "language_info": {
   "codemirror_mode": {
    "name": "ipython",
    "version": 3
   },
   "file_extension": ".py",
   "mimetype": "text/x-python",
   "name": "python",
   "nbconvert_exporter": "python",
   "pygments_lexer": "ipython3",
   "version": "3.11.7"
  }
 },
 "nbformat": 4,
 "nbformat_minor": 5
}
