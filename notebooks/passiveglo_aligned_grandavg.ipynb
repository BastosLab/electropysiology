{
 "cells": [
  {
   "cell_type": "code",
   "execution_count": 1,
   "id": "8d64ff37-0c6f-45c3-8002-eca757bdc33a",
   "metadata": {},
   "outputs": [
    {
     "name": "stdout",
     "output_type": "stream",
     "text": [
      "/home/eli/AnacondaProjects/epych\n"
     ]
    }
   ],
   "source": [
    "%cd .."
   ]
  },
  {
   "cell_type": "code",
   "execution_count": 2,
   "id": "5d084a58-aaf7-42ce-8a8f-c57167b37658",
   "metadata": {},
   "outputs": [],
   "source": [
    "%load_ext autoreload\n",
    "%autoreload 2"
   ]
  },
  {
   "cell_type": "code",
   "execution_count": 3,
   "id": "58a51e18-e847-479b-b3a6-f785f02ea137",
   "metadata": {},
   "outputs": [],
   "source": [
    "import collections\n",
    "import glob\n",
    "import functools\n",
    "import logging\n",
    "import math\n",
    "import matplotlib.pyplot as plt\n",
    "import numpy as np\n",
    "import os\n",
    "import pickle\n",
    "import quantities as pq\n",
    "\n",
    "import epych"
   ]
  },
  {
   "cell_type": "code",
   "execution_count": 4,
   "id": "98c35185-db98-4e9b-a72b-efff6723c1e7",
   "metadata": {},
   "outputs": [],
   "source": [
    "%matplotlib inline"
   ]
  },
  {
   "cell_type": "code",
   "execution_count": 5,
   "id": "f0fc9442-7bc4-44a9-ba16-145472382f52",
   "metadata": {},
   "outputs": [],
   "source": [
    "logging.basicConfig(level=logging.INFO)"
   ]
  },
  {
   "cell_type": "code",
   "execution_count": 6,
   "id": "8a8fe153-26d2-45a1-bae9-46ed1912d585",
   "metadata": {},
   "outputs": [],
   "source": [
    "CONDITIONS = [\"go_gloexp\", \"go_seqctl\", \"lo_gloexp\"]\n",
    "PRETRIAL_SECONDS = 0.5\n",
    "POSTTRIAL_SECONDS = 0.5"
   ]
  },
  {
   "cell_type": "code",
   "execution_count": 7,
   "id": "0b0b3d9c-2703-44b0-8a67-7e23b2bfa12f",
   "metadata": {},
   "outputs": [],
   "source": [
    "NWB_FILES = glob.glob('/mnt/data/*.nwb')"
   ]
  },
  {
   "cell_type": "code",
   "execution_count": 8,
   "id": "7aee750b-52f3-4e44-bae3-d33abb0d1111",
   "metadata": {},
   "outputs": [],
   "source": [
    "PILOT_FILES = []"
   ]
  },
  {
   "cell_type": "code",
   "execution_count": 9,
   "id": "a7a06078-d15d-49ac-907f-b5d87f90f0d1",
   "metadata": {},
   "outputs": [],
   "source": [
    "evoked = {}"
   ]
  },
  {
   "cell_type": "code",
   "execution_count": 10,
   "id": "566e8204-3c64-4252-b3e5-cee362f600fc",
   "metadata": {},
   "outputs": [],
   "source": [
    "alignment = epych.statistics.alignment.AlignmentSummary.unpickle(\"/mnt/data/mice_passiveglo_alignment\")"
   ]
  },
  {
   "cell_type": "code",
   "execution_count": 11,
   "id": "a8f27065-0d69-4b41-ba8c-167553c69a42",
   "metadata": {},
   "outputs": [],
   "source": [
    "def visual_align(probe_area_counter, probe, signal):\n",
    "    area = os.path.commonprefix([loc.decode() for loc in signal.channels.location if \"VIS\" in loc.decode()])\n",
    "    k = probe_area_counter[(probe, area)]\n",
    "    probe_area_counter[(probe, area)] += 1\n",
    "    return alignment.stats[probe + \"/\" + area].align(k, signal.median_filter().baseline_correct(0., POSTTRIAL_SECONDS))"
   ]
  },
  {
   "cell_type": "code",
   "execution_count": 12,
   "id": "ae302af3-35c8-4a8a-afc6-0c3a28eba93d",
   "metadata": {},
   "outputs": [],
   "source": [
    "def samplings(cond):\n",
    "    probe_area_counter = collections.Counter()\n",
    "    for f, nwb_file in enumerate(NWB_FILES):\n",
    "        basename = os.path.splitext(nwb_file)[0]\n",
    "        if not os.path.exists(basename + \"_\" + cond):\n",
    "            continue\n",
    "        sampling = epych.recording.Sampling.unpickle(basename + \"_\" + cond).smap(functools.partial(visual_align, probe_area_counter), keys=True)\n",
    "        yield sampling\n",
    "        del sampling\n",
    "        logging.info(\"Loaded LFPs for %s in subject %s\" % (cond, nwb_file))"
   ]
  },
  {
   "cell_type": "code",
   "execution_count": 13,
   "id": "a5888644-c0cb-4e2b-97e0-37ae217f2669",
   "metadata": {},
   "outputs": [],
   "source": [
    "summaries = {}"
   ]
  },
  {
   "cell_type": "code",
   "execution_count": 14,
   "id": "bf3dfdbb-fe4d-4125-b152-f811152edb45",
   "metadata": {},
   "outputs": [],
   "source": [
    "def initialize_grand_avg(key, signal):\n",
    "    area = os.path.commonprefix([loc.decode() for loc in signal.channels.location])\n",
    "    return epych.statistics.grand.GrandAverage((alignment.stats[key + \"/\" + area].num_channels, alignment.stats[key + \"/\" + area].num_times))"
   ]
  },
  {
   "cell_type": "code",
   "execution_count": null,
   "id": "f060f515-548e-40d7-a661-ca110d22185a",
   "metadata": {},
   "outputs": [
    {
     "name": "stderr",
     "output_type": "stream",
     "text": [
      "INFO:root:Loaded LFPs for go_gloexp in subject /mnt/data/sub-1169714193_ses-1180116198.nwb\n"
     ]
    }
   ],
   "source": [
    "for cond in CONDITIONS:\n",
    "    summaries[cond] = epych.statistic.Summary(initialize_grand_avg)\n",
    "    summaries[cond].calculate(samplings(cond))\n",
    "    logging.info(\"Grand-averaged LFPs for condition %s\" % cond)"
   ]
  },
  {
   "cell_type": "code",
   "execution_count": null,
   "id": "1ffdb3c4-3e8a-416a-8838-2886138407cb",
   "metadata": {},
   "outputs": [],
   "source": [
    "for cond in CONDITIONS:\n",
    "    for key, stat in summaries[cond].stats.items():\n",
    "        stat.heatmap(vmin=-1e-4, vmax=1e-4, title=key)\n",
    "        plt.show()\n",
    "    logging.info(\"Plotted grand-averaged LFPs for condition %s\" % cond)"
   ]
  },
  {
   "cell_type": "code",
   "execution_count": null,
   "id": "ab5f27a4-322c-40dc-8f82-ca7db55c11e0",
   "metadata": {},
   "outputs": [],
   "source": []
  },
  {
   "cell_type": "code",
   "execution_count": null,
   "id": "f8c60621-8f90-4242-9cfb-88e4fc8638ea",
   "metadata": {},
   "outputs": [],
   "source": []
  }
 ],
 "metadata": {
  "kernelspec": {
   "display_name": "Python [conda env:ephys] *",
   "language": "python",
   "name": "conda-env-ephys-py"
  },
  "language_info": {
   "codemirror_mode": {
    "name": "ipython",
    "version": 3
   },
   "file_extension": ".py",
   "mimetype": "text/x-python",
   "name": "python",
   "nbconvert_exporter": "python",
   "pygments_lexer": "ipython3",
   "version": "3.11.8"
  }
 },
 "nbformat": 4,
 "nbformat_minor": 5
}
