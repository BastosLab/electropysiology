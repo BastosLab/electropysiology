{
 "cells": [
  {
   "cell_type": "code",
   "execution_count": null,
   "id": "032e7f3b-4c0e-4222-b94c-7a0c31095291",
   "metadata": {},
   "outputs": [],
   "source": [
    "%cd .."
   ]
  },
  {
   "cell_type": "code",
   "execution_count": null,
   "id": "58a51e18-e847-479b-b3a6-f785f02ea137",
   "metadata": {},
   "outputs": [],
   "source": [
    "import epych\n",
    "import glob\n",
    "import h5py\n",
    "import logging\n",
    "import math\n",
    "import matplotlib.pyplot as plt\n",
    "import numpy as np\n",
    "import os\n",
    "import pandas as pd\n",
    "import pickle\n",
    "import quantities as pq"
   ]
  },
  {
   "cell_type": "code",
   "execution_count": null,
   "id": "98c35185-db98-4e9b-a72b-efff6723c1e7",
   "metadata": {},
   "outputs": [],
   "source": [
    "%matplotlib inline"
   ]
  },
  {
   "cell_type": "code",
   "execution_count": null,
   "id": "f0fc9442-7bc4-44a9-ba16-145472382f52",
   "metadata": {},
   "outputs": [],
   "source": [
    "logging.basicConfig(level=logging.INFO)"
   ]
  },
  {
   "cell_type": "code",
   "execution_count": null,
   "id": "f8115e9a-681a-4691-9d5a-637263ec0d89",
   "metadata": {},
   "outputs": [],
   "source": [
    "def epoch_intervals(intervals, epoch):\n",
    "    mask = intervals[epoch][:].astype(bool)\n",
    "    return np.stack((intervals['start_time'][mask], intervals['stop_time'][mask]), axis=-1)"
   ]
  },
  {
   "cell_type": "code",
   "execution_count": null,
   "id": "b60d1ac7-02c0-42ae-814f-4debf872114a",
   "metadata": {},
   "outputs": [],
   "source": [
    "def trial_intervals(intervals):\n",
    "    trial_nums = intervals['trial_num'][:].astype(int)\n",
    "    trials = np.unique(trial_nums)\n",
    "    startstops = []\n",
    "    for trial in trials:\n",
    "        indices = np.nonzero(trial_nums == trial)[0]\n",
    "        startstops.append((intervals['start_time'][indices[0]], intervals['stop_time'][indices[-1]]))\n",
    "    return np.array(startstops)"
   ]
  },
  {
   "cell_type": "code",
   "execution_count": null,
   "id": "64ea36b3-408c-46c7-8352-22c3a3e812ef",
   "metadata": {},
   "outputs": [],
   "source": [
    "def trial_stimulus_intervals(intervals):\n",
    "    trial_nums = intervals['trial_num'][:].astype(int)\n",
    "    trials = np.unique(trial_nums)\n",
    "    stimuli = {k: [] for k in range(5)}\n",
    "    for trial in trials:\n",
    "        for index, interval in enumerate(np.nonzero(trial_nums == trial)[0]):\n",
    "            stimuli[index].append((intervals['start_time'][interval], intervals['stop_time'][interval]))\n",
    "    return {k: np.array(v) for k, v in stimuli.items()}"
   ]
  },
  {
   "cell_type": "code",
   "execution_count": null,
   "id": "8080c295-5b7a-4cdf-b4f0-fb4ebdaee5d9",
   "metadata": {},
   "outputs": [],
   "source": [
    "CONDITIONS = [\"go_gloexp\", \"lo_gloexp\", \"go_seqctl\", \"seqctl\"]\n",
    "PRETRIAL_SECONDS = 0.5\n",
    "POSTTRIAL_SECONDS = 0.5"
   ]
  },
  {
   "cell_type": "code",
   "execution_count": null,
   "id": "38a7731f-ab30-47d6-b03f-92f974b68605",
   "metadata": {},
   "outputs": [],
   "source": [
    "def hippocampal_areas(probe_areas):\n",
    "    for (c, a) in enumerate(probe_areas):\n",
    "        if \"DG-\" in a or \"CA\" in a:\n",
    "            yield (c, a)\n",
    "\n",
    "def visual_areas(probe_areas):\n",
    "    for (c, a) in enumerate(probe_areas):\n",
    "        if \"VIS\" in a:\n",
    "            yield (c, a)\n",
    "\n",
    "def subcortical_areas(probe_areas):\n",
    "    for (c, a) in enumerate(probe_areas):\n",
    "        if \"DG-\" in a or \"CA\" in a or \"MB\" in a or \"SCi\" in a or \"POST\" in a:\n",
    "            yield (c, a)"
   ]
  },
  {
   "cell_type": "code",
   "execution_count": null,
   "id": "5a3201eb-e296-4f25-a094-493f12e03910",
   "metadata": {},
   "outputs": [],
   "source": [
    "def probe_electrode_metadata(electrodes, probe, channels):\n",
    "    indices = (electrodes['group_name'][:] == probe.encode()).nonzero()[0]\n",
    "    return {\n",
    "        'areas': np.array([area.decode() for area in electrodes['location'][indices][channels]]),\n",
    "        'horizontal': electrodes['probe_horizontal_position'][indices][channels] * pq.mm,\n",
    "        'vertical': electrodes['probe_vertical_position'][indices][channels] * pq.mm,\n",
    "    }"
   ]
  },
  {
   "cell_type": "code",
   "execution_count": null,
   "id": "0b0b3d9c-2703-44b0-8a67-7e23b2bfa12f",
   "metadata": {},
   "outputs": [],
   "source": [
    "NWB_FILES = glob.glob('/mnt/data/*.nwb')"
   ]
  },
  {
   "cell_type": "code",
   "execution_count": null,
   "id": "7aee750b-52f3-4e44-bae3-d33abb0d1111",
   "metadata": {},
   "outputs": [],
   "source": [
    "PILOT_FILES = []"
   ]
  },
  {
   "cell_type": "code",
   "execution_count": null,
   "id": "9a5d8daf-d61e-4e87-b416-98c5701166de",
   "metadata": {},
   "outputs": [],
   "source": [
    "def probe_lfps(nwb, electrodes, probes):\n",
    "    signals = {}\n",
    "    for p, probe in enumerate(probes):\n",
    "        probe_lfp = \"probe_%d_lfp\" % p\n",
    "        probe_lfp = probe_lfp + \"/\" + probe_lfp + \"_data\"\n",
    "        probe_lfps = nwb['acquisition/'][probe_lfp]\n",
    "        timestamps = probe_lfps[\"timestamps\"][:]\n",
    "        dt = (timestamps[1:] - timestamps[:-1]).mean()\n",
    "        probe_data = np.transpose(probe_lfps[\"data\"])[:, :, np.newaxis]\n",
    "    \n",
    "        probe_electrodes = electrodes[\"group_name\"][:] == probe.encode()\n",
    "        channels = {\n",
    "            \"horizontal\": electrodes[\"probe_horizontal_position\"][probe_electrodes],\n",
    "            \"id\": electrodes[\"id\"][probe_electrodes],\n",
    "            \"location\": electrodes[\"location\"][probe_electrodes],\n",
    "            \"vertical\": electrodes[\"probe_vertical_position\"][probe_electrodes],\n",
    "        }\n",
    "        channels = {k: v[probe_lfps['electrodes'][:]] for k, v in channels.items()}\n",
    "        probe_channels = pd.DataFrame(data=channels, columns=[\"horizontal\", \"location\", \"vertical\"], index=channels['id'])\n",
    "        assert probe_data.shape[0] == len(probe_channels)\n",
    "    \n",
    "        signals[probe] = epych.signals.lfp.ContinuousLfp(probe_channels, probe_data, dt, timestamps)\n",
    "    return signals"
   ]
  },
  {
   "cell_type": "code",
   "execution_count": null,
   "id": "5b6bc43e-e7f1-42de-a83b-a11c1162a403",
   "metadata": {},
   "outputs": [],
   "source": [
    "def passiveglo_epochs(glo_intervals):\n",
    "    epochs = {\n",
    "        \"start\": np.array([]),\n",
    "        \"end\": np.array([]),\n",
    "        \"type\": [],\n",
    "    }\n",
    "\n",
    "    trials = trial_intervals(glo_intervals)\n",
    "    trial_times = trials[:, 0]\n",
    "    epochs[\"start\"] = np.concatenate((epochs[\"start\"], trials[:, 0]), axis=0)\n",
    "    epochs[\"end\"] = np.concatenate((epochs[\"end\"], trials[:, 1]), axis=0)\n",
    "    epochs[\"type\"] = epochs[\"type\"] + [\"trial\"] * trials.shape[0]\n",
    "\n",
    "    for condition in CONDITIONS:\n",
    "        cond_times = epoch_intervals(glo_intervals, condition)\n",
    "        epochs[\"start\"] = np.concatenate((epochs[\"start\"], cond_times[:, 0]), axis=0)\n",
    "        epochs[\"end\"] = np.concatenate((epochs[\"end\"], cond_times[:, 1]), axis=0)\n",
    "        epochs[\"type\"] = epochs[\"type\"] + [condition] * cond_times.shape[0]\n",
    "\n",
    "    stim_times = trial_stimulus_intervals(glo_intervals)\n",
    "    for k, v in stim_times.items():\n",
    "        epochs[\"start\"] = np.concatenate((epochs[\"start\"], v[:, 0]), axis=0)\n",
    "        epochs[\"end\"] = np.concatenate((epochs[\"end\"], v[:, 1]), axis=0)\n",
    "        epochs[\"type\"] = epochs[\"type\"] + [\"stim%d\" % k] * v.shape[0]\n",
    "\n",
    "    return pd.DataFrame(data=epochs, columns=epochs.keys())"
   ]
  },
  {
   "cell_type": "code",
   "execution_count": null,
   "id": "104b1db1-5cc1-4736-b597-73329415991c",
   "metadata": {},
   "outputs": [],
   "source": [
    "def nwbfile_recording(nwb_file, required_probes=6):\n",
    "    nwb = h5py.File(nwb_file, 'r')\n",
    "    try:\n",
    "        electrodes = nwb['general']['extracellular_ephys']['electrodes']\n",
    "        probes = sorted([probe.decode() for probe in set(electrodes['group_name'][:])])\n",
    "        if len(probes) < required_probes:\n",
    "            PILOT_FILES.append(nwb_file)\n",
    "            return None\n",
    "        glo_intervals = nwb['intervals']['passive_glo']\n",
    "    \n",
    "        epochs = passiveglo_epochs(glo_intervals)\n",
    "        signals = probe_lfps(nwb, electrodes, probes)\n",
    "    \n",
    "        units = {\"start\": pq.second, \"end\": pq.second}\n",
    "        return epych.recording.Recording(epochs, pd.DataFrame(columns=[\"trial\"]).set_index(\"trial\"), units, **signals)\n",
    "    finally:\n",
    "        nwb.close()"
   ]
  },
  {
   "cell_type": "code",
   "execution_count": null,
   "id": "6da6203d-4efd-4528-b5f6-2e9b7103aa41",
   "metadata": {},
   "outputs": [],
   "source": [
    "erps = {}"
   ]
  },
  {
   "cell_type": "code",
   "execution_count": null,
   "id": "abd0cedb-cec4-439d-bed1-4d1f41487854",
   "metadata": {},
   "outputs": [],
   "source": [
    "GOOD_NWB_FILES = []\n",
    "good_recordings = []"
   ]
  },
  {
   "cell_type": "code",
   "execution_count": null,
   "id": "173432e5-5027-43cb-bc7f-05d0412c9b07",
   "metadata": {},
   "outputs": [],
   "source": [
    "for f, nwb_file in enumerate(NWB_FILES):\n",
    "    recording = nwbfile_recording(nwb_file)\n",
    "    if recording is None:\n",
    "        continue\n",
    "    else:\n",
    "        GOOD_NWB_FILES.append(nwb_file)\n",
    "        for cond in CONDITIONS:\n",
    "            condition_epochs = recording.intervals[\"type\"] == cond\n",
    "            trial_epochs = recording.intervals[\"type\"] == \"trial\"\n",
    "            sampling = recording.epoch(condition_epochs, trial_epochs, PRETRIAL_SECONDS, POSTTRIAL_SECONDS).baseline_correct(0, PRETRIAL_SECONDS)\n",
    "            erps[(nwb_file, cond)] = sampling.erp()\n",
    "            del sampling\n",
    "        del recording"
   ]
  },
  {
   "cell_type": "code",
   "execution_count": null,
   "id": "6417ba61-a513-443c-a89f-aa3ae48e96e9",
   "metadata": {},
   "outputs": [],
   "source": [
    "for cond in CONDITIONS:\n",
    "    print(cond)\n",
    "    for nwb_file in GOOD_NWB_FILES:\n",
    "        erps[(nwb_file, cond)].plot(vmin=-1e-4, vmax=1e-4)"
   ]
  },
  {
   "cell_type": "code",
   "execution_count": null,
   "id": "ae302af3-35c8-4a8a-afc6-0c3a28eba93d",
   "metadata": {},
   "outputs": [],
   "source": [
    "# for cond in CONDITIONS:\n",
    "#     for f, nwb_file in enumerate(NWB_FILES):\n",
    "#         nwb = h5py.File(nwb_file, 'r')\n",
    "#         electrodes = nwb['general']['extracellular_ephys']['electrodes']\n",
    "#         probes = sorted([probe.decode() for probe in set(electrodes['group_name'][:])])\n",
    "#         glo_intervals = nwb['intervals']['passive_glo']\n",
    "#         intervals = trial_intervals_with_event(glo_intervals, cond)\n",
    "#         if len(probes) < 6:\n",
    "#             PILOT_FILES.append(nwb_file)\n",
    "\n",
    "#         for p, probe in enumerate(probes):\n",
    "#             lfp_name = \"probe_\" + str(p) + \"_lfp\"\n",
    "#             probe_lfps = nwb['acquisition'][lfp_name][lfp_name + '_data']\n",
    "            \n",
    "#             lfp_hz = int(1 / (probe_lfps['timestamps'][1] - probe_lfps['timestamps'][0]))\n",
    "#             assert lfp_hz > 0\n",
    "#             baseline_samples = int(lfp_hz * PRETRIAL_SECONDS)\n",
    "\n",
    "#             start_samples = nearest_indices(probe_lfps['timestamps'][:], intervals[:, 0] - PRETRIAL_SECONDS)\n",
    "#             stop_samples = nearest_indices(probe_lfps['timestamps'][:], intervals[:, 1] + POSTTRIAL_SECONDS)\n",
    "#             trial_length = (stop_samples - start_samples).min()\n",
    "#             assert trial_length > 0\n",
    "#             for t in range(len(stop_samples)):\n",
    "#                 if stop_samples[t] - start_samples[t] > trial_length:\n",
    "#                     stop_samples[t] = start_samples[t] + trial_length\n",
    "\n",
    "#             trial_lfps = epoch_timeseries(probe_lfps['data'], zip(start_samples, stop_samples))\n",
    "#             trial_lfps = np.swapaxes(trial_lfps, 0, 1)\n",
    "            \n",
    "#             erps[(cond, nwb_file, probe)] = correct_baseline(trial_lfps, 0, baseline_samples-1).mean(axis=-1)\n",
    "#             logging.info(\"Calculated ERP for %s\" % probe)\n",
    "#         logging.info(\"Calculated ERPs for %s\" % nwb_file)\n",
    "#         nwb.close()\n",
    "#     logging.info(\"Calculated ERPs for %s\" % cond)"
   ]
  },
  {
   "cell_type": "code",
   "execution_count": null,
   "id": "ec1226b5-b86d-4f65-b31c-2b064a0be4d2",
   "metadata": {},
   "outputs": [],
   "source": [
    "# for cond in CONDITIONS:\n",
    "#     fig, axes = plt.subplots(len(GOOD_NWB_FILES), 6, figsize=(6 * 15, 15))\n",
    "#     fig.suptitle(cond)\n",
    "\n",
    "#     for f, nwb_file in enumerate(GOOD_NWB_FILES):\n",
    "#         nwb = h5py.File(nwb_file, 'r')\n",
    "#         electrodes = nwb['general']['extracellular_ephys']['electrodes']\n",
    "#         probes = sorted([probe.decode() for probe in set(electrodes['group_name'][:])])\n",
    "#         glo_intervals = nwb['intervals']['passive_glo']\n",
    "#         trial_intervals = trial_intervals_with_event(glo_intervals, cond)\n",
    "#         condstim_intervals = event_intervals(glo_intervals, cond)\n",
    "#         stim_onset, stim_offset = (condstim_intervals - trial_intervals[:, np.newaxis, 0]).mean(axis=0)\n",
    "\n",
    "#         for p, probe in enumerate(probes):\n",
    "#             lfp_name = \"probe_\" + str(p) + \"_lfp\"\n",
    "#             probe_lfps = nwb['acquisition'][lfp_name][lfp_name + '_data']\n",
    "#             probe_electrodes = probe_electrode_metadata(electrodes, probe, probe_lfps['electrodes'][:])\n",
    "#             lfp_hz = int(1 / (probe_lfps['timestamps'][1] - probe_lfps['timestamps'][0]))\n",
    "#             visual_channels = list(visual_areas(probe_electrodes['areas']))\n",
    "#             areas = [a for (c, a) in visual_channels]\n",
    "#             cs = [c for (c, a) in visual_channels]\n",
    "#             probe_area = os.path.commonprefix(areas)\n",
    "\n",
    "#             plot_heatmap(fig, axes[f, p], erps[(cond, nwb_file, probe)][cs], os.path.basename(nwb_file) + '/' + probe_area, vmin=-1e-4, vmax=1e-4)\n",
    "#             mark_areas(axes[f, p], areas)\n",
    "#             axes[f, p].axvline((stim_onset + PRETRIAL_SECONDS) * lfp_hz, linestyle='--', color='lightgreen')\n",
    "#             axes[f, p].axvline((stim_offset + PRETRIAL_SECONDS) * lfp_hz, linestyle='--', color='red')\n",
    "\n",
    "#             trial_samples = erps[(cond, nwb_file, probe)].shape[1]\n",
    "#             xtick_locs = np.linspace(0, trial_samples, 20)\n",
    "#             xticks = np.linspace(0., trial_samples / lfp_hz, 20) - stim_onset - PRETRIAL_SECONDS\n",
    "#             xticks = [\"%0.2f\" % t for t in xticks]\n",
    "#             axes[f, p].set_xticks(xtick_locs, xticks)\n",
    "\n",
    "#         nwb.close()\n",
    "\n",
    "#     fig.tight_layout()\n",
    "#     plt.show()\n",
    "#     fig.savefig(cond + '_visual_erps.pdf')\n",
    "#     plt.close(fig)"
   ]
  },
  {
   "cell_type": "code",
   "execution_count": null,
   "id": "d10712cc-5049-4081-afed-a5cf28e793de",
   "metadata": {},
   "outputs": [],
   "source": [
    "# for cond in CONDITIONS:\n",
    "#     fig, axes = plt.subplots(len(GOOD_NWB_FILES), 6, figsize=(6 * 15, 15))\n",
    "#     fig.suptitle(cond)\n",
    "\n",
    "#     for f, nwb_file in enumerate(GOOD_NWB_FILES):\n",
    "#         nwb = h5py.File(nwb_file, 'r')\n",
    "#         electrodes = nwb['general']['extracellular_ephys']['electrodes']\n",
    "#         probes = sorted([probe.decode() for probe in set(electrodes['group_name'][:])])\n",
    "#         glo_intervals = nwb['intervals']['passive_glo']\n",
    "#         trial_intervals = trial_intervals_with_event(glo_intervals, cond)\n",
    "#         condstim_intervals = event_intervals(glo_intervals, cond)\n",
    "#         stim_onset, stim_offset = (condstim_intervals - trial_intervals[:, np.newaxis, 0]).mean(axis=0)\n",
    "\n",
    "#         for p, probe in enumerate(probes):\n",
    "#             lfp_name = \"probe_\" + str(p) + \"_lfp\"\n",
    "#             probe_lfps = nwb['acquisition'][lfp_name][lfp_name + '_data']\n",
    "#             probe_electrodes = probe_electrode_metadata(electrodes, probe, probe_lfps['electrodes'][:])\n",
    "#             lfp_hz = int(1 / (probe_lfps['timestamps'][1] - probe_lfps['timestamps'][0]))\n",
    "\n",
    "#             subcortical_channels = list(subcortical_areas(probe_electrodes['areas']))\n",
    "#             areas = [a for (c, a) in subcortical_channels]\n",
    "#             cs = [c for (c, a) in subcortical_channels]\n",
    "#             probe_area = os.path.commonprefix(areas)\n",
    "\n",
    "#             plot_heatmap(fig, axes[f, p], erps[(cond, nwb_file, probe)][cs], os.path.basename(nwb_file) + '/' + probe_area, vmin=-1e-4, vmax=1e-4)\n",
    "#             mark_areas(axes[f, p], areas)\n",
    "#             axes[f, p].axvline((stim_onset + PRETRIAL_SECONDS) * lfp_hz, linestyle='--', color='lightgreen')\n",
    "#             axes[f, p].axvline((stim_offset + PRETRIAL_SECONDS) * lfp_hz, linestyle='--', color='red')\n",
    "\n",
    "#             trial_samples = erps[(cond, nwb_file, probe)].shape[1]\n",
    "#             xtick_locs = np.linspace(0, trial_samples, 20)\n",
    "#             xticks = np.linspace(0., trial_samples / lfp_hz, 20) - stim_onset - PRETRIAL_SECONDS\n",
    "#             xticks = [\"%0.2f\" % t for t in xticks]\n",
    "#             axes[f, p].set_xticks(xtick_locs, xticks)\n",
    "\n",
    "#         nwb.close()\n",
    "\n",
    "#     fig.tight_layout()\n",
    "#     plt.show()\n",
    "#     fig.savefig(cond + '_subcortical_erps.pdf')\n",
    "#     plt.close(fig)"
   ]
  },
  {
   "cell_type": "code",
   "execution_count": null,
   "id": "eb052860-0254-4b52-8e35-62f1d4de63a4",
   "metadata": {},
   "outputs": [],
   "source": []
  },
  {
   "cell_type": "code",
   "execution_count": null,
   "id": "de4d8849-54f9-4cae-a5d4-2e9b4779bc22",
   "metadata": {},
   "outputs": [],
   "source": []
  },
  {
   "cell_type": "code",
   "execution_count": null,
   "id": "fb6094ff-2097-43a3-a7d0-5cfdb0d0a195",
   "metadata": {},
   "outputs": [],
   "source": []
  }
 ],
 "metadata": {
  "kernelspec": {
   "display_name": "Python [conda env:ephys] *",
   "language": "python",
   "name": "conda-env-ephys-py"
  },
  "language_info": {
   "codemirror_mode": {
    "name": "ipython",
    "version": 3
   },
   "file_extension": ".py",
   "mimetype": "text/x-python",
   "name": "python",
   "nbconvert_exporter": "python",
   "pygments_lexer": "ipython3",
   "version": "3.11.6"
  }
 },
 "nbformat": 4,
 "nbformat_minor": 5
}
