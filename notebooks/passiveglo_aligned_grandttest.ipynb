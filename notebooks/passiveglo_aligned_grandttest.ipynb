{
 "cells": [
  {
   "cell_type": "code",
   "execution_count": null,
   "id": "8d64ff37-0c6f-45c3-8002-eca757bdc33a",
   "metadata": {},
   "outputs": [],
   "source": [
    "%cd .."
   ]
  },
  {
   "cell_type": "code",
   "execution_count": null,
   "id": "5d084a58-aaf7-42ce-8a8f-c57167b37658",
   "metadata": {},
   "outputs": [],
   "source": [
    "%load_ext autoreload\n",
    "%autoreload 2"
   ]
  },
  {
   "cell_type": "code",
   "execution_count": null,
   "id": "58a51e18-e847-479b-b3a6-f785f02ea137",
   "metadata": {},
   "outputs": [],
   "source": [
    "import collections\n",
    "import glob\n",
    "import functools\n",
    "import logging\n",
    "import math\n",
    "import matplotlib.pyplot as plt\n",
    "import numpy as np\n",
    "import os\n",
    "import pickle\n",
    "import quantities as pq\n",
    "\n",
    "import epych\n",
    "from epych.statistics import alignment, grand"
   ]
  },
  {
   "cell_type": "code",
   "execution_count": null,
   "id": "98c35185-db98-4e9b-a72b-efff6723c1e7",
   "metadata": {},
   "outputs": [],
   "source": [
    "%matplotlib inline"
   ]
  },
  {
   "cell_type": "code",
   "execution_count": null,
   "id": "f0fc9442-7bc4-44a9-ba16-145472382f52",
   "metadata": {},
   "outputs": [],
   "source": [
    "logging.basicConfig(level=logging.INFO)"
   ]
  },
  {
   "cell_type": "code",
   "execution_count": null,
   "id": "8a8fe153-26d2-45a1-bae9-46ed1912d585",
   "metadata": {},
   "outputs": [],
   "source": [
    "CONDITIONS = [\"go_gloexp\", \"go_seqctl\", \"lo_gloexp\", \"lonaive\", \"lo_rndctl\", \"igo_seqctl\"]\n",
    "PRETRIAL_SECONDS = 0.5\n",
    "POSTTRIAL_SECONDS = 0.5"
   ]
  },
  {
   "cell_type": "code",
   "execution_count": null,
   "id": "0b0b3d9c-2703-44b0-8a67-7e23b2bfa12f",
   "metadata": {},
   "outputs": [],
   "source": [
    "NWB_SUBJECTS = glob.glob('/mnt/data/000253/sub-*/')"
   ]
  },
  {
   "cell_type": "code",
   "execution_count": null,
   "id": "7aee750b-52f3-4e44-bae3-d33abb0d1111",
   "metadata": {},
   "outputs": [],
   "source": [
    "PILOT_FILES = []"
   ]
  },
  {
   "cell_type": "code",
   "execution_count": null,
   "id": "566e8204-3c64-4252-b3e5-cee362f600fc",
   "metadata": {},
   "outputs": [],
   "source": [
    "aligner = epych.statistics.alignment.AlignmentSummary.unpickle(\"/mnt/data/000253/visual_alignment\")"
   ]
  },
  {
   "cell_type": "code",
   "execution_count": null,
   "id": "d86ca4fc-93ea-4894-977b-2241f819b995",
   "metadata": {},
   "outputs": [],
   "source": [
    "def initialize_grand_variance(cond, key, signal):\n",
    "    area = os.path.commonprefix([loc.decode() for loc in signal.channels.location])\n",
    "    return epych.statistics.grand.GrandVariance(aligner.stats[area], avgs[cond].signals[area])"
   ]
  },
  {
   "cell_type": "code",
   "execution_count": null,
   "id": "a5888644-c0cb-4e2b-97e0-37ae217f2669",
   "metadata": {},
   "outputs": [],
   "source": [
    "summaries = {}"
   ]
  },
  {
   "cell_type": "code",
   "execution_count": null,
   "id": "f060f515-548e-40d7-a661-ca110d22185a",
   "metadata": {},
   "outputs": [],
   "source": [
    "for cond in CONDITIONS:\n",
    "    summaries[cond] = epych.statistic.Summary.unpickle(\"/mnt/data/mice_passiveglo_grandvariance_%s\" % cond, grand.GrandVariance)\n",
    "    for variance in summaries[cond].stats.values():\n",
    "        variance.mean._data = (variance.mean.data * pq.units.volt).rescale('mV')\n",
    "        variance.mean._timestamps = variance.mean._timestamps * pq.second\n",
    "        variance.mean._dt = variance.mean._dt * pq.second\n",
    "        variance.data[\"diffs\"] = (variance.data[\"diffs\"] * pq.volt ** 2).rescale('mV**2')\n",
    "    logging.info(\"Loaded grand mean and variance of LFPs for condition %s\" % cond)"
   ]
  },
  {
   "cell_type": "code",
   "execution_count": null,
   "id": "74c7cfae-4692-4192-90ae-1a24e378c760",
   "metadata": {},
   "outputs": [],
   "source": [
    "area_titles = {\n",
    "    \"VISal\": \"AL\",\n",
    "    \"VISam\": \"AM\",\n",
    "    \"VISl\": \"LM\",\n",
    "    \"VISp\": \"V1\",\n",
    "    \"VISpm\": \"PM\",\n",
    "    \"VISrl\": \"RL\",\n",
    "}\n",
    "def sigtitle(name, signal):\n",
    "    if name in area_titles:\n",
    "        return area_titles[name]\n",
    "    return name"
   ]
  },
  {
   "cell_type": "code",
   "execution_count": null,
   "id": "28408df6-5625-4a90-8e3d-5d7f9912851e",
   "metadata": {},
   "outputs": [],
   "source": [
    "ADAPTED_ONSET = pq.Quantity(-1.0) * pq.second\n",
    "ADAPTED_OFFSET = pq.Quantity(-0.5) * pq.second\n",
    "ODDBALL_ONSET = pq.Quantity(-1.9017372477960602e-14) * pq.second\n",
    "ODDBALL_OFFSET = pq.Quantity(0.5004545430388676) * pq.second\n",
    "EVENTS = {\n",
    "    \"Onset\": (ODDBALL_ONSET.magnitude, 'lightgreen'),\n",
    "    \"Offset\": (ODDBALL_OFFSET.magnitude, 'red'),\n",
    "}"
   ]
  },
  {
   "cell_type": "code",
   "execution_count": null,
   "id": "330c7fbc-7078-455d-9690-8221456567a0",
   "metadata": {},
   "outputs": [],
   "source": [
    "PVALUE = 1e-2"
   ]
  },
  {
   "cell_type": "code",
   "execution_count": null,
   "id": "e6d24b95-33a5-4e98-a494-8d6c3162f787",
   "metadata": {},
   "outputs": [],
   "source": [
    "def compute_contrast(condl, condr):\n",
    "    contrast = epych.statistics.grand.summary_t_test(summaries[condl], summaries[condr])\n",
    "    lfp_diffs, csd_diffs = {}, {}\n",
    "    for area in sorted(contrast.keys()):\n",
    "        meanl, meanr = summaries[condl].stats[area].mean, summaries[condr].stats[area].mean\n",
    "        diff_data = (meanl.data - meanr.data) * (contrast[area][1] < PVALUE)\n",
    "        lfp_diffs[area] = epych.signals.lfp.EvokedLfp(meanl.channels, diff_data, meanl.dt, meanl.times)\n",
    "\n",
    "        csdl, csdr = meanl.downsample(4).current_source_density(depth_column=\"vertical\"), meanr.downsample(4).current_source_density(depth_column=\"vertical\")\n",
    "        csdl._data, csdr._data = csdl.data.rescale('nA / mm**2'), csdr.data.rescale('nA / mm**2')\n",
    "        diff_data = (csdl.data - csdr.data)* (contrast[area][1][::4, :, :] < PVALUE)\n",
    "        csd_diffs[area] = epych.signals.lfp.EvokedLfp(meanl.channels[::4], diff_data, meanl.dt, meanl.times)\n",
    "\n",
    "    lfps = epych.recording.EvokedSampling(epych.recording.empty_intervals(), epych.recording.empty_trials(), epych.recording.default_units(),\n",
    "                                          **lfp_diffs)\n",
    "    csds = epych.recording.EvokedSampling(epych.recording.empty_intervals(), epych.recording.empty_trials(), epych.recording.default_units(),\n",
    "                                          **csd_diffs)\n",
    "    return contrast, lfps, csds"
   ]
  },
  {
   "cell_type": "code",
   "execution_count": null,
   "id": "2e677d88-e96d-4a16-8093-6a6fa19bf802",
   "metadata": {},
   "outputs": [],
   "source": [
    "def plot_contrast(name, condl, condr):\n",
    "    contrast, lfps, csd = compute_contrast(condl, condr)\n",
    "    lfps.plot(vmin=-1e-1, vmax=1e-1, figure=name + \"_all_lfps.png\", sigtitle=sigtitle, **EVENTS)\n",
    "    csd.plot_signals(name + \"/significant\", cmap='PiYG', sigtitle=sigtitle, **EVENTS)"
   ]
  },
  {
   "cell_type": "code",
   "execution_count": null,
   "id": "86b82e39-8e96-407e-8cd1-730bc6348dbb",
   "metadata": {},
   "outputs": [],
   "source": [
    "CONTRASTS = [(\"logo\", \"lo_gloexp\", \"go_gloexp\"), (\"go_contrast\", \"go_gloexp\", \"go_seqctl\"), (\"lo_contrast\", \"lo_gloexp\", \"lo_rndctl\"), (\"ssa\", \"lo_gloexp\", \"igo_seqctl\"), (\"dd\", \"lo_rndctl\", \"lonaive\")]"
   ]
  },
  {
   "cell_type": "code",
   "execution_count": null,
   "id": "cada3f4a-fc71-4308-9de0-302a6935045b",
   "metadata": {},
   "outputs": [],
   "source": [
    "for (contrast, condl, condr) in CONTRASTS:\n",
    "    plot_contrast(contrast, condl, condr)\n",
    "    logging.info(\"Plotted grand t-test contrasts for %s\" % contrast)"
   ]
  },
  {
   "cell_type": "code",
   "execution_count": null,
   "id": "62f84523-9795-46b3-88ba-66b9a991f610",
   "metadata": {},
   "outputs": [],
   "source": [
    "OFFSET = np.array(0.25) * pq.second\n",
    "\n",
    "def subtraction_variance(cond_summary):\n",
    "    result = cond_summary.__class__(cond_summary.signal_key, cond_summary.stat)\n",
    "    for area, grand_var in cond_summary.stats.items():\n",
    "        alignment = grand_var.alignment\n",
    "        mean, variance = grand_var.mean, grand_var.result()\n",
    "        mean_subtraction = mean[(ODDBALL_ONSET - OFFSET).magnitude:(ODDBALL_OFFSET + OFFSET).magnitude] - mean[(ADAPTED_ONSET - OFFSET).magnitude:(ADAPTED_OFFSET + OFFSET).magnitude]\n",
    "        mean_subtraction = mean_subtraction.shift_timestamps(-OFFSET)\n",
    "        variance_addition = variance[(ODDBALL_ONSET - OFFSET).magnitude:(ODDBALL_OFFSET + OFFSET).magnitude] + variance[(ADAPTED_ONSET - OFFSET).magnitude:(ADAPTED_OFFSET + OFFSET).magnitude]\n",
    "        variance_addition = variance_addition.shift_timestamps(-OFFSET)\n",
    "        result._stats[area] = grand.GrandVariance(alignment, mean_subtraction)\n",
    "        result.stats[area].data[\"diffs\"] = variance_addition.data * (grand_var.data[\"n\"] - 1)\n",
    "        result.stats[area].data[\"k\"] = grand_var.data[\"k\"]\n",
    "        result.stats[area].data[\"n\"] = grand_var.data[\"n\"]\n",
    "    return result"
   ]
  },
  {
   "cell_type": "code",
   "execution_count": null,
   "id": "13f35531-0cb5-4328-ae50-b47d4d9b2130",
   "metadata": {},
   "outputs": [],
   "source": [
    "CONTRAST_STDS = {}"
   ]
  },
  {
   "cell_type": "code",
   "execution_count": null,
   "id": "c7f503bd-8bec-4d27-8335-a73dba52cc6d",
   "metadata": {},
   "outputs": [],
   "source": [
    "def compute_subtraction_contrast(name, condl, condr):\n",
    "    summaryl = subtraction_variance(summaries[condl])\n",
    "    summaryr = subtraction_variance(summaries[condr])\n",
    "    contrast = epych.statistics.grand.summary_t_test(summaryl, summaryr)\n",
    "    lfp_diffs, csd_diffs = {}, {}\n",
    "    for area in sorted(contrast.keys()):\n",
    "        meanl, meanr = summaryl.stats[area].mean, summaryr.stats[area].mean\n",
    "        diff_data = (meanl.data - meanr.data) * (contrast[area][1] < PVALUE)\n",
    "        lfp_diffs[area] = epych.signals.lfp.EvokedLfp(meanl.channels, diff_data, meanl.dt, meanl.times)\n",
    "\n",
    "        csdl, csdr = meanl.downsample(4).current_source_density(depth_column=\"vertical\"), meanr.downsample(4).current_source_density(depth_column=\"vertical\")\n",
    "        csdl._data, csdr._data = csdl.data.rescale('nA / mm**2'), csdr.data.rescale('nA / mm**2')\n",
    "        diff_data = (csdl.data - csdr.data) * (contrast[area][1][::4, :, :] < PVALUE)\n",
    "        if name not in CONTRAST_STDS:\n",
    "            CONTRAST_STDS[name] = {}\n",
    "        CONTRAST_STDS[name][area] = diff_data.std()\n",
    "        csd_diffs[area] = epych.signals.lfp.EvokedLfp(meanl.channels[::4], diff_data, meanl.dt, meanl.times)\n",
    "\n",
    "    lfps = epych.recording.EvokedSampling(epych.recording.empty_intervals(), epych.recording.empty_trials(), epych.recording.default_units(),\n",
    "                                          **lfp_diffs)\n",
    "    csds = epych.recording.EvokedSampling(epych.recording.empty_intervals(), epych.recording.empty_trials(), epych.recording.default_units(),\n",
    "                                          **csd_diffs)\n",
    "    return contrast, lfps, csds"
   ]
  },
  {
   "cell_type": "code",
   "execution_count": null,
   "id": "c0a98f95-d784-4557-b331-7757e1100d31",
   "metadata": {},
   "outputs": [],
   "source": [
    "def plot_subtraction_contrast(name, condl, condr):\n",
    "    contrast, lfps, csd = compute_subtraction_contrast(name, condl, condr)\n",
    "    lfps.plot(vmin=-1e-1, vmax=1e-1, figure=name + \"_4minus3_all_lfps.svg\", sigtitle=sigtitle, **EVENTS)\n",
    "    csd.plot_signals(name + \"_4minus3_significant\", vmaxs={area: 2 * std_dev for area, std_dev in CONTRAST_STDS[name].items()}, vmins={area: -2 * std_dev for area, std_dev in CONTRAST_STDS[name].items()},\n",
    "                     sigtitle=sigtitle, cmap='PiYG', **EVENTS)"
   ]
  },
  {
   "cell_type": "code",
   "execution_count": null,
   "id": "f30daeda-f5e2-4f31-a278-ace1b07d1300",
   "metadata": {},
   "outputs": [],
   "source": [
    "for (contrast, condl, condr) in CONTRASTS:\n",
    "    plot_subtraction_contrast(contrast, condl, condr)\n",
    "    logging.info(\"Plotted grand t-test of 4th-minus-3rd contrasts for %s\" % contrast)"
   ]
  },
  {
   "cell_type": "code",
   "execution_count": null,
   "id": "e00ef419-b166-41b6-be12-5fecd8809cdc",
   "metadata": {},
   "outputs": [],
   "source": []
  }
 ],
 "metadata": {
  "kernelspec": {
   "display_name": "Python [conda env:ephys] *",
   "language": "python",
   "name": "conda-env-ephys-py"
  },
  "language_info": {
   "codemirror_mode": {
    "name": "ipython",
    "version": 3
   },
   "file_extension": ".py",
   "mimetype": "text/x-python",
   "name": "python",
   "nbconvert_exporter": "python",
   "pygments_lexer": "ipython3",
   "version": "3.11.9"
  }
 },
 "nbformat": 4,
 "nbformat_minor": 5
}
