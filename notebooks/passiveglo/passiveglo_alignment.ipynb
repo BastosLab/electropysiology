{
 "cells": [
  {
   "cell_type": "code",
   "execution_count": 1,
   "id": "8d64ff37-0c6f-45c3-8002-eca757bdc33a",
   "metadata": {},
   "outputs": [
    {
     "name": "stdout",
     "output_type": "stream",
     "text": [
      "/home/eli/AnacondaProjects/epych\n"
     ]
    }
   ],
   "source": [
    "%cd .."
   ]
  },
  {
   "cell_type": "code",
   "execution_count": 2,
   "id": "5d084a58-aaf7-42ce-8a8f-c57167b37658",
   "metadata": {},
   "outputs": [],
   "source": [
    "%load_ext autoreload\n",
    "%autoreload 2"
   ]
  },
  {
   "cell_type": "code",
   "execution_count": 3,
   "id": "58a51e18-e847-479b-b3a6-f785f02ea137",
   "metadata": {},
   "outputs": [],
   "source": [
    "import glob\n",
    "import logging\n",
    "import math\n",
    "import matplotlib.pyplot as plt\n",
    "import numpy as np\n",
    "import os\n",
    "import pickle\n",
    "import quantities as pq\n",
    "\n",
    "import epych"
   ]
  },
  {
   "cell_type": "code",
   "execution_count": 4,
   "id": "98c35185-db98-4e9b-a72b-efff6723c1e7",
   "metadata": {},
   "outputs": [],
   "source": [
    "%matplotlib inline"
   ]
  },
  {
   "cell_type": "code",
   "execution_count": 5,
   "id": "f0fc9442-7bc4-44a9-ba16-145472382f52",
   "metadata": {},
   "outputs": [],
   "source": [
    "logging.basicConfig(level=logging.INFO)"
   ]
  },
  {
   "cell_type": "code",
   "execution_count": 6,
   "id": "8a8fe153-26d2-45a1-bae9-46ed1912d585",
   "metadata": {},
   "outputs": [],
   "source": [
    "CONDITIONS = [\"go_gloexp\", \"go_seqctl\", \"lo_gloexp\", \"lo_rndctl\", \"igo_seqctl\"]\n",
    "PRETRIAL_SECONDS = 0.5\n",
    "POSTTRIAL_SECONDS = 0.5"
   ]
  },
  {
   "cell_type": "code",
   "execution_count": 7,
   "id": "0b0b3d9c-2703-44b0-8a67-7e23b2bfa12f",
   "metadata": {},
   "outputs": [],
   "source": [
    "NWB_SUBJECTS = glob.glob('/mnt/data/DRAFT/000253/sub-*/')"
   ]
  },
  {
   "cell_type": "code",
   "execution_count": 8,
   "id": "7aee750b-52f3-4e44-bae3-d33abb0d1111",
   "metadata": {},
   "outputs": [],
   "source": [
    "PILOT_FILES = []"
   ]
  },
  {
   "cell_type": "code",
   "execution_count": 9,
   "id": "ae302af3-35c8-4a8a-afc6-0c3a28eba93d",
   "metadata": {},
   "outputs": [],
   "source": [
    "def samplings():\n",
    "    for cond in CONDITIONS:\n",
    "        for s, subject_dir in enumerate(sorted(NWB_SUBJECTS)):\n",
    "            subject = subject_dir.split('/')[-2]\n",
    "            if not os.path.exists(subject_dir + \"/\" + cond):\n",
    "                continue\n",
    "            sampling = epych.recording.Sampling.unpickle(subject_dir + \"/\" + cond).smap(lambda sig: sig.select_channels([\"VIS\" in loc for loc in sig.channels.location]))\n",
    "            yield sampling\n",
    "            del sampling\n",
    "            logging.info(\"Loaded LFPs for %s in subject %s\" % (cond, subject))\n",
    "        logging.info(\"Loaded LFPs for %s\" % cond)"
   ]
  },
  {
   "cell_type": "code",
   "execution_count": 10,
   "id": "a69f5a1c-59f6-4be5-8a38-285cb605016d",
   "metadata": {},
   "outputs": [],
   "source": [
    "alignment = epych.statistics.alignment.AlignmentSummary()"
   ]
  },
  {
   "cell_type": "code",
   "execution_count": 11,
   "id": "33f5c5e5-9ab0-4d18-b915-400e65c910ac",
   "metadata": {},
   "outputs": [
    {
     "name": "stderr",
     "output_type": "stream",
     "text": [
      "INFO:root:Loaded LFPs for go_gloexp in subject sub-621890\n",
      "INFO:root:Loaded LFPs for go_gloexp in subject sub-632485\n",
      "INFO:root:Loaded LFPs for go_gloexp in subject sub-632487\n",
      "INFO:root:Loaded LFPs for go_gloexp in subject sub-637542\n",
      "INFO:root:Loaded LFPs for go_gloexp in subject sub-637908\n",
      "INFO:root:Loaded LFPs for go_gloexp in subject sub-637909\n",
      "INFO:root:Loaded LFPs for go_gloexp in subject sub-640507\n",
      "INFO:root:Loaded LFPs for go_gloexp in subject sub-642507\n",
      "INFO:root:Loaded LFPs for go_gloexp in subject sub-645322\n",
      "INFO:root:Loaded LFPs for go_gloexp in subject sub-645324\n",
      "INFO:root:Loaded LFPs for go_gloexp in subject sub-645495\n",
      "INFO:root:Loaded LFPs for go_gloexp in subject sub-647836\n",
      "INFO:root:Loaded LFPs for go_gloexp in subject sub-649323\n",
      "INFO:root:Loaded LFPs for go_gloexp in subject sub-649324\n",
      "INFO:root:Loaded LFPs for go_gloexp\n",
      "INFO:root:Loaded LFPs for go_seqctl in subject sub-621890\n",
      "INFO:root:Loaded LFPs for go_seqctl in subject sub-632485\n",
      "INFO:root:Loaded LFPs for go_seqctl in subject sub-632487\n",
      "INFO:root:Loaded LFPs for go_seqctl in subject sub-637542\n",
      "INFO:root:Loaded LFPs for go_seqctl in subject sub-637908\n",
      "INFO:root:Loaded LFPs for go_seqctl in subject sub-637909\n",
      "INFO:root:Loaded LFPs for go_seqctl in subject sub-640507\n",
      "INFO:root:Loaded LFPs for go_seqctl in subject sub-642507\n",
      "INFO:root:Loaded LFPs for go_seqctl in subject sub-645322\n",
      "INFO:root:Loaded LFPs for go_seqctl in subject sub-645324\n",
      "INFO:root:Loaded LFPs for go_seqctl in subject sub-645495\n",
      "INFO:root:Loaded LFPs for go_seqctl in subject sub-647836\n",
      "INFO:root:Loaded LFPs for go_seqctl in subject sub-649323\n",
      "INFO:root:Loaded LFPs for go_seqctl in subject sub-649324\n",
      "INFO:root:Loaded LFPs for go_seqctl\n",
      "INFO:root:Loaded LFPs for lo_gloexp in subject sub-621890\n",
      "INFO:root:Loaded LFPs for lo_gloexp in subject sub-632485\n",
      "INFO:root:Loaded LFPs for lo_gloexp in subject sub-632487\n",
      "INFO:root:Loaded LFPs for lo_gloexp in subject sub-637542\n",
      "INFO:root:Loaded LFPs for lo_gloexp in subject sub-637908\n",
      "INFO:root:Loaded LFPs for lo_gloexp in subject sub-637909\n",
      "INFO:root:Loaded LFPs for lo_gloexp in subject sub-640507\n",
      "INFO:root:Loaded LFPs for lo_gloexp in subject sub-642507\n",
      "INFO:root:Loaded LFPs for lo_gloexp in subject sub-645322\n",
      "INFO:root:Loaded LFPs for lo_gloexp in subject sub-645324\n",
      "INFO:root:Loaded LFPs for lo_gloexp in subject sub-645495\n",
      "INFO:root:Loaded LFPs for lo_gloexp in subject sub-647836\n",
      "INFO:root:Loaded LFPs for lo_gloexp in subject sub-649323\n",
      "INFO:root:Loaded LFPs for lo_gloexp in subject sub-649324\n",
      "INFO:root:Loaded LFPs for lo_gloexp\n",
      "INFO:root:Loaded LFPs for lo_rndctl in subject sub-621890\n",
      "INFO:root:Loaded LFPs for lo_rndctl in subject sub-632485\n",
      "INFO:root:Loaded LFPs for lo_rndctl in subject sub-632487\n",
      "INFO:root:Loaded LFPs for lo_rndctl in subject sub-637542\n",
      "INFO:root:Loaded LFPs for lo_rndctl in subject sub-637908\n",
      "INFO:root:Loaded LFPs for lo_rndctl in subject sub-637909\n",
      "INFO:root:Loaded LFPs for lo_rndctl in subject sub-640507\n",
      "INFO:root:Loaded LFPs for lo_rndctl in subject sub-642507\n",
      "INFO:root:Loaded LFPs for lo_rndctl in subject sub-645322\n",
      "INFO:root:Loaded LFPs for lo_rndctl in subject sub-645324\n",
      "INFO:root:Loaded LFPs for lo_rndctl in subject sub-645495\n",
      "INFO:root:Loaded LFPs for lo_rndctl in subject sub-647836\n",
      "INFO:root:Loaded LFPs for lo_rndctl in subject sub-649323\n",
      "INFO:root:Loaded LFPs for lo_rndctl in subject sub-649324\n",
      "INFO:root:Loaded LFPs for lo_rndctl\n",
      "INFO:root:Loaded LFPs for igo_seqctl in subject sub-621890\n",
      "INFO:root:Loaded LFPs for igo_seqctl in subject sub-632485\n",
      "INFO:root:Loaded LFPs for igo_seqctl in subject sub-632487\n",
      "INFO:root:Loaded LFPs for igo_seqctl in subject sub-637542\n",
      "INFO:root:Loaded LFPs for igo_seqctl in subject sub-637908\n",
      "INFO:root:Loaded LFPs for igo_seqctl in subject sub-637909\n",
      "INFO:root:Loaded LFPs for igo_seqctl in subject sub-640507\n",
      "INFO:root:Loaded LFPs for igo_seqctl in subject sub-642507\n",
      "INFO:root:Loaded LFPs for igo_seqctl in subject sub-645322\n",
      "INFO:root:Loaded LFPs for igo_seqctl in subject sub-645324\n",
      "INFO:root:Loaded LFPs for igo_seqctl in subject sub-645495\n",
      "INFO:root:Loaded LFPs for igo_seqctl in subject sub-647836\n",
      "INFO:root:Loaded LFPs for igo_seqctl in subject sub-649323\n",
      "INFO:root:Loaded LFPs for igo_seqctl in subject sub-649324\n",
      "INFO:root:Loaded LFPs for igo_seqctl\n"
     ]
    },
    {
     "data": {
      "text/plain": [
       "{'VISam': <epych.statistics.alignment.LaminarAlignment at 0x70090b51d790>,\n",
       " 'VISpm': <epych.statistics.alignment.LaminarAlignment at 0x700736304fd0>,\n",
       " 'VISp': <epych.statistics.alignment.LaminarAlignment at 0x700734b12bd0>,\n",
       " 'VISl': <epych.statistics.alignment.LaminarAlignment at 0x700734b33d50>,\n",
       " 'VISrl': <epych.statistics.alignment.LaminarAlignment at 0x700734b42b10>,\n",
       " 'VIS': <epych.statistics.alignment.LaminarAlignment at 0x700734b6fad0>,\n",
       " 'VISal': <epych.statistics.alignment.LaminarAlignment at 0x700734b6f6d0>}"
      ]
     },
     "execution_count": 11,
     "metadata": {},
     "output_type": "execute_result"
    }
   ],
   "source": [
    "alignment.calculate(samplings())"
   ]
  },
  {
   "cell_type": "code",
   "execution_count": 12,
   "id": "f8c60621-8f90-4242-9cfb-88e4fc8638ea",
   "metadata": {},
   "outputs": [],
   "source": [
    "alignment.pickle(\"/mnt/data/DRAFT/000253/visual_alignment\")"
   ]
  },
  {
   "cell_type": "code",
   "execution_count": null,
   "id": "e6389fc8-5233-4cf4-a25d-95647ecb1b28",
   "metadata": {},
   "outputs": [],
   "source": []
  }
 ],
 "metadata": {
  "kernelspec": {
   "display_name": "Python [conda env:ephys] *",
   "language": "python",
   "name": "conda-env-ephys-py"
  },
  "language_info": {
   "codemirror_mode": {
    "name": "ipython",
    "version": 3
   },
   "file_extension": ".py",
   "mimetype": "text/x-python",
   "name": "python",
   "nbconvert_exporter": "python",
   "pygments_lexer": "ipython3",
   "version": "3.11.9"
  }
 },
 "nbformat": 4,
 "nbformat_minor": 5
}
