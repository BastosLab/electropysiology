{
 "cells": [
  {
   "cell_type": "code",
   "execution_count": null,
   "id": "032e7f3b-4c0e-4222-b94c-7a0c31095291",
   "metadata": {},
   "outputs": [],
   "source": [
    "%cd .."
   ]
  },
  {
   "cell_type": "code",
   "execution_count": null,
   "id": "58a51e18-e847-479b-b3a6-f785f02ea137",
   "metadata": {},
   "outputs": [],
   "source": [
    "import epych\n",
    "import glob\n",
    "import h5py\n",
    "import logging\n",
    "import math\n",
    "import matplotlib.pyplot as plt\n",
    "import numpy as np\n",
    "import os\n",
    "import pandas as pd\n",
    "import pickle\n",
    "import quantities as pq"
   ]
  },
  {
   "cell_type": "code",
   "execution_count": null,
   "id": "98c35185-db98-4e9b-a72b-efff6723c1e7",
   "metadata": {},
   "outputs": [],
   "source": [
    "%matplotlib inline"
   ]
  },
  {
   "cell_type": "code",
   "execution_count": null,
   "id": "f0fc9442-7bc4-44a9-ba16-145472382f52",
   "metadata": {},
   "outputs": [],
   "source": [
    "logging.basicConfig(level=logging.INFO)"
   ]
  },
  {
   "cell_type": "code",
   "execution_count": null,
   "id": "f8115e9a-681a-4691-9d5a-637263ec0d89",
   "metadata": {},
   "outputs": [],
   "source": [
    "def epoch_intervals(intervals, epoch):\n",
    "    mask = intervals[epoch][:].astype(bool)\n",
    "    return np.stack((intervals['start_time'][mask], intervals['stop_time'][mask]), axis=-1)"
   ]
  },
  {
   "cell_type": "code",
   "execution_count": null,
   "id": "b60d1ac7-02c0-42ae-814f-4debf872114a",
   "metadata": {},
   "outputs": [],
   "source": [
    "def trial_intervals(intervals):\n",
    "    trial_nums = intervals['trial_num'][:].astype(int)\n",
    "    trials = np.unique(trial_nums)\n",
    "    startstops = []\n",
    "    for trial in trials:\n",
    "        indices = np.nonzero(trial_nums == trial)[0]\n",
    "        startstops.append((intervals['start_time'][indices[0]], intervals['stop_time'][indices[-1]]))\n",
    "    return np.array(startstops)"
   ]
  },
  {
   "cell_type": "code",
   "execution_count": null,
   "id": "64ea36b3-408c-46c7-8352-22c3a3e812ef",
   "metadata": {},
   "outputs": [],
   "source": [
    "def trial_stimulus_intervals(intervals):\n",
    "    trial_nums = intervals['trial_num'][:].astype(int)\n",
    "    trials = np.unique(trial_nums)\n",
    "    stimuli = {k: [] for k in range(5)}\n",
    "    for trial in trials:\n",
    "        for index, interval in enumerate(np.nonzero(trial_nums == trial)[0]):\n",
    "            stimuli[index].append((intervals['start_time'][interval], intervals['stop_time'][interval]))\n",
    "    return {k: np.array(v) for k, v in stimuli.items()}"
   ]
  },
  {
   "cell_type": "code",
   "execution_count": null,
   "id": "8080c295-5b7a-4cdf-b4f0-fb4ebdaee5d9",
   "metadata": {},
   "outputs": [],
   "source": [
    "CONDITIONS = [\"go_gloexp\", \"lo_gloexp\", \"go_seqctl\", \"seqctl\"]\n",
    "PRETRIAL_SECONDS = 0.5\n",
    "POSTTRIAL_SECONDS = 0.5"
   ]
  },
  {
   "cell_type": "code",
   "execution_count": null,
   "id": "38a7731f-ab30-47d6-b03f-92f974b68605",
   "metadata": {},
   "outputs": [],
   "source": [
    "def hippocampal_areas(probe_areas):\n",
    "    for (c, a) in enumerate(probe_areas):\n",
    "        if \"DG-\" in a or \"CA\" in a:\n",
    "            yield (c, a)\n",
    "\n",
    "def visual_areas(probe_areas):\n",
    "    for (c, a) in enumerate(probe_areas):\n",
    "        if \"VIS\" in a:\n",
    "            yield (c, a)\n",
    "\n",
    "def subcortical_areas(probe_areas):\n",
    "    for (c, a) in enumerate(probe_areas):\n",
    "        if \"DG-\" in a or \"CA\" in a or \"MB\" in a or \"SCi\" in a or \"POST\" in a:\n",
    "            yield (c, a)"
   ]
  },
  {
   "cell_type": "code",
   "execution_count": null,
   "id": "5a3201eb-e296-4f25-a094-493f12e03910",
   "metadata": {},
   "outputs": [],
   "source": [
    "def probe_electrode_metadata(electrodes, probe, channels):\n",
    "    indices = (electrodes['group_name'][:] == probe.encode()).nonzero()[0]\n",
    "    return {\n",
    "        'areas': np.array([area.decode() for area in electrodes['location'][indices][channels]]),\n",
    "        'horizontal': electrodes['probe_horizontal_position'][indices][channels] * pq.mm,\n",
    "        'vertical': electrodes['probe_vertical_position'][indices][channels] * pq.mm,\n",
    "    }"
   ]
  },
  {
   "cell_type": "code",
   "execution_count": null,
   "id": "0b0b3d9c-2703-44b0-8a67-7e23b2bfa12f",
   "metadata": {},
   "outputs": [],
   "source": [
    "NWB_FILES = glob.glob('/mnt/data/*.nwb')"
   ]
  },
  {
   "cell_type": "code",
   "execution_count": null,
   "id": "7aee750b-52f3-4e44-bae3-d33abb0d1111",
   "metadata": {},
   "outputs": [],
   "source": [
    "PILOT_FILES = []"
   ]
  },
  {
   "cell_type": "code",
   "execution_count": null,
   "id": "9a5d8daf-d61e-4e87-b416-98c5701166de",
   "metadata": {},
   "outputs": [],
   "source": [
    "def probe_lfps(nwb, electrodes, probes):\n",
    "    signals = {}\n",
    "    for p, probe in enumerate(probes):\n",
    "        probe_lfp = \"probe_%d_lfp\" % p\n",
    "        probe_lfp = probe_lfp + \"/\" + probe_lfp + \"_data\"\n",
    "        probe_lfps = nwb['acquisition/'][probe_lfp]\n",
    "        timestamps = probe_lfps[\"timestamps\"][:]\n",
    "        dt = (timestamps[1:] - timestamps[:-1]).mean()\n",
    "    \n",
    "        probe_electrodes = electrodes[\"group_name\"][:] == probe.encode()\n",
    "        channels = {\n",
    "            \"horizontal\": electrodes[\"probe_horizontal_position\"][probe_electrodes],\n",
    "            \"id\": electrodes[\"id\"][probe_electrodes],\n",
    "            \"location\": electrodes[\"location\"][probe_electrodes],\n",
    "            \"vertical\": electrodes[\"probe_vertical_position\"][probe_electrodes],\n",
    "        }\n",
    "        channels = {k: v[probe_lfps['electrodes'][:]] for k, v in channels.items()}\n",
    "        probe_channels = pd.DataFrame(data=channels, columns=[\"horizontal\", \"location\", \"vertical\"], index=channels['id'])\n",
    "    \n",
    "        signals[probe] = epych.signals.lfp.RawLfp(probe_channels, probe_lfps[\"data\"], dt, timestamps, channels_dim=1, time_dim=0)\n",
    "    return signals"
   ]
  },
  {
   "cell_type": "code",
   "execution_count": null,
   "id": "5b6bc43e-e7f1-42de-a83b-a11c1162a403",
   "metadata": {},
   "outputs": [],
   "source": [
    "def passiveglo_epochs(glo_intervals):\n",
    "    epochs = {\n",
    "        \"start\": np.array([]),\n",
    "        \"end\": np.array([]),\n",
    "        \"type\": [],\n",
    "    }\n",
    "\n",
    "    trials = trial_intervals(glo_intervals)\n",
    "    trial_times = trials[:, 0]\n",
    "    epochs[\"start\"] = np.concatenate((epochs[\"start\"], trials[:, 0]), axis=0)\n",
    "    epochs[\"end\"] = np.concatenate((epochs[\"end\"], trials[:, 1]), axis=0)\n",
    "    epochs[\"type\"] = epochs[\"type\"] + [\"trial\"] * trials.shape[0]\n",
    "\n",
    "    for condition in CONDITIONS:\n",
    "        cond_times = epoch_intervals(glo_intervals, condition)\n",
    "        epochs[\"start\"] = np.concatenate((epochs[\"start\"], cond_times[:, 0]), axis=0)\n",
    "        epochs[\"end\"] = np.concatenate((epochs[\"end\"], cond_times[:, 1]), axis=0)\n",
    "        epochs[\"type\"] = epochs[\"type\"] + [condition] * cond_times.shape[0]\n",
    "\n",
    "    stim_times = trial_stimulus_intervals(glo_intervals)\n",
    "    for k, v in stim_times.items():\n",
    "        epochs[\"start\"] = np.concatenate((epochs[\"start\"], v[:, 0]), axis=0)\n",
    "        epochs[\"end\"] = np.concatenate((epochs[\"end\"], v[:, 1]), axis=0)\n",
    "        epochs[\"type\"] = epochs[\"type\"] + [\"stim%d\" % k] * v.shape[0]\n",
    "\n",
    "    return pd.DataFrame(data=epochs, columns=epochs.keys())"
   ]
  },
  {
   "cell_type": "code",
   "execution_count": null,
   "id": "104b1db1-5cc1-4736-b597-73329415991c",
   "metadata": {},
   "outputs": [],
   "source": [
    "def nwbfile_recording(nwb, required_probes=6):\n",
    "    nwb = h5py.File(nwb_file, 'r')\n",
    "    electrodes = nwb['general']['extracellular_ephys']['electrodes']\n",
    "    probes = sorted([probe.decode() for probe in set(electrodes['group_name'][:])])\n",
    "    if len(probes) < required_probes:\n",
    "        PILOT_FILES.append(nwb_file)\n",
    "        return None\n",
    "    glo_intervals = nwb['intervals']['passive_glo']\n",
    "\n",
    "    epochs = passiveglo_epochs(glo_intervals)\n",
    "    signals = probe_lfps(nwb, electrodes, probes)\n",
    "\n",
    "    units = {\"start\": pq.second, \"end\": pq.second}\n",
    "    return epych.recording.RawRecording(epochs, pd.DataFrame(columns=[\"trial\"]).set_index(\"trial\"), units, **signals)"
   ]
  },
  {
   "cell_type": "code",
   "execution_count": null,
   "id": "6da6203d-4efd-4528-b5f6-2e9b7103aa41",
   "metadata": {},
   "outputs": [],
   "source": [
    "erps = {}"
   ]
  },
  {
   "cell_type": "code",
   "execution_count": null,
   "id": "abd0cedb-cec4-439d-bed1-4d1f41487854",
   "metadata": {},
   "outputs": [],
   "source": [
    "GOOD_NWB_FILES = []\n",
    "good_recordings = []"
   ]
  },
  {
   "cell_type": "code",
   "execution_count": null,
   "id": "173432e5-5027-43cb-bc7f-05d0412c9b07",
   "metadata": {},
   "outputs": [],
   "source": [
    "for f, nwb_file in enumerate(NWB_FILES):\n",
    "    with h5py.File(nwb_file, \"r\") as nwb:\n",
    "        recording = nwbfile_recording(nwb)\n",
    "        if recording is None:\n",
    "            continue\n",
    "        else:\n",
    "            GOOD_NWB_FILES.append(nwb_file)\n",
    "            for cond in CONDITIONS:\n",
    "                condition_epochs = recording.intervals[\"type\"] == cond\n",
    "                trial_epochs = recording.intervals[\"type\"] == \"trial\"\n",
    "                sampling = recording.epoch(condition_epochs, trial_epochs, PRETRIAL_SECONDS, POSTTRIAL_SECONDS).baseline_correct(0, PRETRIAL_SECONDS)\n",
    "                erps[(nwb_file, cond)] = sampling.erp().smap(lambda sig: sig.median_filter())\n",
    "                del sampling\n",
    "                logging.info(\"Finished ERPs of %s condition in %s\" % (cond, nwb_file))\n",
    "            del recording\n",
    "            logging.info(\"Finished ERPs of %s\" % nwb_file)"
   ]
  },
  {
   "cell_type": "code",
   "execution_count": null,
   "id": "6417ba61-a513-443c-a89f-aa3ae48e96e9",
   "metadata": {},
   "outputs": [],
   "source": [
    "for cond in CONDITIONS:\n",
    "    print(cond)\n",
    "    for nwb_file in GOOD_NWB_FILES:\n",
    "        erps[(nwb_file, cond)].plot(vmin=-1e-4, vmax=1e-4)"
   ]
  },
  {
   "cell_type": "code",
   "execution_count": null,
   "id": "737516cc-07d1-453c-8e7c-c5d396844ff2",
   "metadata": {},
   "outputs": [],
   "source": [
    "csds = {}"
   ]
  },
  {
   "cell_type": "code",
   "execution_count": null,
   "id": "7cb4fad0-2924-4241-ac1a-5bba0cdc5f76",
   "metadata": {},
   "outputs": [],
   "source": [
    "for cond in CONDITIONS:\n",
    "    print(cond)\n",
    "    for nwb_file in GOOD_NWB_FILES:\n",
    "        csds[(nwb_file, cond)] = erps[(nwb_file, cond)].smap(lambda sig: sig.downsample(4).current_source_density(depth_column=\"vertical\"))\n",
    "        csds[(nwb_file, cond)].plot(vmin=-1e-4, vmax=1e-4)\n",
    "        logging.info(\"Finished CSDs of %s condition in %s\" % (cond, nwb_file))\n",
    "    logging.info(\"Finished CSDs in %s\" % nwb_file)"
   ]
  }
 ],
 "metadata": {
  "kernelspec": {
   "display_name": "Python [conda env:ephys] *",
   "language": "python",
   "name": "conda-env-ephys-py"
  },
  "language_info": {
   "codemirror_mode": {
    "name": "ipython",
    "version": 3
   },
   "file_extension": ".py",
   "mimetype": "text/x-python",
   "name": "python",
   "nbconvert_exporter": "python",
   "pygments_lexer": "ipython3",
   "version": "3.11.6"
  }
 },
 "nbformat": 4,
 "nbformat_minor": 5
}
