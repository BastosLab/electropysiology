{
 "cells": [
  {
   "cell_type": "code",
   "execution_count": 1,
   "id": "8d64ff37-0c6f-45c3-8002-eca757bdc33a",
   "metadata": {},
   "outputs": [
    {
     "name": "stdout",
     "output_type": "stream",
     "text": [
      "/home/eli/AnacondaProjects/epych\n"
     ]
    }
   ],
   "source": [
    "%cd ../.."
   ]
  },
  {
   "cell_type": "code",
   "execution_count": 2,
   "id": "5d084a58-aaf7-42ce-8a8f-c57167b37658",
   "metadata": {},
   "outputs": [
    {
     "name": "stdout",
     "output_type": "stream",
     "text": [
      "env: DASK_LOGGING__DISTRIBUTED=CRITICAL\n",
      "env: SPYTMPDIR=/mnt/data/tmp_storage\n",
      "env: SPYLOGLEVEL=CRITICAL\n",
      "env: SPYPARLOGLEVEL=CRITICAL\n"
     ]
    }
   ],
   "source": [
    "%env DASK_LOGGING__DISTRIBUTED=CRITICAL\n",
    "%env SPYTMPDIR=/mnt/data/tmp_storage\n",
    "%env SPYLOGLEVEL=CRITICAL\n",
    "%env SPYPARLOGLEVEL=CRITICAL"
   ]
  },
  {
   "cell_type": "code",
   "execution_count": 3,
   "id": "58a51e18-e847-479b-b3a6-f785f02ea137",
   "metadata": {},
   "outputs": [
    {
     "name": "stderr",
     "output_type": "stream",
     "text": [
      "[striatum:3101880] shmem: mmap: an error occurred while determining whether or not /tmp/ompi.striatum.1000/jf.0/3254059008/shared_mem_cuda_pool.striatum could be created.\n",
      "[striatum:3101880] create_and_attach: unable to create shared memory BTL coordinating structure :: size 134217728 \n"
     ]
    }
   ],
   "source": [
    "import collections\n",
    "import functools\n",
    "import logging\n",
    "import numpy as np\n",
    "import os\n",
    "import quantities as pq\n",
    "\n",
    "import epych\n",
    "from epych.statistics import alignment"
   ]
  },
  {
   "cell_type": "code",
   "execution_count": 4,
   "id": "98c35185-db98-4e9b-a72b-efff6723c1e7",
   "metadata": {},
   "outputs": [],
   "source": [
    "%matplotlib inline"
   ]
  },
  {
   "cell_type": "code",
   "execution_count": 5,
   "id": "f0fc9442-7bc4-44a9-ba16-145472382f52",
   "metadata": {},
   "outputs": [],
   "source": [
    "logging.basicConfig(level=logging.INFO)"
   ]
  },
  {
   "cell_type": "code",
   "execution_count": 6,
   "id": "8a8fe153-26d2-45a1-bae9-46ed1912d585",
   "metadata": {},
   "outputs": [],
   "source": [
    "CONDITIONS = [\"lonaive\", \"go_gloexp\", \"go_seqctl\", \"lo_gloexp\", \"lo_rndctl\", \"igo_seqctl\"]"
   ]
  },
  {
   "cell_type": "code",
   "execution_count": 7,
   "id": "ae302af3-35c8-4a8a-afc6-0c3a28eba93d",
   "metadata": {},
   "outputs": [],
   "source": [
    "def samplings(cond):\n",
    "    sampling = epych.recording.Sampling.unpickle(\"/mnt/data/DRAFT/000253/grandcat_%s\" % cond)\n",
    "    logging.info(\"Loaded LFPs for condition %s, baseline from (%f, %f)\" % (cond, sampling.trials[\"trial_start\"].mean() - 0.5, sampling.trials[\"trial_start\"].mean()))\n",
    "    yield sampling.smap(lambda sig: sig.downsample(16))\n",
    "    del sampling"
   ]
  },
  {
   "cell_type": "code",
   "execution_count": 8,
   "id": "bf3dfdbb-fe4d-4125-b152-f811152edb45",
   "metadata": {},
   "outputs": [],
   "source": [
    "def initialize_spectrum(key, signal, path=None):\n",
    "    area = os.path.commonprefix([loc for loc in signal.channels.location])\n",
    "    return epych.statistics.spectrum.Spectrogram(signal.df, signal.channels, signal.f0, chunk_trials=50, taper=\"hann\", path=path + \"/\" + key)"
   ]
  },
  {
   "cell_type": "code",
   "execution_count": 9,
   "id": "f060f515-548e-40d7-a661-ca110d22185a",
   "metadata": {},
   "outputs": [
    {
     "name": "stderr",
     "output_type": "stream",
     "text": [
      "INFO:root:Calculating LFP spectrograms across condition lonaive\n",
      "INFO:root:Calculating LFP spectrograms across condition go_gloexp\n",
      "INFO:root:Calculating LFP spectrograms across condition go_seqctl\n",
      "INFO:root:Calculating LFP spectrograms across condition lo_gloexp\n",
      "INFO:root:Calculating LFP spectrograms across condition lo_rndctl\n",
      "INFO:root:Calculating LFP spectrograms across condition igo_seqctl\n"
     ]
    }
   ],
   "source": [
    "for cond in CONDITIONS:\n",
    "    logging.info(\"Calculating LFP spectrograms across condition %s\" % cond)\n",
    "    cond_path = \"/mnt/data/000253/grand_spectrogram_downsample16_%s\" % cond\n",
    "    if os.path.exists(cond_path):\n",
    "        continue\n",
    "    summary = epych.statistic.Summary(alignment.location_prefix, functools.partial(initialize_spectrum, path=cond_path))\n",
    "    summary.calculate(samplings(cond))\n",
    "    summary.pickle(cond_path)\n",
    "    del summary"
   ]
  },
  {
   "cell_type": "code",
   "execution_count": null,
   "id": "213c9556-7512-46f1-bbe1-5136c9f48f32",
   "metadata": {},
   "outputs": [],
   "source": []
  }
 ],
 "metadata": {
  "kernelspec": {
   "display_name": "Python [conda env:ephys] *",
   "language": "python",
   "name": "conda-env-ephys-py"
  },
  "language_info": {
   "codemirror_mode": {
    "name": "ipython",
    "version": 3
   },
   "file_extension": ".py",
   "mimetype": "text/x-python",
   "name": "python",
   "nbconvert_exporter": "python",
   "pygments_lexer": "ipython3",
   "version": "3.12.7"
  }
 },
 "nbformat": 4,
 "nbformat_minor": 5
}
