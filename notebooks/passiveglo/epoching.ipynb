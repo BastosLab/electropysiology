{
 "cells": [
  {
   "cell_type": "code",
   "execution_count": 1,
   "id": "032e7f3b-4c0e-4222-b94c-7a0c31095291",
   "metadata": {},
   "outputs": [
    {
     "name": "stdout",
     "output_type": "stream",
     "text": [
      "/home/eli/AnacondaProjects/epych\n"
     ]
    }
   ],
   "source": [
    "%cd ../.."
   ]
  },
  {
   "cell_type": "code",
   "execution_count": 2,
   "id": "7584895d-54fd-45a0-aa6c-13457848f734",
   "metadata": {},
   "outputs": [],
   "source": [
    "%load_ext autoreload\n",
    "%autoreload 2"
   ]
  },
  {
   "cell_type": "code",
   "execution_count": 3,
   "id": "58a51e18-e847-479b-b3a6-f785f02ea137",
   "metadata": {},
   "outputs": [],
   "source": [
    "import epych\n",
    "import glob\n",
    "import pynwb\n",
    "import logging\n",
    "import math\n",
    "import matplotlib.pyplot as plt\n",
    "import numpy as np\n",
    "import os\n",
    "import pandas as pd\n",
    "import quantities as pq\n",
    "import scipy"
   ]
  },
  {
   "cell_type": "code",
   "execution_count": 4,
   "id": "98c35185-db98-4e9b-a72b-efff6723c1e7",
   "metadata": {},
   "outputs": [],
   "source": [
    "%matplotlib inline"
   ]
  },
  {
   "cell_type": "code",
   "execution_count": 5,
   "id": "f0fc9442-7bc4-44a9-ba16-145472382f52",
   "metadata": {},
   "outputs": [],
   "source": [
    "logging.basicConfig(level=logging.INFO)"
   ]
  },
  {
   "cell_type": "code",
   "execution_count": 6,
   "id": "f8115e9a-681a-4691-9d5a-637263ec0d89",
   "metadata": {},
   "outputs": [],
   "source": [
    "def epoch_intervals(intervals, epoch):\n",
    "    mask = intervals[epoch][:].astype(bool)\n",
    "    return np.stack((intervals['start_time'][mask], intervals['stop_time'][mask]), axis=-1)"
   ]
  },
  {
   "cell_type": "code",
   "execution_count": 7,
   "id": "b60d1ac7-02c0-42ae-814f-4debf872114a",
   "metadata": {},
   "outputs": [],
   "source": [
    "def trial_intervals(intervals):\n",
    "    trial_nums = intervals['trial_num'][:].astype(int)\n",
    "    trials = np.unique(trial_nums)\n",
    "    startstops = []\n",
    "    for trial in trials:\n",
    "        indices = np.nonzero(trial_nums == trial)[0]\n",
    "        startstops.append((intervals['start_time'][indices[0]], intervals['stop_time'][indices[-1]]))\n",
    "    return np.array(startstops)"
   ]
  },
  {
   "cell_type": "code",
   "execution_count": 8,
   "id": "64ea36b3-408c-46c7-8352-22c3a3e812ef",
   "metadata": {},
   "outputs": [],
   "source": [
    "def trial_stimulus_intervals(intervals):\n",
    "    trial_nums = intervals['trial_num'][:].astype(int)\n",
    "    trials = np.unique(trial_nums)\n",
    "    stimuli = {k: [] for k in range(5)}\n",
    "    for trial in trials:\n",
    "        for index, interval in enumerate(np.nonzero(trial_nums == trial)[0]):\n",
    "            stimuli[index].append((intervals['start_time'][interval], intervals['stop_time'][interval]))\n",
    "    return {k: np.array(v) for k, v in stimuli.items()}"
   ]
  },
  {
   "cell_type": "code",
   "execution_count": 9,
   "id": "8080c295-5b7a-4cdf-b4f0-fb4ebdaee5d9",
   "metadata": {},
   "outputs": [],
   "source": [
    "CONDITIONS = [\"go_gloexp\", \"lo_gloexp\", \"go_seqctl\", \"lo_rndctl\", \"igo_seqctl\"]\n",
    "PRETRIAL_SECONDS = 0.5 * pq.second\n",
    "POSTTRIAL_SECONDS = 0.5 * pq.second"
   ]
  },
  {
   "cell_type": "code",
   "execution_count": 10,
   "id": "38a7731f-ab30-47d6-b03f-92f974b68605",
   "metadata": {},
   "outputs": [],
   "source": [
    "def hippocampal_areas(probe_areas):\n",
    "    for (c, a) in enumerate(probe_areas):\n",
    "        if \"DG-\" in a or \"CA\" in a:\n",
    "            yield (c, a)\n",
    "\n",
    "def visual_areas(probe_areas):\n",
    "    for (c, a) in enumerate(probe_areas):\n",
    "        if \"VIS\" in a:\n",
    "            yield (c, a)\n",
    "\n",
    "def subcortical_areas(probe_areas):\n",
    "    for (c, a) in enumerate(probe_areas):\n",
    "        if \"DG-\" in a or \"CA\" in a or \"MB\" in a or \"SCi\" in a or \"POST\" in a:\n",
    "            yield (c, a)"
   ]
  },
  {
   "cell_type": "code",
   "execution_count": 11,
   "id": "5a3201eb-e296-4f25-a094-493f12e03910",
   "metadata": {},
   "outputs": [],
   "source": [
    "def probe_electrode_metadata(electrodes, probe, channels):\n",
    "    indices = (electrodes['group_name'][:] == probe.encode()).nonzero()[0]\n",
    "    return {\n",
    "        'areas': np.array([area.decode() for area in electrodes['location'][indices][channels]]),\n",
    "        'horizontal': electrodes['probe_horizontal_position'][indices][channels] * pq.mm,\n",
    "        'vertical': electrodes['probe_vertical_position'][indices][channels] * pq.mm,\n",
    "    }"
   ]
  },
  {
   "cell_type": "code",
   "execution_count": 12,
   "id": "0b0b3d9c-2703-44b0-8a67-7e23b2bfa12f",
   "metadata": {},
   "outputs": [],
   "source": [
    "NWB_SUBJECTS = glob.glob('/mnt/data/DRAFT/000253/sub-*/')"
   ]
  },
  {
   "cell_type": "code",
   "execution_count": 13,
   "id": "7aee750b-52f3-4e44-bae3-d33abb0d1111",
   "metadata": {},
   "outputs": [],
   "source": [
    "PILOT_FILES = []\n",
    "REQUIRED_PROBES = 6"
   ]
  },
  {
   "cell_type": "code",
   "execution_count": 14,
   "id": "9a5d8daf-d61e-4e87-b416-98c5701166de",
   "metadata": {},
   "outputs": [],
   "source": [
    "def probe_lfps(nwb_files, electrodes):\n",
    "    signals = {}\n",
    "    for p, nwb_file in enumerate(nwb_files):\n",
    "        with pynwb.NWBHDF5IO(path=nwb_file, mode=\"r\") as io:\n",
    "            nwb = io.read()\n",
    "\n",
    "            probe_lfp = \"probe_%d_lfp_data\" % p\n",
    "            lfps = nwb.acquisition[probe_lfp]\n",
    "            timestamps = lfps.timestamps[:] * pq.second\n",
    "            dt = (timestamps[1:] - timestamps[:-1]).mean()\n",
    "            if dt > 1.:\n",
    "                raise ValueError('Invalid timestamps!')\n",
    "\n",
    "            probe = list(nwb.electrode_groups.keys())[0]\n",
    "            probe_electrodes = electrodes[\"group_name\"][:] == probe\n",
    "            channels = {\n",
    "                \"horizontal\": electrodes[\"probe_horizontal_position\"][probe_electrodes] * pq.mm,\n",
    "                \"id\": electrodes[\"id\"][probe_electrodes],\n",
    "                \"location\": electrodes[\"location\"][probe_electrodes],\n",
    "                \"vertical\": electrodes[\"probe_vertical_position\"][probe_electrodes] * pq.mm,\n",
    "            }\n",
    "            channels = {k: v[lfps.electrodes['local_index'][:]] for k, v in channels.items()}\n",
    "            probe_channels = pd.DataFrame(data=channels, columns=[\"horizontal\", \"location\", \"vertical\"], index=channels['id'])\n",
    "            signals[probe] = epych.signals.lfp.RawLfp(probe_channels, lfps.data[:] * pq.volt, dt, timestamps, channels_dim=1, time_dim=0)\n",
    "    return signals"
   ]
  },
  {
   "cell_type": "code",
   "execution_count": 15,
   "id": "5b6bc43e-e7f1-42de-a83b-a11c1162a403",
   "metadata": {},
   "outputs": [],
   "source": [
    "def passiveglo_epochs(glo_intervals):\n",
    "    epochs = {\n",
    "        \"start\": np.array([]),\n",
    "        \"end\": np.array([]),\n",
    "        \"type\": [],\n",
    "    }\n",
    "\n",
    "    trials = trial_intervals(glo_intervals)\n",
    "    trial_times = trials[:, 0]\n",
    "    epochs[\"start\"] = np.concatenate((epochs[\"start\"], trials[:, 0].squeeze()), axis=0)\n",
    "    epochs[\"end\"] = np.concatenate((epochs[\"end\"], trials[:, 1].squeeze()), axis=0)\n",
    "    epochs[\"type\"] = epochs[\"type\"] + [\"trial\"] * trials.shape[0]\n",
    "\n",
    "    for condition in CONDITIONS:\n",
    "        cond_times = epoch_intervals(glo_intervals, condition)\n",
    "        epochs[\"start\"] = np.concatenate((epochs[\"start\"], cond_times[:, 0].squeeze()), axis=0)\n",
    "        epochs[\"end\"] = np.concatenate((epochs[\"end\"], cond_times[:, 1].squeeze()), axis=0)\n",
    "        epochs[\"type\"] = epochs[\"type\"] + [condition] * cond_times.shape[0]\n",
    "\n",
    "    stim_times = trial_stimulus_intervals(glo_intervals)\n",
    "    for k, v in stim_times.items():\n",
    "        epochs[\"start\"] = np.concatenate((epochs[\"start\"], v[:, 0].squeeze()), axis=0)\n",
    "        epochs[\"end\"] = np.concatenate((epochs[\"end\"], v[:, 1].squeeze()), axis=0)\n",
    "        epochs[\"type\"] = epochs[\"type\"] + [\"stim%d\" % k] * v.shape[0]\n",
    "\n",
    "    return pd.DataFrame(data=epochs, columns=epochs.keys())"
   ]
  },
  {
   "cell_type": "code",
   "execution_count": 16,
   "id": "477aa215-1dae-42d1-b282-443f5d3fa097",
   "metadata": {},
   "outputs": [],
   "source": [
    "def subjectdir_recording(subject_dir):\n",
    "    passive_glo = scipy.io.loadmat(subject_dir + 'passiveglo_task_data.mat')\n",
    "    epochs = passiveglo_epochs(passive_glo)\n",
    "    units = {\"start\": pq.second, \"end\": pq.second}\n",
    "    ogen_nwb = glob.glob(subject_dir + '/sub-*_ogen.nwb')[0]\n",
    "    with pynwb.NWBHDF5IO(path=ogen_nwb, mode=\"r\") as io:\n",
    "        nwb = io.read()\n",
    "        electrodes = {}\n",
    "        electrodes['group_name'] = nwb.electrodes.group_name[:]\n",
    "        electrodes['id'] = nwb.electrodes.id[:]\n",
    "        electrodes['location'] = nwb.electrodes.location[:]\n",
    "        electrodes['probe_horizontal_position'] = nwb.electrodes.probe_horizontal_position[:] * pq.mm\n",
    "        electrodes['probe_vertical_position'] = nwb.electrodes.probe_vertical_position[:] * pq.mm\n",
    "\n",
    "    nwb_files = sorted(glob.glob(subject_dir + '/sub-*_ses-*_probe-*.nwb'))\n",
    "    nwb_files = [nwbf for nwbf in nwb_files if \"test\" not in nwbf]\n",
    "    if len(nwb_files) < REQUIRED_PROBES:\n",
    "        PILOT_FILES.append(subject_dir)\n",
    "        return None\n",
    "\n",
    "    try:\n",
    "        signals = probe_lfps(nwb_files, electrodes)\n",
    "        return epych.recording.RawRecording(epochs, pd.DataFrame(columns=[\"trial\"]).set_index(\"trial\"), units, **signals)\n",
    "    except ValueError as verr:\n",
    "        if verr.args == ('Invalid timestamps!',):\n",
    "            return None\n",
    "        raise verr"
   ]
  },
  {
   "cell_type": "code",
   "execution_count": 17,
   "id": "6da6203d-4efd-4528-b5f6-2e9b7103aa41",
   "metadata": {},
   "outputs": [],
   "source": [
    "erps = {}"
   ]
  },
  {
   "cell_type": "code",
   "execution_count": 18,
   "id": "abd0cedb-cec4-439d-bed1-4d1f41487854",
   "metadata": {},
   "outputs": [],
   "source": [
    "GOOD_SUBJECT_DIRS = []"
   ]
  },
  {
   "cell_type": "code",
   "execution_count": 19,
   "id": "173432e5-5027-43cb-bc7f-05d0412c9b07",
   "metadata": {},
   "outputs": [
    {
     "name": "stderr",
     "output_type": "stream",
     "text": [
      "/home/eli/miniforge3/envs/ephys/lib/python3.11/site-packages/hdmf/utils.py:668: UserWarning: Ignoring cached namespace 'hdmf-common' version 1.6.0 because version 1.8.0 is already loaded.\n",
      "  return func(args[0], **pargs)\n",
      "/home/eli/miniforge3/envs/ephys/lib/python3.11/site-packages/hdmf/utils.py:668: UserWarning: Ignoring cached namespace 'core' version 2.6.0-alpha because version 2.7.0 is already loaded.\n",
      "  return func(args[0], **pargs)\n",
      "/home/eli/miniforge3/envs/ephys/lib/python3.11/site-packages/hdmf/utils.py:668: UserWarning: Ignoring cached namespace 'hdmf-experimental' version 0.3.0 because version 0.5.0 is already loaded.\n",
      "  return func(args[0], **pargs)\n",
      "/home/eli/miniforge3/envs/ephys/lib/python3.11/site-packages/hdmf/utils.py:668: UserWarning: Ignoring cached namespace 'hdmf-common' version 1.6.0 because version 1.8.0 is already loaded.\n",
      "  return func(args[0], **pargs)\n",
      "/home/eli/miniforge3/envs/ephys/lib/python3.11/site-packages/hdmf/utils.py:668: UserWarning: Ignoring cached namespace 'core' version 2.6.0-alpha because version 2.7.0 is already loaded.\n",
      "  return func(args[0], **pargs)\n",
      "/home/eli/miniforge3/envs/ephys/lib/python3.11/site-packages/hdmf/utils.py:668: UserWarning: Ignoring cached namespace 'hdmf-experimental' version 0.3.0 because version 0.5.0 is already loaded.\n",
      "  return func(args[0], **pargs)\n",
      "/home/eli/miniforge3/envs/ephys/lib/python3.11/site-packages/hdmf/utils.py:668: UserWarning: Ignoring cached namespace 'hdmf-common' version 1.6.0 because version 1.8.0 is already loaded.\n",
      "  return func(args[0], **pargs)\n",
      "/home/eli/miniforge3/envs/ephys/lib/python3.11/site-packages/hdmf/utils.py:668: UserWarning: Ignoring cached namespace 'core' version 2.6.0-alpha because version 2.7.0 is already loaded.\n",
      "  return func(args[0], **pargs)\n",
      "/home/eli/miniforge3/envs/ephys/lib/python3.11/site-packages/hdmf/utils.py:668: UserWarning: Ignoring cached namespace 'hdmf-experimental' version 0.3.0 because version 0.5.0 is already loaded.\n",
      "  return func(args[0], **pargs)\n",
      "/home/eli/miniforge3/envs/ephys/lib/python3.11/site-packages/hdmf/utils.py:668: UserWarning: Ignoring cached namespace 'hdmf-common' version 1.6.0 because version 1.8.0 is already loaded.\n",
      "  return func(args[0], **pargs)\n",
      "/home/eli/miniforge3/envs/ephys/lib/python3.11/site-packages/hdmf/utils.py:668: UserWarning: Ignoring cached namespace 'core' version 2.6.0-alpha because version 2.7.0 is already loaded.\n",
      "  return func(args[0], **pargs)\n",
      "/home/eli/miniforge3/envs/ephys/lib/python3.11/site-packages/hdmf/utils.py:668: UserWarning: Ignoring cached namespace 'hdmf-experimental' version 0.3.0 because version 0.5.0 is already loaded.\n",
      "  return func(args[0], **pargs)\n",
      "/home/eli/miniforge3/envs/ephys/lib/python3.11/site-packages/hdmf/utils.py:668: UserWarning: Ignoring cached namespace 'hdmf-common' version 1.6.0 because version 1.8.0 is already loaded.\n",
      "  return func(args[0], **pargs)\n",
      "/home/eli/miniforge3/envs/ephys/lib/python3.11/site-packages/hdmf/utils.py:668: UserWarning: Ignoring cached namespace 'core' version 2.6.0-alpha because version 2.7.0 is already loaded.\n",
      "  return func(args[0], **pargs)\n",
      "/home/eli/miniforge3/envs/ephys/lib/python3.11/site-packages/hdmf/utils.py:668: UserWarning: Ignoring cached namespace 'hdmf-experimental' version 0.3.0 because version 0.5.0 is already loaded.\n",
      "  return func(args[0], **pargs)\n",
      "/home/eli/miniforge3/envs/ephys/lib/python3.11/site-packages/hdmf/utils.py:668: UserWarning: Ignoring cached namespace 'hdmf-common' version 1.6.0 because version 1.8.0 is already loaded.\n",
      "  return func(args[0], **pargs)\n",
      "/home/eli/miniforge3/envs/ephys/lib/python3.11/site-packages/hdmf/utils.py:668: UserWarning: Ignoring cached namespace 'core' version 2.6.0-alpha because version 2.7.0 is already loaded.\n",
      "  return func(args[0], **pargs)\n",
      "/home/eli/miniforge3/envs/ephys/lib/python3.11/site-packages/hdmf/utils.py:668: UserWarning: Ignoring cached namespace 'hdmf-experimental' version 0.3.0 because version 0.5.0 is already loaded.\n",
      "  return func(args[0], **pargs)\n",
      "INFO:root:Finished epoching of go_gloexp condition in /mnt/data/DRAFT/000253/sub-621890/\n",
      "INFO:root:Finished epoching of lo_gloexp condition in /mnt/data/DRAFT/000253/sub-621890/\n",
      "INFO:root:Finished epoching of go_seqctl condition in /mnt/data/DRAFT/000253/sub-621890/\n",
      "INFO:root:Finished epoching of lo_rndctl condition in /mnt/data/DRAFT/000253/sub-621890/\n",
      "INFO:root:Finished epoching of igo_seqctl condition in /mnt/data/DRAFT/000253/sub-621890/\n",
      "INFO:root:Finished epoching of /mnt/data/DRAFT/000253/sub-621890/\n",
      "/home/eli/miniforge3/envs/ephys/lib/python3.11/site-packages/hdmf/utils.py:668: UserWarning: Ignoring cached namespace 'hdmf-common' version 1.6.0 because version 1.8.0 is already loaded.\n",
      "  return func(args[0], **pargs)\n",
      "/home/eli/miniforge3/envs/ephys/lib/python3.11/site-packages/hdmf/utils.py:668: UserWarning: Ignoring cached namespace 'core' version 2.6.0-alpha because version 2.7.0 is already loaded.\n",
      "  return func(args[0], **pargs)\n",
      "/home/eli/miniforge3/envs/ephys/lib/python3.11/site-packages/hdmf/utils.py:668: UserWarning: Ignoring cached namespace 'hdmf-experimental' version 0.3.0 because version 0.5.0 is already loaded.\n",
      "  return func(args[0], **pargs)\n",
      "/home/eli/miniforge3/envs/ephys/lib/python3.11/site-packages/hdmf/utils.py:668: UserWarning: Ignoring cached namespace 'hdmf-common' version 1.6.0 because version 1.8.0 is already loaded.\n",
      "  return func(args[0], **pargs)\n",
      "/home/eli/miniforge3/envs/ephys/lib/python3.11/site-packages/hdmf/utils.py:668: UserWarning: Ignoring cached namespace 'core' version 2.6.0-alpha because version 2.7.0 is already loaded.\n",
      "  return func(args[0], **pargs)\n",
      "/home/eli/miniforge3/envs/ephys/lib/python3.11/site-packages/hdmf/utils.py:668: UserWarning: Ignoring cached namespace 'hdmf-experimental' version 0.3.0 because version 0.5.0 is already loaded.\n",
      "  return func(args[0], **pargs)\n",
      "/home/eli/miniforge3/envs/ephys/lib/python3.11/site-packages/hdmf/utils.py:668: UserWarning: Ignoring cached namespace 'hdmf-common' version 1.6.0 because version 1.8.0 is already loaded.\n",
      "  return func(args[0], **pargs)\n",
      "/home/eli/miniforge3/envs/ephys/lib/python3.11/site-packages/hdmf/utils.py:668: UserWarning: Ignoring cached namespace 'core' version 2.6.0-alpha because version 2.7.0 is already loaded.\n",
      "  return func(args[0], **pargs)\n",
      "/home/eli/miniforge3/envs/ephys/lib/python3.11/site-packages/hdmf/utils.py:668: UserWarning: Ignoring cached namespace 'hdmf-experimental' version 0.3.0 because version 0.5.0 is already loaded.\n",
      "  return func(args[0], **pargs)\n",
      "/home/eli/miniforge3/envs/ephys/lib/python3.11/site-packages/hdmf/utils.py:668: UserWarning: Ignoring cached namespace 'hdmf-common' version 1.6.0 because version 1.8.0 is already loaded.\n",
      "  return func(args[0], **pargs)\n",
      "/home/eli/miniforge3/envs/ephys/lib/python3.11/site-packages/hdmf/utils.py:668: UserWarning: Ignoring cached namespace 'core' version 2.6.0-alpha because version 2.7.0 is already loaded.\n",
      "  return func(args[0], **pargs)\n",
      "/home/eli/miniforge3/envs/ephys/lib/python3.11/site-packages/hdmf/utils.py:668: UserWarning: Ignoring cached namespace 'hdmf-experimental' version 0.3.0 because version 0.5.0 is already loaded.\n",
      "  return func(args[0], **pargs)\n",
      "/home/eli/miniforge3/envs/ephys/lib/python3.11/site-packages/hdmf/utils.py:668: UserWarning: Ignoring cached namespace 'hdmf-common' version 1.6.0 because version 1.8.0 is already loaded.\n",
      "  return func(args[0], **pargs)\n",
      "/home/eli/miniforge3/envs/ephys/lib/python3.11/site-packages/hdmf/utils.py:668: UserWarning: Ignoring cached namespace 'core' version 2.6.0-alpha because version 2.7.0 is already loaded.\n",
      "  return func(args[0], **pargs)\n",
      "/home/eli/miniforge3/envs/ephys/lib/python3.11/site-packages/hdmf/utils.py:668: UserWarning: Ignoring cached namespace 'hdmf-experimental' version 0.3.0 because version 0.5.0 is already loaded.\n",
      "  return func(args[0], **pargs)\n",
      "/home/eli/miniforge3/envs/ephys/lib/python3.11/site-packages/hdmf/utils.py:668: UserWarning: Ignoring cached namespace 'hdmf-common' version 1.6.0 because version 1.8.0 is already loaded.\n",
      "  return func(args[0], **pargs)\n",
      "/home/eli/miniforge3/envs/ephys/lib/python3.11/site-packages/hdmf/utils.py:668: UserWarning: Ignoring cached namespace 'core' version 2.6.0-alpha because version 2.7.0 is already loaded.\n",
      "  return func(args[0], **pargs)\n",
      "/home/eli/miniforge3/envs/ephys/lib/python3.11/site-packages/hdmf/utils.py:668: UserWarning: Ignoring cached namespace 'hdmf-experimental' version 0.3.0 because version 0.5.0 is already loaded.\n",
      "  return func(args[0], **pargs)\n",
      "INFO:root:Finished epoching of go_gloexp condition in /mnt/data/DRAFT/000253/sub-632485/\n",
      "INFO:root:Finished epoching of lo_gloexp condition in /mnt/data/DRAFT/000253/sub-632485/\n",
      "INFO:root:Finished epoching of go_seqctl condition in /mnt/data/DRAFT/000253/sub-632485/\n",
      "INFO:root:Finished epoching of lo_rndctl condition in /mnt/data/DRAFT/000253/sub-632485/\n",
      "INFO:root:Finished epoching of igo_seqctl condition in /mnt/data/DRAFT/000253/sub-632485/\n",
      "INFO:root:Finished epoching of /mnt/data/DRAFT/000253/sub-632485/\n",
      "/home/eli/miniforge3/envs/ephys/lib/python3.11/site-packages/hdmf/utils.py:668: UserWarning: Ignoring cached namespace 'hdmf-common' version 1.6.0 because version 1.8.0 is already loaded.\n",
      "  return func(args[0], **pargs)\n",
      "/home/eli/miniforge3/envs/ephys/lib/python3.11/site-packages/hdmf/utils.py:668: UserWarning: Ignoring cached namespace 'core' version 2.6.0-alpha because version 2.7.0 is already loaded.\n",
      "  return func(args[0], **pargs)\n",
      "/home/eli/miniforge3/envs/ephys/lib/python3.11/site-packages/hdmf/utils.py:668: UserWarning: Ignoring cached namespace 'hdmf-experimental' version 0.3.0 because version 0.5.0 is already loaded.\n",
      "  return func(args[0], **pargs)\n",
      "/home/eli/miniforge3/envs/ephys/lib/python3.11/site-packages/hdmf/utils.py:668: UserWarning: Ignoring cached namespace 'hdmf-common' version 1.6.0 because version 1.8.0 is already loaded.\n",
      "  return func(args[0], **pargs)\n",
      "/home/eli/miniforge3/envs/ephys/lib/python3.11/site-packages/hdmf/utils.py:668: UserWarning: Ignoring cached namespace 'core' version 2.6.0-alpha because version 2.7.0 is already loaded.\n",
      "  return func(args[0], **pargs)\n",
      "/home/eli/miniforge3/envs/ephys/lib/python3.11/site-packages/hdmf/utils.py:668: UserWarning: Ignoring cached namespace 'hdmf-experimental' version 0.3.0 because version 0.5.0 is already loaded.\n",
      "  return func(args[0], **pargs)\n",
      "/home/eli/miniforge3/envs/ephys/lib/python3.11/site-packages/hdmf/utils.py:668: UserWarning: Ignoring cached namespace 'hdmf-common' version 1.6.0 because version 1.8.0 is already loaded.\n",
      "  return func(args[0], **pargs)\n",
      "/home/eli/miniforge3/envs/ephys/lib/python3.11/site-packages/hdmf/utils.py:668: UserWarning: Ignoring cached namespace 'core' version 2.6.0-alpha because version 2.7.0 is already loaded.\n",
      "  return func(args[0], **pargs)\n",
      "/home/eli/miniforge3/envs/ephys/lib/python3.11/site-packages/hdmf/utils.py:668: UserWarning: Ignoring cached namespace 'hdmf-experimental' version 0.3.0 because version 0.5.0 is already loaded.\n",
      "  return func(args[0], **pargs)\n",
      "/home/eli/miniforge3/envs/ephys/lib/python3.11/site-packages/hdmf/utils.py:668: UserWarning: Ignoring cached namespace 'hdmf-common' version 1.6.0 because version 1.8.0 is already loaded.\n",
      "  return func(args[0], **pargs)\n",
      "/home/eli/miniforge3/envs/ephys/lib/python3.11/site-packages/hdmf/utils.py:668: UserWarning: Ignoring cached namespace 'core' version 2.6.0-alpha because version 2.7.0 is already loaded.\n",
      "  return func(args[0], **pargs)\n",
      "/home/eli/miniforge3/envs/ephys/lib/python3.11/site-packages/hdmf/utils.py:668: UserWarning: Ignoring cached namespace 'hdmf-experimental' version 0.3.0 because version 0.5.0 is already loaded.\n",
      "  return func(args[0], **pargs)\n",
      "/home/eli/miniforge3/envs/ephys/lib/python3.11/site-packages/hdmf/utils.py:668: UserWarning: Ignoring cached namespace 'hdmf-common' version 1.6.0 because version 1.8.0 is already loaded.\n",
      "  return func(args[0], **pargs)\n",
      "/home/eli/miniforge3/envs/ephys/lib/python3.11/site-packages/hdmf/utils.py:668: UserWarning: Ignoring cached namespace 'core' version 2.6.0-alpha because version 2.7.0 is already loaded.\n",
      "  return func(args[0], **pargs)\n",
      "/home/eli/miniforge3/envs/ephys/lib/python3.11/site-packages/hdmf/utils.py:668: UserWarning: Ignoring cached namespace 'hdmf-experimental' version 0.3.0 because version 0.5.0 is already loaded.\n",
      "  return func(args[0], **pargs)\n",
      "/home/eli/miniforge3/envs/ephys/lib/python3.11/site-packages/hdmf/utils.py:668: UserWarning: Ignoring cached namespace 'hdmf-common' version 1.6.0 because version 1.8.0 is already loaded.\n",
      "  return func(args[0], **pargs)\n",
      "/home/eli/miniforge3/envs/ephys/lib/python3.11/site-packages/hdmf/utils.py:668: UserWarning: Ignoring cached namespace 'core' version 2.6.0-alpha because version 2.7.0 is already loaded.\n",
      "  return func(args[0], **pargs)\n",
      "/home/eli/miniforge3/envs/ephys/lib/python3.11/site-packages/hdmf/utils.py:668: UserWarning: Ignoring cached namespace 'hdmf-experimental' version 0.3.0 because version 0.5.0 is already loaded.\n",
      "  return func(args[0], **pargs)\n",
      "INFO:root:Finished epoching of go_gloexp condition in /mnt/data/DRAFT/000253/sub-632487/\n",
      "INFO:root:Finished epoching of lo_gloexp condition in /mnt/data/DRAFT/000253/sub-632487/\n",
      "INFO:root:Finished epoching of go_seqctl condition in /mnt/data/DRAFT/000253/sub-632487/\n",
      "INFO:root:Finished epoching of lo_rndctl condition in /mnt/data/DRAFT/000253/sub-632487/\n",
      "INFO:root:Finished epoching of igo_seqctl condition in /mnt/data/DRAFT/000253/sub-632487/\n",
      "INFO:root:Finished epoching of /mnt/data/DRAFT/000253/sub-632487/\n",
      "/home/eli/miniforge3/envs/ephys/lib/python3.11/site-packages/hdmf/utils.py:668: UserWarning: Ignoring cached namespace 'hdmf-common' version 1.6.0 because version 1.8.0 is already loaded.\n",
      "  return func(args[0], **pargs)\n",
      "/home/eli/miniforge3/envs/ephys/lib/python3.11/site-packages/hdmf/utils.py:668: UserWarning: Ignoring cached namespace 'core' version 2.6.0-alpha because version 2.7.0 is already loaded.\n",
      "  return func(args[0], **pargs)\n",
      "/home/eli/miniforge3/envs/ephys/lib/python3.11/site-packages/hdmf/utils.py:668: UserWarning: Ignoring cached namespace 'hdmf-experimental' version 0.3.0 because version 0.5.0 is already loaded.\n",
      "  return func(args[0], **pargs)\n",
      "/home/eli/miniforge3/envs/ephys/lib/python3.11/site-packages/hdmf/utils.py:668: UserWarning: Ignoring cached namespace 'hdmf-common' version 1.6.0 because version 1.8.0 is already loaded.\n",
      "  return func(args[0], **pargs)\n",
      "/home/eli/miniforge3/envs/ephys/lib/python3.11/site-packages/hdmf/utils.py:668: UserWarning: Ignoring cached namespace 'core' version 2.6.0-alpha because version 2.7.0 is already loaded.\n",
      "  return func(args[0], **pargs)\n",
      "/home/eli/miniforge3/envs/ephys/lib/python3.11/site-packages/hdmf/utils.py:668: UserWarning: Ignoring cached namespace 'hdmf-experimental' version 0.3.0 because version 0.5.0 is already loaded.\n",
      "  return func(args[0], **pargs)\n",
      "/home/eli/miniforge3/envs/ephys/lib/python3.11/site-packages/hdmf/utils.py:668: UserWarning: Ignoring cached namespace 'hdmf-common' version 1.6.0 because version 1.8.0 is already loaded.\n",
      "  return func(args[0], **pargs)\n",
      "/home/eli/miniforge3/envs/ephys/lib/python3.11/site-packages/hdmf/utils.py:668: UserWarning: Ignoring cached namespace 'core' version 2.6.0-alpha because version 2.7.0 is already loaded.\n",
      "  return func(args[0], **pargs)\n",
      "/home/eli/miniforge3/envs/ephys/lib/python3.11/site-packages/hdmf/utils.py:668: UserWarning: Ignoring cached namespace 'hdmf-experimental' version 0.3.0 because version 0.5.0 is already loaded.\n",
      "  return func(args[0], **pargs)\n",
      "/home/eli/miniforge3/envs/ephys/lib/python3.11/site-packages/hdmf/utils.py:668: UserWarning: Ignoring cached namespace 'hdmf-common' version 1.6.0 because version 1.8.0 is already loaded.\n",
      "  return func(args[0], **pargs)\n",
      "/home/eli/miniforge3/envs/ephys/lib/python3.11/site-packages/hdmf/utils.py:668: UserWarning: Ignoring cached namespace 'core' version 2.6.0-alpha because version 2.7.0 is already loaded.\n",
      "  return func(args[0], **pargs)\n",
      "/home/eli/miniforge3/envs/ephys/lib/python3.11/site-packages/hdmf/utils.py:668: UserWarning: Ignoring cached namespace 'hdmf-experimental' version 0.3.0 because version 0.5.0 is already loaded.\n",
      "  return func(args[0], **pargs)\n",
      "/home/eli/miniforge3/envs/ephys/lib/python3.11/site-packages/hdmf/utils.py:668: UserWarning: Ignoring cached namespace 'hdmf-common' version 1.6.0 because version 1.8.0 is already loaded.\n",
      "  return func(args[0], **pargs)\n",
      "/home/eli/miniforge3/envs/ephys/lib/python3.11/site-packages/hdmf/utils.py:668: UserWarning: Ignoring cached namespace 'core' version 2.6.0-alpha because version 2.7.0 is already loaded.\n",
      "  return func(args[0], **pargs)\n",
      "/home/eli/miniforge3/envs/ephys/lib/python3.11/site-packages/hdmf/utils.py:668: UserWarning: Ignoring cached namespace 'hdmf-experimental' version 0.3.0 because version 0.5.0 is already loaded.\n",
      "  return func(args[0], **pargs)\n",
      "/home/eli/miniforge3/envs/ephys/lib/python3.11/site-packages/hdmf/utils.py:668: UserWarning: Ignoring cached namespace 'hdmf-common' version 1.6.0 because version 1.8.0 is already loaded.\n",
      "  return func(args[0], **pargs)\n",
      "/home/eli/miniforge3/envs/ephys/lib/python3.11/site-packages/hdmf/utils.py:668: UserWarning: Ignoring cached namespace 'core' version 2.6.0-alpha because version 2.7.0 is already loaded.\n",
      "  return func(args[0], **pargs)\n",
      "/home/eli/miniforge3/envs/ephys/lib/python3.11/site-packages/hdmf/utils.py:668: UserWarning: Ignoring cached namespace 'hdmf-experimental' version 0.3.0 because version 0.5.0 is already loaded.\n",
      "  return func(args[0], **pargs)\n",
      "INFO:root:Finished epoching of go_gloexp condition in /mnt/data/DRAFT/000253/sub-637542/\n",
      "INFO:root:Finished epoching of lo_gloexp condition in /mnt/data/DRAFT/000253/sub-637542/\n",
      "INFO:root:Finished epoching of go_seqctl condition in /mnt/data/DRAFT/000253/sub-637542/\n",
      "INFO:root:Finished epoching of lo_rndctl condition in /mnt/data/DRAFT/000253/sub-637542/\n",
      "INFO:root:Finished epoching of igo_seqctl condition in /mnt/data/DRAFT/000253/sub-637542/\n",
      "INFO:root:Finished epoching of /mnt/data/DRAFT/000253/sub-637542/\n",
      "/home/eli/miniforge3/envs/ephys/lib/python3.11/site-packages/hdmf/utils.py:668: UserWarning: Ignoring cached namespace 'hdmf-common' version 1.6.0 because version 1.8.0 is already loaded.\n",
      "  return func(args[0], **pargs)\n",
      "/home/eli/miniforge3/envs/ephys/lib/python3.11/site-packages/hdmf/utils.py:668: UserWarning: Ignoring cached namespace 'core' version 2.6.0-alpha because version 2.7.0 is already loaded.\n",
      "  return func(args[0], **pargs)\n",
      "/home/eli/miniforge3/envs/ephys/lib/python3.11/site-packages/hdmf/utils.py:668: UserWarning: Ignoring cached namespace 'hdmf-experimental' version 0.3.0 because version 0.5.0 is already loaded.\n",
      "  return func(args[0], **pargs)\n",
      "/home/eli/miniforge3/envs/ephys/lib/python3.11/site-packages/hdmf/utils.py:668: UserWarning: Ignoring cached namespace 'hdmf-common' version 1.6.0 because version 1.8.0 is already loaded.\n",
      "  return func(args[0], **pargs)\n",
      "/home/eli/miniforge3/envs/ephys/lib/python3.11/site-packages/hdmf/utils.py:668: UserWarning: Ignoring cached namespace 'core' version 2.6.0-alpha because version 2.7.0 is already loaded.\n",
      "  return func(args[0], **pargs)\n",
      "/home/eli/miniforge3/envs/ephys/lib/python3.11/site-packages/hdmf/utils.py:668: UserWarning: Ignoring cached namespace 'hdmf-experimental' version 0.3.0 because version 0.5.0 is already loaded.\n",
      "  return func(args[0], **pargs)\n",
      "/home/eli/miniforge3/envs/ephys/lib/python3.11/site-packages/hdmf/utils.py:668: UserWarning: Ignoring cached namespace 'hdmf-common' version 1.6.0 because version 1.8.0 is already loaded.\n",
      "  return func(args[0], **pargs)\n",
      "/home/eli/miniforge3/envs/ephys/lib/python3.11/site-packages/hdmf/utils.py:668: UserWarning: Ignoring cached namespace 'core' version 2.6.0-alpha because version 2.7.0 is already loaded.\n",
      "  return func(args[0], **pargs)\n",
      "/home/eli/miniforge3/envs/ephys/lib/python3.11/site-packages/hdmf/utils.py:668: UserWarning: Ignoring cached namespace 'hdmf-experimental' version 0.3.0 because version 0.5.0 is already loaded.\n",
      "  return func(args[0], **pargs)\n",
      "/home/eli/miniforge3/envs/ephys/lib/python3.11/site-packages/hdmf/utils.py:668: UserWarning: Ignoring cached namespace 'hdmf-common' version 1.6.0 because version 1.8.0 is already loaded.\n",
      "  return func(args[0], **pargs)\n",
      "/home/eli/miniforge3/envs/ephys/lib/python3.11/site-packages/hdmf/utils.py:668: UserWarning: Ignoring cached namespace 'core' version 2.6.0-alpha because version 2.7.0 is already loaded.\n",
      "  return func(args[0], **pargs)\n",
      "/home/eli/miniforge3/envs/ephys/lib/python3.11/site-packages/hdmf/utils.py:668: UserWarning: Ignoring cached namespace 'hdmf-experimental' version 0.3.0 because version 0.5.0 is already loaded.\n",
      "  return func(args[0], **pargs)\n",
      "/home/eli/miniforge3/envs/ephys/lib/python3.11/site-packages/hdmf/utils.py:668: UserWarning: Ignoring cached namespace 'hdmf-common' version 1.6.0 because version 1.8.0 is already loaded.\n",
      "  return func(args[0], **pargs)\n",
      "/home/eli/miniforge3/envs/ephys/lib/python3.11/site-packages/hdmf/utils.py:668: UserWarning: Ignoring cached namespace 'core' version 2.6.0-alpha because version 2.7.0 is already loaded.\n",
      "  return func(args[0], **pargs)\n",
      "/home/eli/miniforge3/envs/ephys/lib/python3.11/site-packages/hdmf/utils.py:668: UserWarning: Ignoring cached namespace 'hdmf-experimental' version 0.3.0 because version 0.5.0 is already loaded.\n",
      "  return func(args[0], **pargs)\n",
      "/home/eli/miniforge3/envs/ephys/lib/python3.11/site-packages/hdmf/utils.py:668: UserWarning: Ignoring cached namespace 'hdmf-common' version 1.6.0 because version 1.8.0 is already loaded.\n",
      "  return func(args[0], **pargs)\n",
      "/home/eli/miniforge3/envs/ephys/lib/python3.11/site-packages/hdmf/utils.py:668: UserWarning: Ignoring cached namespace 'core' version 2.6.0-alpha because version 2.7.0 is already loaded.\n",
      "  return func(args[0], **pargs)\n",
      "/home/eli/miniforge3/envs/ephys/lib/python3.11/site-packages/hdmf/utils.py:668: UserWarning: Ignoring cached namespace 'hdmf-experimental' version 0.3.0 because version 0.5.0 is already loaded.\n",
      "  return func(args[0], **pargs)\n",
      "INFO:root:Finished epoching of go_gloexp condition in /mnt/data/DRAFT/000253/sub-637908/\n",
      "INFO:root:Finished epoching of lo_gloexp condition in /mnt/data/DRAFT/000253/sub-637908/\n",
      "INFO:root:Finished epoching of go_seqctl condition in /mnt/data/DRAFT/000253/sub-637908/\n",
      "INFO:root:Finished epoching of lo_rndctl condition in /mnt/data/DRAFT/000253/sub-637908/\n",
      "INFO:root:Finished epoching of igo_seqctl condition in /mnt/data/DRAFT/000253/sub-637908/\n",
      "INFO:root:Finished epoching of /mnt/data/DRAFT/000253/sub-637908/\n",
      "/home/eli/miniforge3/envs/ephys/lib/python3.11/site-packages/hdmf/utils.py:668: UserWarning: Ignoring cached namespace 'hdmf-common' version 1.6.0 because version 1.8.0 is already loaded.\n",
      "  return func(args[0], **pargs)\n",
      "/home/eli/miniforge3/envs/ephys/lib/python3.11/site-packages/hdmf/utils.py:668: UserWarning: Ignoring cached namespace 'core' version 2.6.0-alpha because version 2.7.0 is already loaded.\n",
      "  return func(args[0], **pargs)\n",
      "/home/eli/miniforge3/envs/ephys/lib/python3.11/site-packages/hdmf/utils.py:668: UserWarning: Ignoring cached namespace 'hdmf-experimental' version 0.3.0 because version 0.5.0 is already loaded.\n",
      "  return func(args[0], **pargs)\n",
      "/home/eli/miniforge3/envs/ephys/lib/python3.11/site-packages/hdmf/utils.py:668: UserWarning: Ignoring cached namespace 'hdmf-common' version 1.6.0 because version 1.8.0 is already loaded.\n",
      "  return func(args[0], **pargs)\n",
      "/home/eli/miniforge3/envs/ephys/lib/python3.11/site-packages/hdmf/utils.py:668: UserWarning: Ignoring cached namespace 'core' version 2.6.0-alpha because version 2.7.0 is already loaded.\n",
      "  return func(args[0], **pargs)\n",
      "/home/eli/miniforge3/envs/ephys/lib/python3.11/site-packages/hdmf/utils.py:668: UserWarning: Ignoring cached namespace 'hdmf-experimental' version 0.3.0 because version 0.5.0 is already loaded.\n",
      "  return func(args[0], **pargs)\n",
      "/home/eli/miniforge3/envs/ephys/lib/python3.11/site-packages/hdmf/utils.py:668: UserWarning: Ignoring cached namespace 'hdmf-common' version 1.6.0 because version 1.8.0 is already loaded.\n",
      "  return func(args[0], **pargs)\n",
      "/home/eli/miniforge3/envs/ephys/lib/python3.11/site-packages/hdmf/utils.py:668: UserWarning: Ignoring cached namespace 'core' version 2.6.0-alpha because version 2.7.0 is already loaded.\n",
      "  return func(args[0], **pargs)\n",
      "/home/eli/miniforge3/envs/ephys/lib/python3.11/site-packages/hdmf/utils.py:668: UserWarning: Ignoring cached namespace 'hdmf-experimental' version 0.3.0 because version 0.5.0 is already loaded.\n",
      "  return func(args[0], **pargs)\n",
      "/home/eli/miniforge3/envs/ephys/lib/python3.11/site-packages/hdmf/utils.py:668: UserWarning: Ignoring cached namespace 'hdmf-common' version 1.6.0 because version 1.8.0 is already loaded.\n",
      "  return func(args[0], **pargs)\n",
      "/home/eli/miniforge3/envs/ephys/lib/python3.11/site-packages/hdmf/utils.py:668: UserWarning: Ignoring cached namespace 'core' version 2.6.0-alpha because version 2.7.0 is already loaded.\n",
      "  return func(args[0], **pargs)\n",
      "/home/eli/miniforge3/envs/ephys/lib/python3.11/site-packages/hdmf/utils.py:668: UserWarning: Ignoring cached namespace 'hdmf-experimental' version 0.3.0 because version 0.5.0 is already loaded.\n",
      "  return func(args[0], **pargs)\n",
      "/home/eli/miniforge3/envs/ephys/lib/python3.11/site-packages/hdmf/utils.py:668: UserWarning: Ignoring cached namespace 'hdmf-common' version 1.6.0 because version 1.8.0 is already loaded.\n",
      "  return func(args[0], **pargs)\n",
      "/home/eli/miniforge3/envs/ephys/lib/python3.11/site-packages/hdmf/utils.py:668: UserWarning: Ignoring cached namespace 'core' version 2.6.0-alpha because version 2.7.0 is already loaded.\n",
      "  return func(args[0], **pargs)\n",
      "/home/eli/miniforge3/envs/ephys/lib/python3.11/site-packages/hdmf/utils.py:668: UserWarning: Ignoring cached namespace 'hdmf-experimental' version 0.3.0 because version 0.5.0 is already loaded.\n",
      "  return func(args[0], **pargs)\n",
      "/home/eli/miniforge3/envs/ephys/lib/python3.11/site-packages/hdmf/utils.py:668: UserWarning: Ignoring cached namespace 'hdmf-common' version 1.6.0 because version 1.8.0 is already loaded.\n",
      "  return func(args[0], **pargs)\n",
      "/home/eli/miniforge3/envs/ephys/lib/python3.11/site-packages/hdmf/utils.py:668: UserWarning: Ignoring cached namespace 'core' version 2.6.0-alpha because version 2.7.0 is already loaded.\n",
      "  return func(args[0], **pargs)\n",
      "/home/eli/miniforge3/envs/ephys/lib/python3.11/site-packages/hdmf/utils.py:668: UserWarning: Ignoring cached namespace 'hdmf-experimental' version 0.3.0 because version 0.5.0 is already loaded.\n",
      "  return func(args[0], **pargs)\n",
      "INFO:root:Finished epoching of go_gloexp condition in /mnt/data/DRAFT/000253/sub-637909/\n",
      "INFO:root:Finished epoching of lo_gloexp condition in /mnt/data/DRAFT/000253/sub-637909/\n",
      "INFO:root:Finished epoching of go_seqctl condition in /mnt/data/DRAFT/000253/sub-637909/\n",
      "INFO:root:Finished epoching of lo_rndctl condition in /mnt/data/DRAFT/000253/sub-637909/\n",
      "INFO:root:Finished epoching of igo_seqctl condition in /mnt/data/DRAFT/000253/sub-637909/\n",
      "INFO:root:Finished epoching of /mnt/data/DRAFT/000253/sub-637909/\n",
      "/home/eli/miniforge3/envs/ephys/lib/python3.11/site-packages/hdmf/utils.py:668: UserWarning: Ignoring cached namespace 'hdmf-common' version 1.6.0 because version 1.8.0 is already loaded.\n",
      "  return func(args[0], **pargs)\n",
      "/home/eli/miniforge3/envs/ephys/lib/python3.11/site-packages/hdmf/utils.py:668: UserWarning: Ignoring cached namespace 'core' version 2.6.0-alpha because version 2.7.0 is already loaded.\n",
      "  return func(args[0], **pargs)\n",
      "/home/eli/miniforge3/envs/ephys/lib/python3.11/site-packages/hdmf/utils.py:668: UserWarning: Ignoring cached namespace 'hdmf-experimental' version 0.3.0 because version 0.5.0 is already loaded.\n",
      "  return func(args[0], **pargs)\n",
      "/home/eli/miniforge3/envs/ephys/lib/python3.11/site-packages/hdmf/utils.py:668: UserWarning: Ignoring cached namespace 'hdmf-common' version 1.6.0 because version 1.8.0 is already loaded.\n",
      "  return func(args[0], **pargs)\n",
      "/home/eli/miniforge3/envs/ephys/lib/python3.11/site-packages/hdmf/utils.py:668: UserWarning: Ignoring cached namespace 'core' version 2.6.0-alpha because version 2.7.0 is already loaded.\n",
      "  return func(args[0], **pargs)\n",
      "/home/eli/miniforge3/envs/ephys/lib/python3.11/site-packages/hdmf/utils.py:668: UserWarning: Ignoring cached namespace 'hdmf-experimental' version 0.3.0 because version 0.5.0 is already loaded.\n",
      "  return func(args[0], **pargs)\n",
      "/home/eli/miniforge3/envs/ephys/lib/python3.11/site-packages/hdmf/utils.py:668: UserWarning: Ignoring cached namespace 'hdmf-common' version 1.6.0 because version 1.8.0 is already loaded.\n",
      "  return func(args[0], **pargs)\n",
      "/home/eli/miniforge3/envs/ephys/lib/python3.11/site-packages/hdmf/utils.py:668: UserWarning: Ignoring cached namespace 'core' version 2.6.0-alpha because version 2.7.0 is already loaded.\n",
      "  return func(args[0], **pargs)\n",
      "/home/eli/miniforge3/envs/ephys/lib/python3.11/site-packages/hdmf/utils.py:668: UserWarning: Ignoring cached namespace 'hdmf-experimental' version 0.3.0 because version 0.5.0 is already loaded.\n",
      "  return func(args[0], **pargs)\n",
      "/home/eli/miniforge3/envs/ephys/lib/python3.11/site-packages/hdmf/utils.py:668: UserWarning: Ignoring cached namespace 'hdmf-common' version 1.6.0 because version 1.8.0 is already loaded.\n",
      "  return func(args[0], **pargs)\n",
      "/home/eli/miniforge3/envs/ephys/lib/python3.11/site-packages/hdmf/utils.py:668: UserWarning: Ignoring cached namespace 'core' version 2.6.0-alpha because version 2.7.0 is already loaded.\n",
      "  return func(args[0], **pargs)\n",
      "/home/eli/miniforge3/envs/ephys/lib/python3.11/site-packages/hdmf/utils.py:668: UserWarning: Ignoring cached namespace 'hdmf-experimental' version 0.3.0 because version 0.5.0 is already loaded.\n",
      "  return func(args[0], **pargs)\n",
      "/home/eli/miniforge3/envs/ephys/lib/python3.11/site-packages/hdmf/utils.py:668: UserWarning: Ignoring cached namespace 'hdmf-common' version 1.6.0 because version 1.8.0 is already loaded.\n",
      "  return func(args[0], **pargs)\n",
      "/home/eli/miniforge3/envs/ephys/lib/python3.11/site-packages/hdmf/utils.py:668: UserWarning: Ignoring cached namespace 'core' version 2.6.0-alpha because version 2.7.0 is already loaded.\n",
      "  return func(args[0], **pargs)\n",
      "/home/eli/miniforge3/envs/ephys/lib/python3.11/site-packages/hdmf/utils.py:668: UserWarning: Ignoring cached namespace 'hdmf-experimental' version 0.3.0 because version 0.5.0 is already loaded.\n",
      "  return func(args[0], **pargs)\n",
      "/home/eli/miniforge3/envs/ephys/lib/python3.11/site-packages/hdmf/utils.py:668: UserWarning: Ignoring cached namespace 'hdmf-common' version 1.6.0 because version 1.8.0 is already loaded.\n",
      "  return func(args[0], **pargs)\n",
      "/home/eli/miniforge3/envs/ephys/lib/python3.11/site-packages/hdmf/utils.py:668: UserWarning: Ignoring cached namespace 'core' version 2.6.0-alpha because version 2.7.0 is already loaded.\n",
      "  return func(args[0], **pargs)\n",
      "/home/eli/miniforge3/envs/ephys/lib/python3.11/site-packages/hdmf/utils.py:668: UserWarning: Ignoring cached namespace 'hdmf-experimental' version 0.3.0 because version 0.5.0 is already loaded.\n",
      "  return func(args[0], **pargs)\n",
      "INFO:root:Finished epoching of go_gloexp condition in /mnt/data/DRAFT/000253/sub-640507/\n",
      "INFO:root:Finished epoching of lo_gloexp condition in /mnt/data/DRAFT/000253/sub-640507/\n",
      "INFO:root:Finished epoching of go_seqctl condition in /mnt/data/DRAFT/000253/sub-640507/\n",
      "INFO:root:Finished epoching of lo_rndctl condition in /mnt/data/DRAFT/000253/sub-640507/\n",
      "INFO:root:Finished epoching of igo_seqctl condition in /mnt/data/DRAFT/000253/sub-640507/\n",
      "INFO:root:Finished epoching of /mnt/data/DRAFT/000253/sub-640507/\n",
      "/home/eli/miniforge3/envs/ephys/lib/python3.11/site-packages/hdmf/utils.py:668: UserWarning: Ignoring cached namespace 'hdmf-common' version 1.6.0 because version 1.8.0 is already loaded.\n",
      "  return func(args[0], **pargs)\n",
      "/home/eli/miniforge3/envs/ephys/lib/python3.11/site-packages/hdmf/utils.py:668: UserWarning: Ignoring cached namespace 'core' version 2.6.0-alpha because version 2.7.0 is already loaded.\n",
      "  return func(args[0], **pargs)\n",
      "/home/eli/miniforge3/envs/ephys/lib/python3.11/site-packages/hdmf/utils.py:668: UserWarning: Ignoring cached namespace 'hdmf-experimental' version 0.3.0 because version 0.5.0 is already loaded.\n",
      "  return func(args[0], **pargs)\n",
      "/home/eli/miniforge3/envs/ephys/lib/python3.11/site-packages/hdmf/utils.py:668: UserWarning: Ignoring cached namespace 'hdmf-common' version 1.6.0 because version 1.8.0 is already loaded.\n",
      "  return func(args[0], **pargs)\n",
      "/home/eli/miniforge3/envs/ephys/lib/python3.11/site-packages/hdmf/utils.py:668: UserWarning: Ignoring cached namespace 'core' version 2.6.0-alpha because version 2.7.0 is already loaded.\n",
      "  return func(args[0], **pargs)\n",
      "/home/eli/miniforge3/envs/ephys/lib/python3.11/site-packages/hdmf/utils.py:668: UserWarning: Ignoring cached namespace 'hdmf-experimental' version 0.3.0 because version 0.5.0 is already loaded.\n",
      "  return func(args[0], **pargs)\n",
      "/home/eli/miniforge3/envs/ephys/lib/python3.11/site-packages/hdmf/utils.py:668: UserWarning: Ignoring cached namespace 'hdmf-common' version 1.6.0 because version 1.8.0 is already loaded.\n",
      "  return func(args[0], **pargs)\n",
      "/home/eli/miniforge3/envs/ephys/lib/python3.11/site-packages/hdmf/utils.py:668: UserWarning: Ignoring cached namespace 'core' version 2.6.0-alpha because version 2.7.0 is already loaded.\n",
      "  return func(args[0], **pargs)\n",
      "/home/eli/miniforge3/envs/ephys/lib/python3.11/site-packages/hdmf/utils.py:668: UserWarning: Ignoring cached namespace 'hdmf-experimental' version 0.3.0 because version 0.5.0 is already loaded.\n",
      "  return func(args[0], **pargs)\n",
      "/home/eli/miniforge3/envs/ephys/lib/python3.11/site-packages/hdmf/utils.py:668: UserWarning: Ignoring cached namespace 'hdmf-common' version 1.6.0 because version 1.8.0 is already loaded.\n",
      "  return func(args[0], **pargs)\n",
      "/home/eli/miniforge3/envs/ephys/lib/python3.11/site-packages/hdmf/utils.py:668: UserWarning: Ignoring cached namespace 'core' version 2.6.0-alpha because version 2.7.0 is already loaded.\n",
      "  return func(args[0], **pargs)\n",
      "/home/eli/miniforge3/envs/ephys/lib/python3.11/site-packages/hdmf/utils.py:668: UserWarning: Ignoring cached namespace 'hdmf-experimental' version 0.3.0 because version 0.5.0 is already loaded.\n",
      "  return func(args[0], **pargs)\n",
      "/home/eli/miniforge3/envs/ephys/lib/python3.11/site-packages/hdmf/utils.py:668: UserWarning: Ignoring cached namespace 'hdmf-common' version 1.6.0 because version 1.8.0 is already loaded.\n",
      "  return func(args[0], **pargs)\n",
      "/home/eli/miniforge3/envs/ephys/lib/python3.11/site-packages/hdmf/utils.py:668: UserWarning: Ignoring cached namespace 'core' version 2.6.0-alpha because version 2.7.0 is already loaded.\n",
      "  return func(args[0], **pargs)\n",
      "/home/eli/miniforge3/envs/ephys/lib/python3.11/site-packages/hdmf/utils.py:668: UserWarning: Ignoring cached namespace 'hdmf-experimental' version 0.3.0 because version 0.5.0 is already loaded.\n",
      "  return func(args[0], **pargs)\n",
      "/home/eli/miniforge3/envs/ephys/lib/python3.11/site-packages/hdmf/utils.py:668: UserWarning: Ignoring cached namespace 'hdmf-common' version 1.6.0 because version 1.8.0 is already loaded.\n",
      "  return func(args[0], **pargs)\n",
      "/home/eli/miniforge3/envs/ephys/lib/python3.11/site-packages/hdmf/utils.py:668: UserWarning: Ignoring cached namespace 'core' version 2.6.0-alpha because version 2.7.0 is already loaded.\n",
      "  return func(args[0], **pargs)\n",
      "/home/eli/miniforge3/envs/ephys/lib/python3.11/site-packages/hdmf/utils.py:668: UserWarning: Ignoring cached namespace 'hdmf-experimental' version 0.3.0 because version 0.5.0 is already loaded.\n",
      "  return func(args[0], **pargs)\n",
      "INFO:root:Finished epoching of go_gloexp condition in /mnt/data/DRAFT/000253/sub-642507/\n",
      "INFO:root:Finished epoching of lo_gloexp condition in /mnt/data/DRAFT/000253/sub-642507/\n",
      "INFO:root:Finished epoching of go_seqctl condition in /mnt/data/DRAFT/000253/sub-642507/\n",
      "INFO:root:Finished epoching of lo_rndctl condition in /mnt/data/DRAFT/000253/sub-642507/\n",
      "INFO:root:Finished epoching of igo_seqctl condition in /mnt/data/DRAFT/000253/sub-642507/\n",
      "INFO:root:Finished epoching of /mnt/data/DRAFT/000253/sub-642507/\n",
      "/home/eli/miniforge3/envs/ephys/lib/python3.11/site-packages/hdmf/utils.py:668: UserWarning: Ignoring cached namespace 'hdmf-common' version 1.6.0 because version 1.8.0 is already loaded.\n",
      "  return func(args[0], **pargs)\n",
      "/home/eli/miniforge3/envs/ephys/lib/python3.11/site-packages/hdmf/utils.py:668: UserWarning: Ignoring cached namespace 'core' version 2.6.0-alpha because version 2.7.0 is already loaded.\n",
      "  return func(args[0], **pargs)\n",
      "/home/eli/miniforge3/envs/ephys/lib/python3.11/site-packages/hdmf/utils.py:668: UserWarning: Ignoring cached namespace 'hdmf-experimental' version 0.3.0 because version 0.5.0 is already loaded.\n",
      "  return func(args[0], **pargs)\n",
      "/home/eli/miniforge3/envs/ephys/lib/python3.11/site-packages/hdmf/utils.py:668: UserWarning: Ignoring cached namespace 'hdmf-common' version 1.6.0 because version 1.8.0 is already loaded.\n",
      "  return func(args[0], **pargs)\n",
      "/home/eli/miniforge3/envs/ephys/lib/python3.11/site-packages/hdmf/utils.py:668: UserWarning: Ignoring cached namespace 'core' version 2.6.0-alpha because version 2.7.0 is already loaded.\n",
      "  return func(args[0], **pargs)\n",
      "/home/eli/miniforge3/envs/ephys/lib/python3.11/site-packages/hdmf/utils.py:668: UserWarning: Ignoring cached namespace 'hdmf-experimental' version 0.3.0 because version 0.5.0 is already loaded.\n",
      "  return func(args[0], **pargs)\n",
      "/home/eli/miniforge3/envs/ephys/lib/python3.11/site-packages/hdmf/utils.py:668: UserWarning: Ignoring cached namespace 'hdmf-common' version 1.6.0 because version 1.8.0 is already loaded.\n",
      "  return func(args[0], **pargs)\n",
      "/home/eli/miniforge3/envs/ephys/lib/python3.11/site-packages/hdmf/utils.py:668: UserWarning: Ignoring cached namespace 'core' version 2.6.0-alpha because version 2.7.0 is already loaded.\n",
      "  return func(args[0], **pargs)\n",
      "/home/eli/miniforge3/envs/ephys/lib/python3.11/site-packages/hdmf/utils.py:668: UserWarning: Ignoring cached namespace 'hdmf-experimental' version 0.3.0 because version 0.5.0 is already loaded.\n",
      "  return func(args[0], **pargs)\n",
      "/home/eli/miniforge3/envs/ephys/lib/python3.11/site-packages/hdmf/utils.py:668: UserWarning: Ignoring cached namespace 'hdmf-common' version 1.6.0 because version 1.8.0 is already loaded.\n",
      "  return func(args[0], **pargs)\n",
      "/home/eli/miniforge3/envs/ephys/lib/python3.11/site-packages/hdmf/utils.py:668: UserWarning: Ignoring cached namespace 'core' version 2.6.0-alpha because version 2.7.0 is already loaded.\n",
      "  return func(args[0], **pargs)\n",
      "/home/eli/miniforge3/envs/ephys/lib/python3.11/site-packages/hdmf/utils.py:668: UserWarning: Ignoring cached namespace 'hdmf-experimental' version 0.3.0 because version 0.5.0 is already loaded.\n",
      "  return func(args[0], **pargs)\n",
      "/home/eli/miniforge3/envs/ephys/lib/python3.11/site-packages/hdmf/utils.py:668: UserWarning: Ignoring cached namespace 'hdmf-common' version 1.6.0 because version 1.8.0 is already loaded.\n",
      "  return func(args[0], **pargs)\n",
      "/home/eli/miniforge3/envs/ephys/lib/python3.11/site-packages/hdmf/utils.py:668: UserWarning: Ignoring cached namespace 'core' version 2.6.0-alpha because version 2.7.0 is already loaded.\n",
      "  return func(args[0], **pargs)\n",
      "/home/eli/miniforge3/envs/ephys/lib/python3.11/site-packages/hdmf/utils.py:668: UserWarning: Ignoring cached namespace 'hdmf-experimental' version 0.3.0 because version 0.5.0 is already loaded.\n",
      "  return func(args[0], **pargs)\n",
      "/home/eli/miniforge3/envs/ephys/lib/python3.11/site-packages/hdmf/utils.py:668: UserWarning: Ignoring cached namespace 'hdmf-common' version 1.6.0 because version 1.8.0 is already loaded.\n",
      "  return func(args[0], **pargs)\n",
      "/home/eli/miniforge3/envs/ephys/lib/python3.11/site-packages/hdmf/utils.py:668: UserWarning: Ignoring cached namespace 'core' version 2.6.0-alpha because version 2.7.0 is already loaded.\n",
      "  return func(args[0], **pargs)\n",
      "/home/eli/miniforge3/envs/ephys/lib/python3.11/site-packages/hdmf/utils.py:668: UserWarning: Ignoring cached namespace 'hdmf-experimental' version 0.3.0 because version 0.5.0 is already loaded.\n",
      "  return func(args[0], **pargs)\n",
      "INFO:root:Finished epoching of go_gloexp condition in /mnt/data/DRAFT/000253/sub-645322/\n",
      "INFO:root:Finished epoching of lo_gloexp condition in /mnt/data/DRAFT/000253/sub-645322/\n",
      "INFO:root:Finished epoching of go_seqctl condition in /mnt/data/DRAFT/000253/sub-645322/\n",
      "INFO:root:Finished epoching of lo_rndctl condition in /mnt/data/DRAFT/000253/sub-645322/\n",
      "INFO:root:Finished epoching of igo_seqctl condition in /mnt/data/DRAFT/000253/sub-645322/\n",
      "INFO:root:Finished epoching of /mnt/data/DRAFT/000253/sub-645322/\n",
      "/home/eli/miniforge3/envs/ephys/lib/python3.11/site-packages/hdmf/utils.py:668: UserWarning: Ignoring cached namespace 'hdmf-common' version 1.6.0 because version 1.8.0 is already loaded.\n",
      "  return func(args[0], **pargs)\n",
      "/home/eli/miniforge3/envs/ephys/lib/python3.11/site-packages/hdmf/utils.py:668: UserWarning: Ignoring cached namespace 'core' version 2.6.0-alpha because version 2.7.0 is already loaded.\n",
      "  return func(args[0], **pargs)\n",
      "/home/eli/miniforge3/envs/ephys/lib/python3.11/site-packages/hdmf/utils.py:668: UserWarning: Ignoring cached namespace 'hdmf-experimental' version 0.3.0 because version 0.5.0 is already loaded.\n",
      "  return func(args[0], **pargs)\n",
      "/home/eli/miniforge3/envs/ephys/lib/python3.11/site-packages/hdmf/utils.py:668: UserWarning: Ignoring cached namespace 'hdmf-common' version 1.6.0 because version 1.8.0 is already loaded.\n",
      "  return func(args[0], **pargs)\n",
      "/home/eli/miniforge3/envs/ephys/lib/python3.11/site-packages/hdmf/utils.py:668: UserWarning: Ignoring cached namespace 'core' version 2.6.0-alpha because version 2.7.0 is already loaded.\n",
      "  return func(args[0], **pargs)\n",
      "/home/eli/miniforge3/envs/ephys/lib/python3.11/site-packages/hdmf/utils.py:668: UserWarning: Ignoring cached namespace 'hdmf-experimental' version 0.3.0 because version 0.5.0 is already loaded.\n",
      "  return func(args[0], **pargs)\n",
      "/home/eli/miniforge3/envs/ephys/lib/python3.11/site-packages/hdmf/utils.py:668: UserWarning: Ignoring cached namespace 'hdmf-common' version 1.6.0 because version 1.8.0 is already loaded.\n",
      "  return func(args[0], **pargs)\n",
      "/home/eli/miniforge3/envs/ephys/lib/python3.11/site-packages/hdmf/utils.py:668: UserWarning: Ignoring cached namespace 'core' version 2.6.0-alpha because version 2.7.0 is already loaded.\n",
      "  return func(args[0], **pargs)\n",
      "/home/eli/miniforge3/envs/ephys/lib/python3.11/site-packages/hdmf/utils.py:668: UserWarning: Ignoring cached namespace 'hdmf-experimental' version 0.3.0 because version 0.5.0 is already loaded.\n",
      "  return func(args[0], **pargs)\n",
      "/home/eli/miniforge3/envs/ephys/lib/python3.11/site-packages/hdmf/utils.py:668: UserWarning: Ignoring cached namespace 'hdmf-common' version 1.6.0 because version 1.8.0 is already loaded.\n",
      "  return func(args[0], **pargs)\n",
      "/home/eli/miniforge3/envs/ephys/lib/python3.11/site-packages/hdmf/utils.py:668: UserWarning: Ignoring cached namespace 'core' version 2.6.0-alpha because version 2.7.0 is already loaded.\n",
      "  return func(args[0], **pargs)\n",
      "/home/eli/miniforge3/envs/ephys/lib/python3.11/site-packages/hdmf/utils.py:668: UserWarning: Ignoring cached namespace 'hdmf-experimental' version 0.3.0 because version 0.5.0 is already loaded.\n",
      "  return func(args[0], **pargs)\n",
      "/home/eli/miniforge3/envs/ephys/lib/python3.11/site-packages/hdmf/utils.py:668: UserWarning: Ignoring cached namespace 'hdmf-common' version 1.6.0 because version 1.8.0 is already loaded.\n",
      "  return func(args[0], **pargs)\n",
      "/home/eli/miniforge3/envs/ephys/lib/python3.11/site-packages/hdmf/utils.py:668: UserWarning: Ignoring cached namespace 'core' version 2.6.0-alpha because version 2.7.0 is already loaded.\n",
      "  return func(args[0], **pargs)\n",
      "/home/eli/miniforge3/envs/ephys/lib/python3.11/site-packages/hdmf/utils.py:668: UserWarning: Ignoring cached namespace 'hdmf-experimental' version 0.3.0 because version 0.5.0 is already loaded.\n",
      "  return func(args[0], **pargs)\n",
      "/home/eli/miniforge3/envs/ephys/lib/python3.11/site-packages/hdmf/utils.py:668: UserWarning: Ignoring cached namespace 'hdmf-common' version 1.6.0 because version 1.8.0 is already loaded.\n",
      "  return func(args[0], **pargs)\n",
      "/home/eli/miniforge3/envs/ephys/lib/python3.11/site-packages/hdmf/utils.py:668: UserWarning: Ignoring cached namespace 'core' version 2.6.0-alpha because version 2.7.0 is already loaded.\n",
      "  return func(args[0], **pargs)\n",
      "/home/eli/miniforge3/envs/ephys/lib/python3.11/site-packages/hdmf/utils.py:668: UserWarning: Ignoring cached namespace 'hdmf-experimental' version 0.3.0 because version 0.5.0 is already loaded.\n",
      "  return func(args[0], **pargs)\n",
      "INFO:root:Finished epoching of go_gloexp condition in /mnt/data/DRAFT/000253/sub-645324/\n",
      "INFO:root:Finished epoching of lo_gloexp condition in /mnt/data/DRAFT/000253/sub-645324/\n",
      "INFO:root:Finished epoching of go_seqctl condition in /mnt/data/DRAFT/000253/sub-645324/\n",
      "INFO:root:Finished epoching of lo_rndctl condition in /mnt/data/DRAFT/000253/sub-645324/\n",
      "INFO:root:Finished epoching of igo_seqctl condition in /mnt/data/DRAFT/000253/sub-645324/\n",
      "INFO:root:Finished epoching of /mnt/data/DRAFT/000253/sub-645324/\n",
      "/home/eli/miniforge3/envs/ephys/lib/python3.11/site-packages/hdmf/utils.py:668: UserWarning: Ignoring cached namespace 'hdmf-common' version 1.6.0 because version 1.8.0 is already loaded.\n",
      "  return func(args[0], **pargs)\n",
      "/home/eli/miniforge3/envs/ephys/lib/python3.11/site-packages/hdmf/utils.py:668: UserWarning: Ignoring cached namespace 'core' version 2.6.0-alpha because version 2.7.0 is already loaded.\n",
      "  return func(args[0], **pargs)\n",
      "/home/eli/miniforge3/envs/ephys/lib/python3.11/site-packages/hdmf/utils.py:668: UserWarning: Ignoring cached namespace 'hdmf-experimental' version 0.3.0 because version 0.5.0 is already loaded.\n",
      "  return func(args[0], **pargs)\n",
      "/home/eli/miniforge3/envs/ephys/lib/python3.11/site-packages/hdmf/utils.py:668: UserWarning: Ignoring cached namespace 'hdmf-common' version 1.6.0 because version 1.8.0 is already loaded.\n",
      "  return func(args[0], **pargs)\n",
      "/home/eli/miniforge3/envs/ephys/lib/python3.11/site-packages/hdmf/utils.py:668: UserWarning: Ignoring cached namespace 'core' version 2.6.0-alpha because version 2.7.0 is already loaded.\n",
      "  return func(args[0], **pargs)\n",
      "/home/eli/miniforge3/envs/ephys/lib/python3.11/site-packages/hdmf/utils.py:668: UserWarning: Ignoring cached namespace 'hdmf-experimental' version 0.3.0 because version 0.5.0 is already loaded.\n",
      "  return func(args[0], **pargs)\n",
      "/home/eli/miniforge3/envs/ephys/lib/python3.11/site-packages/hdmf/utils.py:668: UserWarning: Ignoring cached namespace 'hdmf-common' version 1.6.0 because version 1.8.0 is already loaded.\n",
      "  return func(args[0], **pargs)\n",
      "/home/eli/miniforge3/envs/ephys/lib/python3.11/site-packages/hdmf/utils.py:668: UserWarning: Ignoring cached namespace 'core' version 2.6.0-alpha because version 2.7.0 is already loaded.\n",
      "  return func(args[0], **pargs)\n",
      "/home/eli/miniforge3/envs/ephys/lib/python3.11/site-packages/hdmf/utils.py:668: UserWarning: Ignoring cached namespace 'hdmf-experimental' version 0.3.0 because version 0.5.0 is already loaded.\n",
      "  return func(args[0], **pargs)\n",
      "/home/eli/miniforge3/envs/ephys/lib/python3.11/site-packages/hdmf/utils.py:668: UserWarning: Ignoring cached namespace 'hdmf-common' version 1.6.0 because version 1.8.0 is already loaded.\n",
      "  return func(args[0], **pargs)\n",
      "/home/eli/miniforge3/envs/ephys/lib/python3.11/site-packages/hdmf/utils.py:668: UserWarning: Ignoring cached namespace 'core' version 2.6.0-alpha because version 2.7.0 is already loaded.\n",
      "  return func(args[0], **pargs)\n",
      "/home/eli/miniforge3/envs/ephys/lib/python3.11/site-packages/hdmf/utils.py:668: UserWarning: Ignoring cached namespace 'hdmf-experimental' version 0.3.0 because version 0.5.0 is already loaded.\n",
      "  return func(args[0], **pargs)\n",
      "/home/eli/miniforge3/envs/ephys/lib/python3.11/site-packages/hdmf/utils.py:668: UserWarning: Ignoring cached namespace 'hdmf-common' version 1.6.0 because version 1.8.0 is already loaded.\n",
      "  return func(args[0], **pargs)\n",
      "/home/eli/miniforge3/envs/ephys/lib/python3.11/site-packages/hdmf/utils.py:668: UserWarning: Ignoring cached namespace 'core' version 2.6.0-alpha because version 2.7.0 is already loaded.\n",
      "  return func(args[0], **pargs)\n",
      "/home/eli/miniforge3/envs/ephys/lib/python3.11/site-packages/hdmf/utils.py:668: UserWarning: Ignoring cached namespace 'hdmf-experimental' version 0.3.0 because version 0.5.0 is already loaded.\n",
      "  return func(args[0], **pargs)\n",
      "/home/eli/miniforge3/envs/ephys/lib/python3.11/site-packages/hdmf/utils.py:668: UserWarning: Ignoring cached namespace 'hdmf-common' version 1.6.0 because version 1.8.0 is already loaded.\n",
      "  return func(args[0], **pargs)\n",
      "/home/eli/miniforge3/envs/ephys/lib/python3.11/site-packages/hdmf/utils.py:668: UserWarning: Ignoring cached namespace 'core' version 2.6.0-alpha because version 2.7.0 is already loaded.\n",
      "  return func(args[0], **pargs)\n",
      "/home/eli/miniforge3/envs/ephys/lib/python3.11/site-packages/hdmf/utils.py:668: UserWarning: Ignoring cached namespace 'hdmf-experimental' version 0.3.0 because version 0.5.0 is already loaded.\n",
      "  return func(args[0], **pargs)\n",
      "INFO:root:Finished epoching of go_gloexp condition in /mnt/data/DRAFT/000253/sub-645495/\n",
      "INFO:root:Finished epoching of lo_gloexp condition in /mnt/data/DRAFT/000253/sub-645495/\n",
      "INFO:root:Finished epoching of go_seqctl condition in /mnt/data/DRAFT/000253/sub-645495/\n",
      "INFO:root:Finished epoching of lo_rndctl condition in /mnt/data/DRAFT/000253/sub-645495/\n",
      "INFO:root:Finished epoching of igo_seqctl condition in /mnt/data/DRAFT/000253/sub-645495/\n",
      "INFO:root:Finished epoching of /mnt/data/DRAFT/000253/sub-645495/\n",
      "/home/eli/miniforge3/envs/ephys/lib/python3.11/site-packages/hdmf/utils.py:668: UserWarning: Ignoring cached namespace 'hdmf-common' version 1.6.0 because version 1.8.0 is already loaded.\n",
      "  return func(args[0], **pargs)\n",
      "/home/eli/miniforge3/envs/ephys/lib/python3.11/site-packages/hdmf/utils.py:668: UserWarning: Ignoring cached namespace 'core' version 2.6.0-alpha because version 2.7.0 is already loaded.\n",
      "  return func(args[0], **pargs)\n",
      "/home/eli/miniforge3/envs/ephys/lib/python3.11/site-packages/hdmf/utils.py:668: UserWarning: Ignoring cached namespace 'hdmf-experimental' version 0.3.0 because version 0.5.0 is already loaded.\n",
      "  return func(args[0], **pargs)\n",
      "/home/eli/miniforge3/envs/ephys/lib/python3.11/site-packages/hdmf/utils.py:668: UserWarning: Ignoring cached namespace 'hdmf-common' version 1.6.0 because version 1.8.0 is already loaded.\n",
      "  return func(args[0], **pargs)\n",
      "/home/eli/miniforge3/envs/ephys/lib/python3.11/site-packages/hdmf/utils.py:668: UserWarning: Ignoring cached namespace 'core' version 2.6.0-alpha because version 2.7.0 is already loaded.\n",
      "  return func(args[0], **pargs)\n",
      "/home/eli/miniforge3/envs/ephys/lib/python3.11/site-packages/hdmf/utils.py:668: UserWarning: Ignoring cached namespace 'hdmf-experimental' version 0.3.0 because version 0.5.0 is already loaded.\n",
      "  return func(args[0], **pargs)\n",
      "/home/eli/miniforge3/envs/ephys/lib/python3.11/site-packages/hdmf/utils.py:668: UserWarning: Ignoring cached namespace 'hdmf-common' version 1.6.0 because version 1.8.0 is already loaded.\n",
      "  return func(args[0], **pargs)\n",
      "/home/eli/miniforge3/envs/ephys/lib/python3.11/site-packages/hdmf/utils.py:668: UserWarning: Ignoring cached namespace 'core' version 2.6.0-alpha because version 2.7.0 is already loaded.\n",
      "  return func(args[0], **pargs)\n",
      "/home/eli/miniforge3/envs/ephys/lib/python3.11/site-packages/hdmf/utils.py:668: UserWarning: Ignoring cached namespace 'hdmf-experimental' version 0.3.0 because version 0.5.0 is already loaded.\n",
      "  return func(args[0], **pargs)\n",
      "/home/eli/miniforge3/envs/ephys/lib/python3.11/site-packages/hdmf/utils.py:668: UserWarning: Ignoring cached namespace 'hdmf-common' version 1.6.0 because version 1.8.0 is already loaded.\n",
      "  return func(args[0], **pargs)\n",
      "/home/eli/miniforge3/envs/ephys/lib/python3.11/site-packages/hdmf/utils.py:668: UserWarning: Ignoring cached namespace 'core' version 2.6.0-alpha because version 2.7.0 is already loaded.\n",
      "  return func(args[0], **pargs)\n",
      "/home/eli/miniforge3/envs/ephys/lib/python3.11/site-packages/hdmf/utils.py:668: UserWarning: Ignoring cached namespace 'hdmf-experimental' version 0.3.0 because version 0.5.0 is already loaded.\n",
      "  return func(args[0], **pargs)\n",
      "/home/eli/miniforge3/envs/ephys/lib/python3.11/site-packages/hdmf/utils.py:668: UserWarning: Ignoring cached namespace 'hdmf-common' version 1.6.0 because version 1.8.0 is already loaded.\n",
      "  return func(args[0], **pargs)\n",
      "/home/eli/miniforge3/envs/ephys/lib/python3.11/site-packages/hdmf/utils.py:668: UserWarning: Ignoring cached namespace 'core' version 2.6.0-alpha because version 2.7.0 is already loaded.\n",
      "  return func(args[0], **pargs)\n",
      "/home/eli/miniforge3/envs/ephys/lib/python3.11/site-packages/hdmf/utils.py:668: UserWarning: Ignoring cached namespace 'hdmf-experimental' version 0.3.0 because version 0.5.0 is already loaded.\n",
      "  return func(args[0], **pargs)\n",
      "/home/eli/miniforge3/envs/ephys/lib/python3.11/site-packages/hdmf/utils.py:668: UserWarning: Ignoring cached namespace 'hdmf-common' version 1.6.0 because version 1.8.0 is already loaded.\n",
      "  return func(args[0], **pargs)\n",
      "/home/eli/miniforge3/envs/ephys/lib/python3.11/site-packages/hdmf/utils.py:668: UserWarning: Ignoring cached namespace 'core' version 2.6.0-alpha because version 2.7.0 is already loaded.\n",
      "  return func(args[0], **pargs)\n",
      "/home/eli/miniforge3/envs/ephys/lib/python3.11/site-packages/hdmf/utils.py:668: UserWarning: Ignoring cached namespace 'hdmf-experimental' version 0.3.0 because version 0.5.0 is already loaded.\n",
      "  return func(args[0], **pargs)\n",
      "INFO:root:Finished epoching of go_gloexp condition in /mnt/data/DRAFT/000253/sub-647836/\n",
      "INFO:root:Finished epoching of lo_gloexp condition in /mnt/data/DRAFT/000253/sub-647836/\n",
      "INFO:root:Finished epoching of go_seqctl condition in /mnt/data/DRAFT/000253/sub-647836/\n",
      "INFO:root:Finished epoching of lo_rndctl condition in /mnt/data/DRAFT/000253/sub-647836/\n",
      "INFO:root:Finished epoching of igo_seqctl condition in /mnt/data/DRAFT/000253/sub-647836/\n",
      "INFO:root:Finished epoching of /mnt/data/DRAFT/000253/sub-647836/\n",
      "/home/eli/miniforge3/envs/ephys/lib/python3.11/site-packages/hdmf/utils.py:668: UserWarning: Ignoring cached namespace 'hdmf-common' version 1.6.0 because version 1.8.0 is already loaded.\n",
      "  return func(args[0], **pargs)\n",
      "/home/eli/miniforge3/envs/ephys/lib/python3.11/site-packages/hdmf/utils.py:668: UserWarning: Ignoring cached namespace 'core' version 2.6.0-alpha because version 2.7.0 is already loaded.\n",
      "  return func(args[0], **pargs)\n",
      "/home/eli/miniforge3/envs/ephys/lib/python3.11/site-packages/hdmf/utils.py:668: UserWarning: Ignoring cached namespace 'hdmf-experimental' version 0.3.0 because version 0.5.0 is already loaded.\n",
      "  return func(args[0], **pargs)\n",
      "/home/eli/miniforge3/envs/ephys/lib/python3.11/site-packages/hdmf/utils.py:668: UserWarning: Ignoring cached namespace 'hdmf-common' version 1.6.0 because version 1.8.0 is already loaded.\n",
      "  return func(args[0], **pargs)\n",
      "/home/eli/miniforge3/envs/ephys/lib/python3.11/site-packages/hdmf/utils.py:668: UserWarning: Ignoring cached namespace 'core' version 2.6.0-alpha because version 2.7.0 is already loaded.\n",
      "  return func(args[0], **pargs)\n",
      "/home/eli/miniforge3/envs/ephys/lib/python3.11/site-packages/hdmf/utils.py:668: UserWarning: Ignoring cached namespace 'hdmf-experimental' version 0.3.0 because version 0.5.0 is already loaded.\n",
      "  return func(args[0], **pargs)\n",
      "/home/eli/miniforge3/envs/ephys/lib/python3.11/site-packages/hdmf/utils.py:668: UserWarning: Ignoring cached namespace 'hdmf-common' version 1.6.0 because version 1.8.0 is already loaded.\n",
      "  return func(args[0], **pargs)\n",
      "/home/eli/miniforge3/envs/ephys/lib/python3.11/site-packages/hdmf/utils.py:668: UserWarning: Ignoring cached namespace 'core' version 2.6.0-alpha because version 2.7.0 is already loaded.\n",
      "  return func(args[0], **pargs)\n",
      "/home/eli/miniforge3/envs/ephys/lib/python3.11/site-packages/hdmf/utils.py:668: UserWarning: Ignoring cached namespace 'hdmf-experimental' version 0.3.0 because version 0.5.0 is already loaded.\n",
      "  return func(args[0], **pargs)\n",
      "/home/eli/miniforge3/envs/ephys/lib/python3.11/site-packages/hdmf/utils.py:668: UserWarning: Ignoring cached namespace 'hdmf-common' version 1.6.0 because version 1.8.0 is already loaded.\n",
      "  return func(args[0], **pargs)\n",
      "/home/eli/miniforge3/envs/ephys/lib/python3.11/site-packages/hdmf/utils.py:668: UserWarning: Ignoring cached namespace 'core' version 2.6.0-alpha because version 2.7.0 is already loaded.\n",
      "  return func(args[0], **pargs)\n",
      "/home/eli/miniforge3/envs/ephys/lib/python3.11/site-packages/hdmf/utils.py:668: UserWarning: Ignoring cached namespace 'hdmf-experimental' version 0.3.0 because version 0.5.0 is already loaded.\n",
      "  return func(args[0], **pargs)\n",
      "/home/eli/miniforge3/envs/ephys/lib/python3.11/site-packages/hdmf/utils.py:668: UserWarning: Ignoring cached namespace 'hdmf-common' version 1.6.0 because version 1.8.0 is already loaded.\n",
      "  return func(args[0], **pargs)\n",
      "/home/eli/miniforge3/envs/ephys/lib/python3.11/site-packages/hdmf/utils.py:668: UserWarning: Ignoring cached namespace 'core' version 2.6.0-alpha because version 2.7.0 is already loaded.\n",
      "  return func(args[0], **pargs)\n",
      "/home/eli/miniforge3/envs/ephys/lib/python3.11/site-packages/hdmf/utils.py:668: UserWarning: Ignoring cached namespace 'hdmf-experimental' version 0.3.0 because version 0.5.0 is already loaded.\n",
      "  return func(args[0], **pargs)\n",
      "/home/eli/miniforge3/envs/ephys/lib/python3.11/site-packages/hdmf/utils.py:668: UserWarning: Ignoring cached namespace 'hdmf-common' version 1.6.0 because version 1.8.0 is already loaded.\n",
      "  return func(args[0], **pargs)\n",
      "/home/eli/miniforge3/envs/ephys/lib/python3.11/site-packages/hdmf/utils.py:668: UserWarning: Ignoring cached namespace 'core' version 2.6.0-alpha because version 2.7.0 is already loaded.\n",
      "  return func(args[0], **pargs)\n",
      "/home/eli/miniforge3/envs/ephys/lib/python3.11/site-packages/hdmf/utils.py:668: UserWarning: Ignoring cached namespace 'hdmf-experimental' version 0.3.0 because version 0.5.0 is already loaded.\n",
      "  return func(args[0], **pargs)\n",
      "INFO:root:Finished epoching of go_gloexp condition in /mnt/data/DRAFT/000253/sub-649323/\n",
      "INFO:root:Finished epoching of lo_gloexp condition in /mnt/data/DRAFT/000253/sub-649323/\n",
      "INFO:root:Finished epoching of go_seqctl condition in /mnt/data/DRAFT/000253/sub-649323/\n",
      "INFO:root:Finished epoching of lo_rndctl condition in /mnt/data/DRAFT/000253/sub-649323/\n",
      "INFO:root:Finished epoching of igo_seqctl condition in /mnt/data/DRAFT/000253/sub-649323/\n",
      "INFO:root:Finished epoching of /mnt/data/DRAFT/000253/sub-649323/\n",
      "/home/eli/miniforge3/envs/ephys/lib/python3.11/site-packages/hdmf/utils.py:668: UserWarning: Ignoring cached namespace 'hdmf-common' version 1.6.0 because version 1.8.0 is already loaded.\n",
      "  return func(args[0], **pargs)\n",
      "/home/eli/miniforge3/envs/ephys/lib/python3.11/site-packages/hdmf/utils.py:668: UserWarning: Ignoring cached namespace 'core' version 2.6.0-alpha because version 2.7.0 is already loaded.\n",
      "  return func(args[0], **pargs)\n",
      "/home/eli/miniforge3/envs/ephys/lib/python3.11/site-packages/hdmf/utils.py:668: UserWarning: Ignoring cached namespace 'hdmf-experimental' version 0.3.0 because version 0.5.0 is already loaded.\n",
      "  return func(args[0], **pargs)\n",
      "/home/eli/miniforge3/envs/ephys/lib/python3.11/site-packages/hdmf/utils.py:668: UserWarning: Ignoring cached namespace 'hdmf-common' version 1.6.0 because version 1.8.0 is already loaded.\n",
      "  return func(args[0], **pargs)\n",
      "/home/eli/miniforge3/envs/ephys/lib/python3.11/site-packages/hdmf/utils.py:668: UserWarning: Ignoring cached namespace 'core' version 2.6.0-alpha because version 2.7.0 is already loaded.\n",
      "  return func(args[0], **pargs)\n",
      "/home/eli/miniforge3/envs/ephys/lib/python3.11/site-packages/hdmf/utils.py:668: UserWarning: Ignoring cached namespace 'hdmf-experimental' version 0.3.0 because version 0.5.0 is already loaded.\n",
      "  return func(args[0], **pargs)\n",
      "/home/eli/miniforge3/envs/ephys/lib/python3.11/site-packages/hdmf/utils.py:668: UserWarning: Ignoring cached namespace 'hdmf-common' version 1.6.0 because version 1.8.0 is already loaded.\n",
      "  return func(args[0], **pargs)\n",
      "/home/eli/miniforge3/envs/ephys/lib/python3.11/site-packages/hdmf/utils.py:668: UserWarning: Ignoring cached namespace 'core' version 2.6.0-alpha because version 2.7.0 is already loaded.\n",
      "  return func(args[0], **pargs)\n",
      "/home/eli/miniforge3/envs/ephys/lib/python3.11/site-packages/hdmf/utils.py:668: UserWarning: Ignoring cached namespace 'hdmf-experimental' version 0.3.0 because version 0.5.0 is already loaded.\n",
      "  return func(args[0], **pargs)\n",
      "/home/eli/miniforge3/envs/ephys/lib/python3.11/site-packages/hdmf/utils.py:668: UserWarning: Ignoring cached namespace 'hdmf-common' version 1.6.0 because version 1.8.0 is already loaded.\n",
      "  return func(args[0], **pargs)\n",
      "/home/eli/miniforge3/envs/ephys/lib/python3.11/site-packages/hdmf/utils.py:668: UserWarning: Ignoring cached namespace 'core' version 2.6.0-alpha because version 2.7.0 is already loaded.\n",
      "  return func(args[0], **pargs)\n",
      "/home/eli/miniforge3/envs/ephys/lib/python3.11/site-packages/hdmf/utils.py:668: UserWarning: Ignoring cached namespace 'hdmf-experimental' version 0.3.0 because version 0.5.0 is already loaded.\n",
      "  return func(args[0], **pargs)\n",
      "/home/eli/miniforge3/envs/ephys/lib/python3.11/site-packages/hdmf/utils.py:668: UserWarning: Ignoring cached namespace 'hdmf-common' version 1.6.0 because version 1.8.0 is already loaded.\n",
      "  return func(args[0], **pargs)\n",
      "/home/eli/miniforge3/envs/ephys/lib/python3.11/site-packages/hdmf/utils.py:668: UserWarning: Ignoring cached namespace 'core' version 2.6.0-alpha because version 2.7.0 is already loaded.\n",
      "  return func(args[0], **pargs)\n",
      "/home/eli/miniforge3/envs/ephys/lib/python3.11/site-packages/hdmf/utils.py:668: UserWarning: Ignoring cached namespace 'hdmf-experimental' version 0.3.0 because version 0.5.0 is already loaded.\n",
      "  return func(args[0], **pargs)\n",
      "/home/eli/miniforge3/envs/ephys/lib/python3.11/site-packages/hdmf/utils.py:668: UserWarning: Ignoring cached namespace 'hdmf-common' version 1.6.0 because version 1.8.0 is already loaded.\n",
      "  return func(args[0], **pargs)\n",
      "/home/eli/miniforge3/envs/ephys/lib/python3.11/site-packages/hdmf/utils.py:668: UserWarning: Ignoring cached namespace 'core' version 2.6.0-alpha because version 2.7.0 is already loaded.\n",
      "  return func(args[0], **pargs)\n",
      "/home/eli/miniforge3/envs/ephys/lib/python3.11/site-packages/hdmf/utils.py:668: UserWarning: Ignoring cached namespace 'hdmf-experimental' version 0.3.0 because version 0.5.0 is already loaded.\n",
      "  return func(args[0], **pargs)\n",
      "INFO:root:Finished epoching of go_gloexp condition in /mnt/data/DRAFT/000253/sub-649324/\n",
      "INFO:root:Finished epoching of lo_gloexp condition in /mnt/data/DRAFT/000253/sub-649324/\n",
      "INFO:root:Finished epoching of go_seqctl condition in /mnt/data/DRAFT/000253/sub-649324/\n",
      "INFO:root:Finished epoching of lo_rndctl condition in /mnt/data/DRAFT/000253/sub-649324/\n",
      "INFO:root:Finished epoching of igo_seqctl condition in /mnt/data/DRAFT/000253/sub-649324/\n",
      "INFO:root:Finished epoching of /mnt/data/DRAFT/000253/sub-649324/\n"
     ]
    },
    {
     "name": "stderr",
     "output_type": "stream",
     "text": [
      "INFO:root:Finished epoching of go_gloexp condition in /mnt/data/DRAFT/000253/sub-632487/\n"
     ]
    },
    {
     "name": "stderr",
     "output_type": "stream",
     "text": [
      "INFO:root:Finished epoching of lo_gloexp condition in /mnt/data/DRAFT/000253/sub-632487/\n"
     ]
    },
    {
     "name": "stderr",
     "output_type": "stream",
     "text": [
      "INFO:root:Finished epoching of go_seqctl condition in /mnt/data/DRAFT/000253/sub-632487/\n"
     ]
    },
    {
     "name": "stderr",
     "output_type": "stream",
     "text": [
      "INFO:root:Finished epoching of lo_rndctl condition in /mnt/data/DRAFT/000253/sub-632487/\n"
     ]
    },
    {
     "name": "stderr",
     "output_type": "stream",
     "text": [
      "INFO:root:Finished epoching of igo_seqctl condition in /mnt/data/DRAFT/000253/sub-632487/\n"
     ]
    },
    {
     "name": "stderr",
     "output_type": "stream",
     "text": [
      "INFO:root:Finished epoching of /mnt/data/DRAFT/000253/sub-632487/\n"
     ]
    },
    {
     "name": "stderr",
     "output_type": "stream",
     "text": [
      "/home/eli/miniforge3/envs/ephys/lib/python3.11/site-packages/hdmf/utils.py:668: UserWarning: Ignoring cached namespace 'hdmf-common' version 1.6.0 because version 1.8.0 is already loaded.\n",
      "  return func(args[0], **pargs)\n",
      "/home/eli/miniforge3/envs/ephys/lib/python3.11/site-packages/hdmf/utils.py:668: UserWarning: Ignoring cached namespace 'core' version 2.6.0-alpha because version 2.7.0 is already loaded.\n",
      "  return func(args[0], **pargs)\n",
      "/home/eli/miniforge3/envs/ephys/lib/python3.11/site-packages/hdmf/utils.py:668: UserWarning: Ignoring cached namespace 'hdmf-experimental' version 0.3.0 because version 0.5.0 is already loaded.\n",
      "  return func(args[0], **pargs)\n"
     ]
    },
    {
     "name": "stderr",
     "output_type": "stream",
     "text": [
      "/home/eli/miniforge3/envs/ephys/lib/python3.11/site-packages/hdmf/utils.py:668: UserWarning: Ignoring cached namespace 'hdmf-common' version 1.6.0 because version 1.8.0 is already loaded.\n",
      "  return func(args[0], **pargs)\n",
      "/home/eli/miniforge3/envs/ephys/lib/python3.11/site-packages/hdmf/utils.py:668: UserWarning: Ignoring cached namespace 'core' version 2.6.0-alpha because version 2.7.0 is already loaded.\n",
      "  return func(args[0], **pargs)\n",
      "/home/eli/miniforge3/envs/ephys/lib/python3.11/site-packages/hdmf/utils.py:668: UserWarning: Ignoring cached namespace 'hdmf-experimental' version 0.3.0 because version 0.5.0 is already loaded.\n",
      "  return func(args[0], **pargs)\n"
     ]
    },
    {
     "name": "stderr",
     "output_type": "stream",
     "text": [
      "/home/eli/miniforge3/envs/ephys/lib/python3.11/site-packages/hdmf/utils.py:668: UserWarning: Ignoring cached namespace 'hdmf-common' version 1.6.0 because version 1.8.0 is already loaded.\n",
      "  return func(args[0], **pargs)\n",
      "/home/eli/miniforge3/envs/ephys/lib/python3.11/site-packages/hdmf/utils.py:668: UserWarning: Ignoring cached namespace 'core' version 2.6.0-alpha because version 2.7.0 is already loaded.\n",
      "  return func(args[0], **pargs)\n",
      "/home/eli/miniforge3/envs/ephys/lib/python3.11/site-packages/hdmf/utils.py:668: UserWarning: Ignoring cached namespace 'hdmf-experimental' version 0.3.0 because version 0.5.0 is already loaded.\n",
      "  return func(args[0], **pargs)\n"
     ]
    },
    {
     "name": "stderr",
     "output_type": "stream",
     "text": [
      "/home/eli/miniforge3/envs/ephys/lib/python3.11/site-packages/hdmf/utils.py:668: UserWarning: Ignoring cached namespace 'hdmf-common' version 1.6.0 because version 1.8.0 is already loaded.\n",
      "  return func(args[0], **pargs)\n",
      "/home/eli/miniforge3/envs/ephys/lib/python3.11/site-packages/hdmf/utils.py:668: UserWarning: Ignoring cached namespace 'core' version 2.6.0-alpha because version 2.7.0 is already loaded.\n",
      "  return func(args[0], **pargs)\n",
      "/home/eli/miniforge3/envs/ephys/lib/python3.11/site-packages/hdmf/utils.py:668: UserWarning: Ignoring cached namespace 'hdmf-experimental' version 0.3.0 because version 0.5.0 is already loaded.\n",
      "  return func(args[0], **pargs)\n"
     ]
    },
    {
     "name": "stderr",
     "output_type": "stream",
     "text": [
      "/home/eli/miniforge3/envs/ephys/lib/python3.11/site-packages/hdmf/utils.py:668: UserWarning: Ignoring cached namespace 'hdmf-common' version 1.6.0 because version 1.8.0 is already loaded.\n",
      "  return func(args[0], **pargs)\n",
      "/home/eli/miniforge3/envs/ephys/lib/python3.11/site-packages/hdmf/utils.py:668: UserWarning: Ignoring cached namespace 'core' version 2.6.0-alpha because version 2.7.0 is already loaded.\n",
      "  return func(args[0], **pargs)\n",
      "/home/eli/miniforge3/envs/ephys/lib/python3.11/site-packages/hdmf/utils.py:668: UserWarning: Ignoring cached namespace 'hdmf-experimental' version 0.3.0 because version 0.5.0 is already loaded.\n",
      "  return func(args[0], **pargs)\n"
     ]
    },
    {
     "name": "stderr",
     "output_type": "stream",
     "text": [
      "/home/eli/miniforge3/envs/ephys/lib/python3.11/site-packages/hdmf/utils.py:668: UserWarning: Ignoring cached namespace 'hdmf-common' version 1.6.0 because version 1.8.0 is already loaded.\n",
      "  return func(args[0], **pargs)\n",
      "/home/eli/miniforge3/envs/ephys/lib/python3.11/site-packages/hdmf/utils.py:668: UserWarning: Ignoring cached namespace 'core' version 2.6.0-alpha because version 2.7.0 is already loaded.\n",
      "  return func(args[0], **pargs)\n",
      "/home/eli/miniforge3/envs/ephys/lib/python3.11/site-packages/hdmf/utils.py:668: UserWarning: Ignoring cached namespace 'hdmf-experimental' version 0.3.0 because version 0.5.0 is already loaded.\n",
      "  return func(args[0], **pargs)\n"
     ]
    },
    {
     "name": "stderr",
     "output_type": "stream",
     "text": [
      "INFO:root:Finished epoching of go_gloexp condition in /mnt/data/DRAFT/000253/sub-637542/\n"
     ]
    },
    {
     "name": "stderr",
     "output_type": "stream",
     "text": [
      "INFO:root:Finished epoching of lo_gloexp condition in /mnt/data/DRAFT/000253/sub-637542/\n"
     ]
    },
    {
     "name": "stderr",
     "output_type": "stream",
     "text": [
      "INFO:root:Finished epoching of go_seqctl condition in /mnt/data/DRAFT/000253/sub-637542/\n"
     ]
    },
    {
     "name": "stderr",
     "output_type": "stream",
     "text": [
      "INFO:root:Finished epoching of lo_rndctl condition in /mnt/data/DRAFT/000253/sub-637542/\n"
     ]
    },
    {
     "name": "stderr",
     "output_type": "stream",
     "text": [
      "INFO:root:Finished epoching of igo_seqctl condition in /mnt/data/DRAFT/000253/sub-637542/\n"
     ]
    },
    {
     "name": "stderr",
     "output_type": "stream",
     "text": [
      "INFO:root:Finished epoching of /mnt/data/DRAFT/000253/sub-637542/\n"
     ]
    },
    {
     "name": "stderr",
     "output_type": "stream",
     "text": [
      "/home/eli/miniforge3/envs/ephys/lib/python3.11/site-packages/hdmf/utils.py:668: UserWarning: Ignoring cached namespace 'hdmf-common' version 1.6.0 because version 1.8.0 is already loaded.\n",
      "  return func(args[0], **pargs)\n",
      "/home/eli/miniforge3/envs/ephys/lib/python3.11/site-packages/hdmf/utils.py:668: UserWarning: Ignoring cached namespace 'core' version 2.6.0-alpha because version 2.7.0 is already loaded.\n",
      "  return func(args[0], **pargs)\n",
      "/home/eli/miniforge3/envs/ephys/lib/python3.11/site-packages/hdmf/utils.py:668: UserWarning: Ignoring cached namespace 'hdmf-experimental' version 0.3.0 because version 0.5.0 is already loaded.\n",
      "  return func(args[0], **pargs)\n"
     ]
    },
    {
     "name": "stderr",
     "output_type": "stream",
     "text": [
      "/home/eli/miniforge3/envs/ephys/lib/python3.11/site-packages/hdmf/utils.py:668: UserWarning: Ignoring cached namespace 'hdmf-common' version 1.6.0 because version 1.8.0 is already loaded.\n",
      "  return func(args[0], **pargs)\n",
      "/home/eli/miniforge3/envs/ephys/lib/python3.11/site-packages/hdmf/utils.py:668: UserWarning: Ignoring cached namespace 'core' version 2.6.0-alpha because version 2.7.0 is already loaded.\n",
      "  return func(args[0], **pargs)\n",
      "/home/eli/miniforge3/envs/ephys/lib/python3.11/site-packages/hdmf/utils.py:668: UserWarning: Ignoring cached namespace 'hdmf-experimental' version 0.3.0 because version 0.5.0 is already loaded.\n",
      "  return func(args[0], **pargs)\n"
     ]
    },
    {
     "name": "stderr",
     "output_type": "stream",
     "text": [
      "/home/eli/miniforge3/envs/ephys/lib/python3.11/site-packages/hdmf/utils.py:668: UserWarning: Ignoring cached namespace 'hdmf-common' version 1.6.0 because version 1.8.0 is already loaded.\n",
      "  return func(args[0], **pargs)\n",
      "/home/eli/miniforge3/envs/ephys/lib/python3.11/site-packages/hdmf/utils.py:668: UserWarning: Ignoring cached namespace 'core' version 2.6.0-alpha because version 2.7.0 is already loaded.\n",
      "  return func(args[0], **pargs)\n",
      "/home/eli/miniforge3/envs/ephys/lib/python3.11/site-packages/hdmf/utils.py:668: UserWarning: Ignoring cached namespace 'hdmf-experimental' version 0.3.0 because version 0.5.0 is already loaded.\n",
      "  return func(args[0], **pargs)\n"
     ]
    },
    {
     "name": "stderr",
     "output_type": "stream",
     "text": [
      "/home/eli/miniforge3/envs/ephys/lib/python3.11/site-packages/hdmf/utils.py:668: UserWarning: Ignoring cached namespace 'hdmf-common' version 1.6.0 because version 1.8.0 is already loaded.\n",
      "  return func(args[0], **pargs)\n",
      "/home/eli/miniforge3/envs/ephys/lib/python3.11/site-packages/hdmf/utils.py:668: UserWarning: Ignoring cached namespace 'core' version 2.6.0-alpha because version 2.7.0 is already loaded.\n",
      "  return func(args[0], **pargs)\n",
      "/home/eli/miniforge3/envs/ephys/lib/python3.11/site-packages/hdmf/utils.py:668: UserWarning: Ignoring cached namespace 'hdmf-experimental' version 0.3.0 because version 0.5.0 is already loaded.\n",
      "  return func(args[0], **pargs)\n"
     ]
    },
    {
     "name": "stderr",
     "output_type": "stream",
     "text": [
      "/home/eli/miniforge3/envs/ephys/lib/python3.11/site-packages/hdmf/utils.py:668: UserWarning: Ignoring cached namespace 'hdmf-common' version 1.6.0 because version 1.8.0 is already loaded.\n",
      "  return func(args[0], **pargs)\n",
      "/home/eli/miniforge3/envs/ephys/lib/python3.11/site-packages/hdmf/utils.py:668: UserWarning: Ignoring cached namespace 'core' version 2.6.0-alpha because version 2.7.0 is already loaded.\n",
      "  return func(args[0], **pargs)\n",
      "/home/eli/miniforge3/envs/ephys/lib/python3.11/site-packages/hdmf/utils.py:668: UserWarning: Ignoring cached namespace 'hdmf-experimental' version 0.3.0 because version 0.5.0 is already loaded.\n",
      "  return func(args[0], **pargs)\n"
     ]
    },
    {
     "name": "stderr",
     "output_type": "stream",
     "text": [
      "/home/eli/miniforge3/envs/ephys/lib/python3.11/site-packages/hdmf/utils.py:668: UserWarning: Ignoring cached namespace 'hdmf-common' version 1.6.0 because version 1.8.0 is already loaded.\n",
      "  return func(args[0], **pargs)\n",
      "/home/eli/miniforge3/envs/ephys/lib/python3.11/site-packages/hdmf/utils.py:668: UserWarning: Ignoring cached namespace 'core' version 2.6.0-alpha because version 2.7.0 is already loaded.\n",
      "  return func(args[0], **pargs)\n",
      "/home/eli/miniforge3/envs/ephys/lib/python3.11/site-packages/hdmf/utils.py:668: UserWarning: Ignoring cached namespace 'hdmf-experimental' version 0.3.0 because version 0.5.0 is already loaded.\n",
      "  return func(args[0], **pargs)\n"
     ]
    },
    {
     "name": "stderr",
     "output_type": "stream",
     "text": [
      "INFO:root:Finished epoching of go_gloexp condition in /mnt/data/DRAFT/000253/sub-637908/\n"
     ]
    },
    {
     "name": "stderr",
     "output_type": "stream",
     "text": [
      "INFO:root:Finished epoching of lo_gloexp condition in /mnt/data/DRAFT/000253/sub-637908/\n"
     ]
    },
    {
     "name": "stderr",
     "output_type": "stream",
     "text": [
      "INFO:root:Finished epoching of go_seqctl condition in /mnt/data/DRAFT/000253/sub-637908/\n"
     ]
    },
    {
     "name": "stderr",
     "output_type": "stream",
     "text": [
      "INFO:root:Finished epoching of lo_rndctl condition in /mnt/data/DRAFT/000253/sub-637908/\n"
     ]
    },
    {
     "name": "stderr",
     "output_type": "stream",
     "text": [
      "INFO:root:Finished epoching of igo_seqctl condition in /mnt/data/DRAFT/000253/sub-637908/\n"
     ]
    },
    {
     "name": "stderr",
     "output_type": "stream",
     "text": [
      "INFO:root:Finished epoching of /mnt/data/DRAFT/000253/sub-637908/\n"
     ]
    },
    {
     "name": "stderr",
     "output_type": "stream",
     "text": [
      "/home/eli/miniforge3/envs/ephys/lib/python3.11/site-packages/hdmf/utils.py:668: UserWarning: Ignoring cached namespace 'hdmf-common' version 1.6.0 because version 1.8.0 is already loaded.\n",
      "  return func(args[0], **pargs)\n",
      "/home/eli/miniforge3/envs/ephys/lib/python3.11/site-packages/hdmf/utils.py:668: UserWarning: Ignoring cached namespace 'core' version 2.6.0-alpha because version 2.7.0 is already loaded.\n",
      "  return func(args[0], **pargs)\n",
      "/home/eli/miniforge3/envs/ephys/lib/python3.11/site-packages/hdmf/utils.py:668: UserWarning: Ignoring cached namespace 'hdmf-experimental' version 0.3.0 because version 0.5.0 is already loaded.\n",
      "  return func(args[0], **pargs)\n"
     ]
    },
    {
     "name": "stderr",
     "output_type": "stream",
     "text": [
      "/home/eli/miniforge3/envs/ephys/lib/python3.11/site-packages/hdmf/utils.py:668: UserWarning: Ignoring cached namespace 'hdmf-common' version 1.6.0 because version 1.8.0 is already loaded.\n",
      "  return func(args[0], **pargs)\n",
      "/home/eli/miniforge3/envs/ephys/lib/python3.11/site-packages/hdmf/utils.py:668: UserWarning: Ignoring cached namespace 'core' version 2.6.0-alpha because version 2.7.0 is already loaded.\n",
      "  return func(args[0], **pargs)\n",
      "/home/eli/miniforge3/envs/ephys/lib/python3.11/site-packages/hdmf/utils.py:668: UserWarning: Ignoring cached namespace 'hdmf-experimental' version 0.3.0 because version 0.5.0 is already loaded.\n",
      "  return func(args[0], **pargs)\n"
     ]
    },
    {
     "name": "stderr",
     "output_type": "stream",
     "text": [
      "/home/eli/miniforge3/envs/ephys/lib/python3.11/site-packages/hdmf/utils.py:668: UserWarning: Ignoring cached namespace 'hdmf-common' version 1.6.0 because version 1.8.0 is already loaded.\n",
      "  return func(args[0], **pargs)\n",
      "/home/eli/miniforge3/envs/ephys/lib/python3.11/site-packages/hdmf/utils.py:668: UserWarning: Ignoring cached namespace 'core' version 2.6.0-alpha because version 2.7.0 is already loaded.\n",
      "  return func(args[0], **pargs)\n",
      "/home/eli/miniforge3/envs/ephys/lib/python3.11/site-packages/hdmf/utils.py:668: UserWarning: Ignoring cached namespace 'hdmf-experimental' version 0.3.0 because version 0.5.0 is already loaded.\n",
      "  return func(args[0], **pargs)\n"
     ]
    },
    {
     "name": "stderr",
     "output_type": "stream",
     "text": [
      "/home/eli/miniforge3/envs/ephys/lib/python3.11/site-packages/hdmf/utils.py:668: UserWarning: Ignoring cached namespace 'hdmf-common' version 1.6.0 because version 1.8.0 is already loaded.\n",
      "  return func(args[0], **pargs)\n",
      "/home/eli/miniforge3/envs/ephys/lib/python3.11/site-packages/hdmf/utils.py:668: UserWarning: Ignoring cached namespace 'core' version 2.6.0-alpha because version 2.7.0 is already loaded.\n",
      "  return func(args[0], **pargs)\n",
      "/home/eli/miniforge3/envs/ephys/lib/python3.11/site-packages/hdmf/utils.py:668: UserWarning: Ignoring cached namespace 'hdmf-experimental' version 0.3.0 because version 0.5.0 is already loaded.\n",
      "  return func(args[0], **pargs)\n"
     ]
    },
    {
     "name": "stderr",
     "output_type": "stream",
     "text": [
      "/home/eli/miniforge3/envs/ephys/lib/python3.11/site-packages/hdmf/utils.py:668: UserWarning: Ignoring cached namespace 'hdmf-common' version 1.6.0 because version 1.8.0 is already loaded.\n",
      "  return func(args[0], **pargs)\n",
      "/home/eli/miniforge3/envs/ephys/lib/python3.11/site-packages/hdmf/utils.py:668: UserWarning: Ignoring cached namespace 'core' version 2.6.0-alpha because version 2.7.0 is already loaded.\n",
      "  return func(args[0], **pargs)\n",
      "/home/eli/miniforge3/envs/ephys/lib/python3.11/site-packages/hdmf/utils.py:668: UserWarning: Ignoring cached namespace 'hdmf-experimental' version 0.3.0 because version 0.5.0 is already loaded.\n",
      "  return func(args[0], **pargs)\n"
     ]
    },
    {
     "name": "stderr",
     "output_type": "stream",
     "text": [
      "/home/eli/miniforge3/envs/ephys/lib/python3.11/site-packages/hdmf/utils.py:668: UserWarning: Ignoring cached namespace 'hdmf-common' version 1.6.0 because version 1.8.0 is already loaded.\n",
      "  return func(args[0], **pargs)\n",
      "/home/eli/miniforge3/envs/ephys/lib/python3.11/site-packages/hdmf/utils.py:668: UserWarning: Ignoring cached namespace 'core' version 2.6.0-alpha because version 2.7.0 is already loaded.\n",
      "  return func(args[0], **pargs)\n",
      "/home/eli/miniforge3/envs/ephys/lib/python3.11/site-packages/hdmf/utils.py:668: UserWarning: Ignoring cached namespace 'hdmf-experimental' version 0.3.0 because version 0.5.0 is already loaded.\n",
      "  return func(args[0], **pargs)\n"
     ]
    },
    {
     "name": "stderr",
     "output_type": "stream",
     "text": [
      "INFO:root:Finished epoching of go_gloexp condition in /mnt/data/DRAFT/000253/sub-637909/\n"
     ]
    },
    {
     "name": "stderr",
     "output_type": "stream",
     "text": [
      "INFO:root:Finished epoching of lo_gloexp condition in /mnt/data/DRAFT/000253/sub-637909/\n"
     ]
    },
    {
     "name": "stderr",
     "output_type": "stream",
     "text": [
      "INFO:root:Finished epoching of go_seqctl condition in /mnt/data/DRAFT/000253/sub-637909/\n"
     ]
    },
    {
     "name": "stderr",
     "output_type": "stream",
     "text": [
      "INFO:root:Finished epoching of lo_rndctl condition in /mnt/data/DRAFT/000253/sub-637909/\n"
     ]
    },
    {
     "name": "stderr",
     "output_type": "stream",
     "text": [
      "INFO:root:Finished epoching of igo_seqctl condition in /mnt/data/DRAFT/000253/sub-637909/\n"
     ]
    },
    {
     "name": "stderr",
     "output_type": "stream",
     "text": [
      "INFO:root:Finished epoching of /mnt/data/DRAFT/000253/sub-637909/\n"
     ]
    },
    {
     "name": "stderr",
     "output_type": "stream",
     "text": [
      "/home/eli/miniforge3/envs/ephys/lib/python3.11/site-packages/hdmf/utils.py:668: UserWarning: Ignoring cached namespace 'hdmf-common' version 1.6.0 because version 1.8.0 is already loaded.\n",
      "  return func(args[0], **pargs)\n",
      "/home/eli/miniforge3/envs/ephys/lib/python3.11/site-packages/hdmf/utils.py:668: UserWarning: Ignoring cached namespace 'core' version 2.6.0-alpha because version 2.7.0 is already loaded.\n",
      "  return func(args[0], **pargs)\n",
      "/home/eli/miniforge3/envs/ephys/lib/python3.11/site-packages/hdmf/utils.py:668: UserWarning: Ignoring cached namespace 'hdmf-experimental' version 0.3.0 because version 0.5.0 is already loaded.\n",
      "  return func(args[0], **pargs)\n"
     ]
    },
    {
     "name": "stderr",
     "output_type": "stream",
     "text": [
      "/home/eli/miniforge3/envs/ephys/lib/python3.11/site-packages/hdmf/utils.py:668: UserWarning: Ignoring cached namespace 'hdmf-common' version 1.6.0 because version 1.8.0 is already loaded.\n",
      "  return func(args[0], **pargs)\n",
      "/home/eli/miniforge3/envs/ephys/lib/python3.11/site-packages/hdmf/utils.py:668: UserWarning: Ignoring cached namespace 'core' version 2.6.0-alpha because version 2.7.0 is already loaded.\n",
      "  return func(args[0], **pargs)\n",
      "/home/eli/miniforge3/envs/ephys/lib/python3.11/site-packages/hdmf/utils.py:668: UserWarning: Ignoring cached namespace 'hdmf-experimental' version 0.3.0 because version 0.5.0 is already loaded.\n",
      "  return func(args[0], **pargs)\n"
     ]
    },
    {
     "name": "stderr",
     "output_type": "stream",
     "text": [
      "/home/eli/miniforge3/envs/ephys/lib/python3.11/site-packages/hdmf/utils.py:668: UserWarning: Ignoring cached namespace 'hdmf-common' version 1.6.0 because version 1.8.0 is already loaded.\n",
      "  return func(args[0], **pargs)\n",
      "/home/eli/miniforge3/envs/ephys/lib/python3.11/site-packages/hdmf/utils.py:668: UserWarning: Ignoring cached namespace 'core' version 2.6.0-alpha because version 2.7.0 is already loaded.\n",
      "  return func(args[0], **pargs)\n",
      "/home/eli/miniforge3/envs/ephys/lib/python3.11/site-packages/hdmf/utils.py:668: UserWarning: Ignoring cached namespace 'hdmf-experimental' version 0.3.0 because version 0.5.0 is already loaded.\n",
      "  return func(args[0], **pargs)\n"
     ]
    },
    {
     "name": "stderr",
     "output_type": "stream",
     "text": [
      "/home/eli/miniforge3/envs/ephys/lib/python3.11/site-packages/hdmf/utils.py:668: UserWarning: Ignoring cached namespace 'hdmf-common' version 1.6.0 because version 1.8.0 is already loaded.\n",
      "  return func(args[0], **pargs)\n",
      "/home/eli/miniforge3/envs/ephys/lib/python3.11/site-packages/hdmf/utils.py:668: UserWarning: Ignoring cached namespace 'core' version 2.6.0-alpha because version 2.7.0 is already loaded.\n",
      "  return func(args[0], **pargs)\n",
      "/home/eli/miniforge3/envs/ephys/lib/python3.11/site-packages/hdmf/utils.py:668: UserWarning: Ignoring cached namespace 'hdmf-experimental' version 0.3.0 because version 0.5.0 is already loaded.\n",
      "  return func(args[0], **pargs)\n"
     ]
    },
    {
     "name": "stderr",
     "output_type": "stream",
     "text": [
      "/home/eli/miniforge3/envs/ephys/lib/python3.11/site-packages/hdmf/utils.py:668: UserWarning: Ignoring cached namespace 'hdmf-common' version 1.6.0 because version 1.8.0 is already loaded.\n",
      "  return func(args[0], **pargs)\n",
      "/home/eli/miniforge3/envs/ephys/lib/python3.11/site-packages/hdmf/utils.py:668: UserWarning: Ignoring cached namespace 'core' version 2.6.0-alpha because version 2.7.0 is already loaded.\n",
      "  return func(args[0], **pargs)\n",
      "/home/eli/miniforge3/envs/ephys/lib/python3.11/site-packages/hdmf/utils.py:668: UserWarning: Ignoring cached namespace 'hdmf-experimental' version 0.3.0 because version 0.5.0 is already loaded.\n",
      "  return func(args[0], **pargs)\n"
     ]
    },
    {
     "name": "stderr",
     "output_type": "stream",
     "text": [
      "/home/eli/miniforge3/envs/ephys/lib/python3.11/site-packages/hdmf/utils.py:668: UserWarning: Ignoring cached namespace 'hdmf-common' version 1.6.0 because version 1.8.0 is already loaded.\n",
      "  return func(args[0], **pargs)\n",
      "/home/eli/miniforge3/envs/ephys/lib/python3.11/site-packages/hdmf/utils.py:668: UserWarning: Ignoring cached namespace 'core' version 2.6.0-alpha because version 2.7.0 is already loaded.\n",
      "  return func(args[0], **pargs)\n",
      "/home/eli/miniforge3/envs/ephys/lib/python3.11/site-packages/hdmf/utils.py:668: UserWarning: Ignoring cached namespace 'hdmf-experimental' version 0.3.0 because version 0.5.0 is already loaded.\n",
      "  return func(args[0], **pargs)\n"
     ]
    },
    {
     "name": "stderr",
     "output_type": "stream",
     "text": [
      "INFO:root:Finished epoching of go_gloexp condition in /mnt/data/DRAFT/000253/sub-640507/\n"
     ]
    },
    {
     "name": "stderr",
     "output_type": "stream",
     "text": [
      "INFO:root:Finished epoching of lo_gloexp condition in /mnt/data/DRAFT/000253/sub-640507/\n"
     ]
    },
    {
     "name": "stderr",
     "output_type": "stream",
     "text": [
      "INFO:root:Finished epoching of go_seqctl condition in /mnt/data/DRAFT/000253/sub-640507/\n"
     ]
    },
    {
     "name": "stderr",
     "output_type": "stream",
     "text": [
      "INFO:root:Finished epoching of lo_rndctl condition in /mnt/data/DRAFT/000253/sub-640507/\n"
     ]
    },
    {
     "name": "stderr",
     "output_type": "stream",
     "text": [
      "INFO:root:Finished epoching of igo_seqctl condition in /mnt/data/DRAFT/000253/sub-640507/\n"
     ]
    },
    {
     "name": "stderr",
     "output_type": "stream",
     "text": [
      "INFO:root:Finished epoching of /mnt/data/DRAFT/000253/sub-640507/\n"
     ]
    },
    {
     "name": "stderr",
     "output_type": "stream",
     "text": [
      "/home/eli/miniforge3/envs/ephys/lib/python3.11/site-packages/hdmf/utils.py:668: UserWarning: Ignoring cached namespace 'hdmf-common' version 1.6.0 because version 1.8.0 is already loaded.\n",
      "  return func(args[0], **pargs)\n",
      "/home/eli/miniforge3/envs/ephys/lib/python3.11/site-packages/hdmf/utils.py:668: UserWarning: Ignoring cached namespace 'core' version 2.6.0-alpha because version 2.7.0 is already loaded.\n",
      "  return func(args[0], **pargs)\n",
      "/home/eli/miniforge3/envs/ephys/lib/python3.11/site-packages/hdmf/utils.py:668: UserWarning: Ignoring cached namespace 'hdmf-experimental' version 0.3.0 because version 0.5.0 is already loaded.\n",
      "  return func(args[0], **pargs)\n"
     ]
    },
    {
     "name": "stderr",
     "output_type": "stream",
     "text": [
      "/home/eli/miniforge3/envs/ephys/lib/python3.11/site-packages/hdmf/utils.py:668: UserWarning: Ignoring cached namespace 'hdmf-common' version 1.6.0 because version 1.8.0 is already loaded.\n",
      "  return func(args[0], **pargs)\n",
      "/home/eli/miniforge3/envs/ephys/lib/python3.11/site-packages/hdmf/utils.py:668: UserWarning: Ignoring cached namespace 'core' version 2.6.0-alpha because version 2.7.0 is already loaded.\n",
      "  return func(args[0], **pargs)\n",
      "/home/eli/miniforge3/envs/ephys/lib/python3.11/site-packages/hdmf/utils.py:668: UserWarning: Ignoring cached namespace 'hdmf-experimental' version 0.3.0 because version 0.5.0 is already loaded.\n",
      "  return func(args[0], **pargs)\n"
     ]
    },
    {
     "name": "stderr",
     "output_type": "stream",
     "text": [
      "/home/eli/miniforge3/envs/ephys/lib/python3.11/site-packages/hdmf/utils.py:668: UserWarning: Ignoring cached namespace 'hdmf-common' version 1.6.0 because version 1.8.0 is already loaded.\n",
      "  return func(args[0], **pargs)\n",
      "/home/eli/miniforge3/envs/ephys/lib/python3.11/site-packages/hdmf/utils.py:668: UserWarning: Ignoring cached namespace 'core' version 2.6.0-alpha because version 2.7.0 is already loaded.\n",
      "  return func(args[0], **pargs)\n",
      "/home/eli/miniforge3/envs/ephys/lib/python3.11/site-packages/hdmf/utils.py:668: UserWarning: Ignoring cached namespace 'hdmf-experimental' version 0.3.0 because version 0.5.0 is already loaded.\n",
      "  return func(args[0], **pargs)\n"
     ]
    },
    {
     "name": "stderr",
     "output_type": "stream",
     "text": [
      "/home/eli/miniforge3/envs/ephys/lib/python3.11/site-packages/hdmf/utils.py:668: UserWarning: Ignoring cached namespace 'hdmf-common' version 1.6.0 because version 1.8.0 is already loaded.\n",
      "  return func(args[0], **pargs)\n",
      "/home/eli/miniforge3/envs/ephys/lib/python3.11/site-packages/hdmf/utils.py:668: UserWarning: Ignoring cached namespace 'core' version 2.6.0-alpha because version 2.7.0 is already loaded.\n",
      "  return func(args[0], **pargs)\n",
      "/home/eli/miniforge3/envs/ephys/lib/python3.11/site-packages/hdmf/utils.py:668: UserWarning: Ignoring cached namespace 'hdmf-experimental' version 0.3.0 because version 0.5.0 is already loaded.\n",
      "  return func(args[0], **pargs)\n"
     ]
    },
    {
     "name": "stderr",
     "output_type": "stream",
     "text": [
      "/home/eli/miniforge3/envs/ephys/lib/python3.11/site-packages/hdmf/utils.py:668: UserWarning: Ignoring cached namespace 'hdmf-common' version 1.6.0 because version 1.8.0 is already loaded.\n",
      "  return func(args[0], **pargs)\n",
      "/home/eli/miniforge3/envs/ephys/lib/python3.11/site-packages/hdmf/utils.py:668: UserWarning: Ignoring cached namespace 'core' version 2.6.0-alpha because version 2.7.0 is already loaded.\n",
      "  return func(args[0], **pargs)\n",
      "/home/eli/miniforge3/envs/ephys/lib/python3.11/site-packages/hdmf/utils.py:668: UserWarning: Ignoring cached namespace 'hdmf-experimental' version 0.3.0 because version 0.5.0 is already loaded.\n",
      "  return func(args[0], **pargs)\n"
     ]
    },
    {
     "name": "stderr",
     "output_type": "stream",
     "text": [
      "/home/eli/miniforge3/envs/ephys/lib/python3.11/site-packages/hdmf/utils.py:668: UserWarning: Ignoring cached namespace 'hdmf-common' version 1.6.0 because version 1.8.0 is already loaded.\n",
      "  return func(args[0], **pargs)\n",
      "/home/eli/miniforge3/envs/ephys/lib/python3.11/site-packages/hdmf/utils.py:668: UserWarning: Ignoring cached namespace 'core' version 2.6.0-alpha because version 2.7.0 is already loaded.\n",
      "  return func(args[0], **pargs)\n",
      "/home/eli/miniforge3/envs/ephys/lib/python3.11/site-packages/hdmf/utils.py:668: UserWarning: Ignoring cached namespace 'hdmf-experimental' version 0.3.0 because version 0.5.0 is already loaded.\n",
      "  return func(args[0], **pargs)\n"
     ]
    },
    {
     "name": "stderr",
     "output_type": "stream",
     "text": [
      "INFO:root:Finished epoching of go_gloexp condition in /mnt/data/DRAFT/000253/sub-642507/\n"
     ]
    },
    {
     "name": "stderr",
     "output_type": "stream",
     "text": [
      "INFO:root:Finished epoching of lo_gloexp condition in /mnt/data/DRAFT/000253/sub-642507/\n"
     ]
    },
    {
     "name": "stderr",
     "output_type": "stream",
     "text": [
      "INFO:root:Finished epoching of go_seqctl condition in /mnt/data/DRAFT/000253/sub-642507/\n"
     ]
    },
    {
     "name": "stderr",
     "output_type": "stream",
     "text": [
      "INFO:root:Finished epoching of lo_rndctl condition in /mnt/data/DRAFT/000253/sub-642507/\n"
     ]
    },
    {
     "name": "stderr",
     "output_type": "stream",
     "text": [
      "INFO:root:Finished epoching of igo_seqctl condition in /mnt/data/DRAFT/000253/sub-642507/\n"
     ]
    },
    {
     "name": "stderr",
     "output_type": "stream",
     "text": [
      "INFO:root:Finished epoching of /mnt/data/DRAFT/000253/sub-642507/\n"
     ]
    },
    {
     "name": "stderr",
     "output_type": "stream",
     "text": [
      "/home/eli/miniforge3/envs/ephys/lib/python3.11/site-packages/hdmf/utils.py:668: UserWarning: Ignoring cached namespace 'hdmf-common' version 1.6.0 because version 1.8.0 is already loaded.\n",
      "  return func(args[0], **pargs)\n",
      "/home/eli/miniforge3/envs/ephys/lib/python3.11/site-packages/hdmf/utils.py:668: UserWarning: Ignoring cached namespace 'core' version 2.6.0-alpha because version 2.7.0 is already loaded.\n",
      "  return func(args[0], **pargs)\n",
      "/home/eli/miniforge3/envs/ephys/lib/python3.11/site-packages/hdmf/utils.py:668: UserWarning: Ignoring cached namespace 'hdmf-experimental' version 0.3.0 because version 0.5.0 is already loaded.\n",
      "  return func(args[0], **pargs)\n"
     ]
    },
    {
     "name": "stderr",
     "output_type": "stream",
     "text": [
      "/home/eli/miniforge3/envs/ephys/lib/python3.11/site-packages/hdmf/utils.py:668: UserWarning: Ignoring cached namespace 'hdmf-common' version 1.6.0 because version 1.8.0 is already loaded.\n",
      "  return func(args[0], **pargs)\n",
      "/home/eli/miniforge3/envs/ephys/lib/python3.11/site-packages/hdmf/utils.py:668: UserWarning: Ignoring cached namespace 'core' version 2.6.0-alpha because version 2.7.0 is already loaded.\n",
      "  return func(args[0], **pargs)\n",
      "/home/eli/miniforge3/envs/ephys/lib/python3.11/site-packages/hdmf/utils.py:668: UserWarning: Ignoring cached namespace 'hdmf-experimental' version 0.3.0 because version 0.5.0 is already loaded.\n",
      "  return func(args[0], **pargs)\n"
     ]
    },
    {
     "name": "stderr",
     "output_type": "stream",
     "text": [
      "/home/eli/miniforge3/envs/ephys/lib/python3.11/site-packages/hdmf/utils.py:668: UserWarning: Ignoring cached namespace 'hdmf-common' version 1.6.0 because version 1.8.0 is already loaded.\n",
      "  return func(args[0], **pargs)\n",
      "/home/eli/miniforge3/envs/ephys/lib/python3.11/site-packages/hdmf/utils.py:668: UserWarning: Ignoring cached namespace 'core' version 2.6.0-alpha because version 2.7.0 is already loaded.\n",
      "  return func(args[0], **pargs)\n",
      "/home/eli/miniforge3/envs/ephys/lib/python3.11/site-packages/hdmf/utils.py:668: UserWarning: Ignoring cached namespace 'hdmf-experimental' version 0.3.0 because version 0.5.0 is already loaded.\n",
      "  return func(args[0], **pargs)\n"
     ]
    },
    {
     "name": "stderr",
     "output_type": "stream",
     "text": [
      "/home/eli/miniforge3/envs/ephys/lib/python3.11/site-packages/hdmf/utils.py:668: UserWarning: Ignoring cached namespace 'hdmf-common' version 1.6.0 because version 1.8.0 is already loaded.\n",
      "  return func(args[0], **pargs)\n",
      "/home/eli/miniforge3/envs/ephys/lib/python3.11/site-packages/hdmf/utils.py:668: UserWarning: Ignoring cached namespace 'core' version 2.6.0-alpha because version 2.7.0 is already loaded.\n",
      "  return func(args[0], **pargs)\n",
      "/home/eli/miniforge3/envs/ephys/lib/python3.11/site-packages/hdmf/utils.py:668: UserWarning: Ignoring cached namespace 'hdmf-experimental' version 0.3.0 because version 0.5.0 is already loaded.\n",
      "  return func(args[0], **pargs)\n"
     ]
    },
    {
     "name": "stderr",
     "output_type": "stream",
     "text": [
      "/home/eli/miniforge3/envs/ephys/lib/python3.11/site-packages/hdmf/utils.py:668: UserWarning: Ignoring cached namespace 'hdmf-common' version 1.6.0 because version 1.8.0 is already loaded.\n",
      "  return func(args[0], **pargs)\n",
      "/home/eli/miniforge3/envs/ephys/lib/python3.11/site-packages/hdmf/utils.py:668: UserWarning: Ignoring cached namespace 'core' version 2.6.0-alpha because version 2.7.0 is already loaded.\n",
      "  return func(args[0], **pargs)\n",
      "/home/eli/miniforge3/envs/ephys/lib/python3.11/site-packages/hdmf/utils.py:668: UserWarning: Ignoring cached namespace 'hdmf-experimental' version 0.3.0 because version 0.5.0 is already loaded.\n",
      "  return func(args[0], **pargs)\n"
     ]
    },
    {
     "name": "stderr",
     "output_type": "stream",
     "text": [
      "/home/eli/miniforge3/envs/ephys/lib/python3.11/site-packages/hdmf/utils.py:668: UserWarning: Ignoring cached namespace 'hdmf-common' version 1.6.0 because version 1.8.0 is already loaded.\n",
      "  return func(args[0], **pargs)\n",
      "/home/eli/miniforge3/envs/ephys/lib/python3.11/site-packages/hdmf/utils.py:668: UserWarning: Ignoring cached namespace 'core' version 2.6.0-alpha because version 2.7.0 is already loaded.\n",
      "  return func(args[0], **pargs)\n",
      "/home/eli/miniforge3/envs/ephys/lib/python3.11/site-packages/hdmf/utils.py:668: UserWarning: Ignoring cached namespace 'hdmf-experimental' version 0.3.0 because version 0.5.0 is already loaded.\n",
      "  return func(args[0], **pargs)\n"
     ]
    },
    {
     "name": "stderr",
     "output_type": "stream",
     "text": [
      "INFO:root:Finished epoching of go_gloexp condition in /mnt/data/DRAFT/000253/sub-645322/\n"
     ]
    },
    {
     "name": "stderr",
     "output_type": "stream",
     "text": [
      "INFO:root:Finished epoching of lo_gloexp condition in /mnt/data/DRAFT/000253/sub-645322/\n"
     ]
    },
    {
     "name": "stderr",
     "output_type": "stream",
     "text": [
      "INFO:root:Finished epoching of go_seqctl condition in /mnt/data/DRAFT/000253/sub-645322/\n"
     ]
    },
    {
     "name": "stderr",
     "output_type": "stream",
     "text": [
      "INFO:root:Finished epoching of lo_rndctl condition in /mnt/data/DRAFT/000253/sub-645322/\n"
     ]
    },
    {
     "name": "stderr",
     "output_type": "stream",
     "text": [
      "INFO:root:Finished epoching of igo_seqctl condition in /mnt/data/DRAFT/000253/sub-645322/\n"
     ]
    },
    {
     "name": "stderr",
     "output_type": "stream",
     "text": [
      "INFO:root:Finished epoching of /mnt/data/DRAFT/000253/sub-645322/\n"
     ]
    },
    {
     "name": "stderr",
     "output_type": "stream",
     "text": [
      "/home/eli/miniforge3/envs/ephys/lib/python3.11/site-packages/hdmf/utils.py:668: UserWarning: Ignoring cached namespace 'hdmf-common' version 1.6.0 because version 1.8.0 is already loaded.\n",
      "  return func(args[0], **pargs)\n",
      "/home/eli/miniforge3/envs/ephys/lib/python3.11/site-packages/hdmf/utils.py:668: UserWarning: Ignoring cached namespace 'core' version 2.6.0-alpha because version 2.7.0 is already loaded.\n",
      "  return func(args[0], **pargs)\n",
      "/home/eli/miniforge3/envs/ephys/lib/python3.11/site-packages/hdmf/utils.py:668: UserWarning: Ignoring cached namespace 'hdmf-experimental' version 0.3.0 because version 0.5.0 is already loaded.\n",
      "  return func(args[0], **pargs)\n"
     ]
    },
    {
     "name": "stderr",
     "output_type": "stream",
     "text": [
      "/home/eli/miniforge3/envs/ephys/lib/python3.11/site-packages/hdmf/utils.py:668: UserWarning: Ignoring cached namespace 'hdmf-common' version 1.6.0 because version 1.8.0 is already loaded.\n",
      "  return func(args[0], **pargs)\n",
      "/home/eli/miniforge3/envs/ephys/lib/python3.11/site-packages/hdmf/utils.py:668: UserWarning: Ignoring cached namespace 'core' version 2.6.0-alpha because version 2.7.0 is already loaded.\n",
      "  return func(args[0], **pargs)\n",
      "/home/eli/miniforge3/envs/ephys/lib/python3.11/site-packages/hdmf/utils.py:668: UserWarning: Ignoring cached namespace 'hdmf-experimental' version 0.3.0 because version 0.5.0 is already loaded.\n",
      "  return func(args[0], **pargs)\n"
     ]
    },
    {
     "name": "stderr",
     "output_type": "stream",
     "text": [
      "/home/eli/miniforge3/envs/ephys/lib/python3.11/site-packages/hdmf/utils.py:668: UserWarning: Ignoring cached namespace 'hdmf-common' version 1.6.0 because version 1.8.0 is already loaded.\n",
      "  return func(args[0], **pargs)\n",
      "/home/eli/miniforge3/envs/ephys/lib/python3.11/site-packages/hdmf/utils.py:668: UserWarning: Ignoring cached namespace 'core' version 2.6.0-alpha because version 2.7.0 is already loaded.\n",
      "  return func(args[0], **pargs)\n",
      "/home/eli/miniforge3/envs/ephys/lib/python3.11/site-packages/hdmf/utils.py:668: UserWarning: Ignoring cached namespace 'hdmf-experimental' version 0.3.0 because version 0.5.0 is already loaded.\n",
      "  return func(args[0], **pargs)\n"
     ]
    },
    {
     "name": "stderr",
     "output_type": "stream",
     "text": [
      "/home/eli/miniforge3/envs/ephys/lib/python3.11/site-packages/hdmf/utils.py:668: UserWarning: Ignoring cached namespace 'hdmf-common' version 1.6.0 because version 1.8.0 is already loaded.\n",
      "  return func(args[0], **pargs)\n",
      "/home/eli/miniforge3/envs/ephys/lib/python3.11/site-packages/hdmf/utils.py:668: UserWarning: Ignoring cached namespace 'core' version 2.6.0-alpha because version 2.7.0 is already loaded.\n",
      "  return func(args[0], **pargs)\n",
      "/home/eli/miniforge3/envs/ephys/lib/python3.11/site-packages/hdmf/utils.py:668: UserWarning: Ignoring cached namespace 'hdmf-experimental' version 0.3.0 because version 0.5.0 is already loaded.\n",
      "  return func(args[0], **pargs)\n"
     ]
    },
    {
     "name": "stderr",
     "output_type": "stream",
     "text": [
      "/home/eli/miniforge3/envs/ephys/lib/python3.11/site-packages/hdmf/utils.py:668: UserWarning: Ignoring cached namespace 'hdmf-common' version 1.6.0 because version 1.8.0 is already loaded.\n",
      "  return func(args[0], **pargs)\n",
      "/home/eli/miniforge3/envs/ephys/lib/python3.11/site-packages/hdmf/utils.py:668: UserWarning: Ignoring cached namespace 'core' version 2.6.0-alpha because version 2.7.0 is already loaded.\n",
      "  return func(args[0], **pargs)\n",
      "/home/eli/miniforge3/envs/ephys/lib/python3.11/site-packages/hdmf/utils.py:668: UserWarning: Ignoring cached namespace 'hdmf-experimental' version 0.3.0 because version 0.5.0 is already loaded.\n",
      "  return func(args[0], **pargs)\n"
     ]
    },
    {
     "name": "stderr",
     "output_type": "stream",
     "text": [
      "/home/eli/miniforge3/envs/ephys/lib/python3.11/site-packages/hdmf/utils.py:668: UserWarning: Ignoring cached namespace 'hdmf-common' version 1.6.0 because version 1.8.0 is already loaded.\n",
      "  return func(args[0], **pargs)\n",
      "/home/eli/miniforge3/envs/ephys/lib/python3.11/site-packages/hdmf/utils.py:668: UserWarning: Ignoring cached namespace 'core' version 2.6.0-alpha because version 2.7.0 is already loaded.\n",
      "  return func(args[0], **pargs)\n",
      "/home/eli/miniforge3/envs/ephys/lib/python3.11/site-packages/hdmf/utils.py:668: UserWarning: Ignoring cached namespace 'hdmf-experimental' version 0.3.0 because version 0.5.0 is already loaded.\n",
      "  return func(args[0], **pargs)\n"
     ]
    },
    {
     "name": "stderr",
     "output_type": "stream",
     "text": [
      "INFO:root:Finished epoching of go_gloexp condition in /mnt/data/DRAFT/000253/sub-645324/\n"
     ]
    },
    {
     "name": "stderr",
     "output_type": "stream",
     "text": [
      "INFO:root:Finished epoching of lo_gloexp condition in /mnt/data/DRAFT/000253/sub-645324/\n"
     ]
    },
    {
     "name": "stderr",
     "output_type": "stream",
     "text": [
      "INFO:root:Finished epoching of go_seqctl condition in /mnt/data/DRAFT/000253/sub-645324/\n"
     ]
    },
    {
     "name": "stderr",
     "output_type": "stream",
     "text": [
      "INFO:root:Finished epoching of lo_rndctl condition in /mnt/data/DRAFT/000253/sub-645324/\n"
     ]
    },
    {
     "name": "stderr",
     "output_type": "stream",
     "text": [
      "INFO:root:Finished epoching of igo_seqctl condition in /mnt/data/DRAFT/000253/sub-645324/\n"
     ]
    },
    {
     "name": "stderr",
     "output_type": "stream",
     "text": [
      "INFO:root:Finished epoching of /mnt/data/DRAFT/000253/sub-645324/\n"
     ]
    },
    {
     "name": "stderr",
     "output_type": "stream",
     "text": [
      "/home/eli/miniforge3/envs/ephys/lib/python3.11/site-packages/hdmf/utils.py:668: UserWarning: Ignoring cached namespace 'hdmf-common' version 1.6.0 because version 1.8.0 is already loaded.\n",
      "  return func(args[0], **pargs)\n",
      "/home/eli/miniforge3/envs/ephys/lib/python3.11/site-packages/hdmf/utils.py:668: UserWarning: Ignoring cached namespace 'core' version 2.6.0-alpha because version 2.7.0 is already loaded.\n",
      "  return func(args[0], **pargs)\n",
      "/home/eli/miniforge3/envs/ephys/lib/python3.11/site-packages/hdmf/utils.py:668: UserWarning: Ignoring cached namespace 'hdmf-experimental' version 0.3.0 because version 0.5.0 is already loaded.\n",
      "  return func(args[0], **pargs)\n"
     ]
    },
    {
     "name": "stderr",
     "output_type": "stream",
     "text": [
      "/home/eli/miniforge3/envs/ephys/lib/python3.11/site-packages/hdmf/utils.py:668: UserWarning: Ignoring cached namespace 'hdmf-common' version 1.6.0 because version 1.8.0 is already loaded.\n",
      "  return func(args[0], **pargs)\n",
      "/home/eli/miniforge3/envs/ephys/lib/python3.11/site-packages/hdmf/utils.py:668: UserWarning: Ignoring cached namespace 'core' version 2.6.0-alpha because version 2.7.0 is already loaded.\n",
      "  return func(args[0], **pargs)\n",
      "/home/eli/miniforge3/envs/ephys/lib/python3.11/site-packages/hdmf/utils.py:668: UserWarning: Ignoring cached namespace 'hdmf-experimental' version 0.3.0 because version 0.5.0 is already loaded.\n",
      "  return func(args[0], **pargs)\n"
     ]
    },
    {
     "name": "stderr",
     "output_type": "stream",
     "text": [
      "/home/eli/miniforge3/envs/ephys/lib/python3.11/site-packages/hdmf/utils.py:668: UserWarning: Ignoring cached namespace 'hdmf-common' version 1.6.0 because version 1.8.0 is already loaded.\n",
      "  return func(args[0], **pargs)\n",
      "/home/eli/miniforge3/envs/ephys/lib/python3.11/site-packages/hdmf/utils.py:668: UserWarning: Ignoring cached namespace 'core' version 2.6.0-alpha because version 2.7.0 is already loaded.\n",
      "  return func(args[0], **pargs)\n",
      "/home/eli/miniforge3/envs/ephys/lib/python3.11/site-packages/hdmf/utils.py:668: UserWarning: Ignoring cached namespace 'hdmf-experimental' version 0.3.0 because version 0.5.0 is already loaded.\n",
      "  return func(args[0], **pargs)\n"
     ]
    },
    {
     "name": "stderr",
     "output_type": "stream",
     "text": [
      "/home/eli/miniforge3/envs/ephys/lib/python3.11/site-packages/hdmf/utils.py:668: UserWarning: Ignoring cached namespace 'hdmf-common' version 1.6.0 because version 1.8.0 is already loaded.\n",
      "  return func(args[0], **pargs)\n",
      "/home/eli/miniforge3/envs/ephys/lib/python3.11/site-packages/hdmf/utils.py:668: UserWarning: Ignoring cached namespace 'core' version 2.6.0-alpha because version 2.7.0 is already loaded.\n",
      "  return func(args[0], **pargs)\n",
      "/home/eli/miniforge3/envs/ephys/lib/python3.11/site-packages/hdmf/utils.py:668: UserWarning: Ignoring cached namespace 'hdmf-experimental' version 0.3.0 because version 0.5.0 is already loaded.\n",
      "  return func(args[0], **pargs)\n"
     ]
    },
    {
     "name": "stderr",
     "output_type": "stream",
     "text": [
      "/home/eli/miniforge3/envs/ephys/lib/python3.11/site-packages/hdmf/utils.py:668: UserWarning: Ignoring cached namespace 'hdmf-common' version 1.6.0 because version 1.8.0 is already loaded.\n",
      "  return func(args[0], **pargs)\n",
      "/home/eli/miniforge3/envs/ephys/lib/python3.11/site-packages/hdmf/utils.py:668: UserWarning: Ignoring cached namespace 'core' version 2.6.0-alpha because version 2.7.0 is already loaded.\n",
      "  return func(args[0], **pargs)\n",
      "/home/eli/miniforge3/envs/ephys/lib/python3.11/site-packages/hdmf/utils.py:668: UserWarning: Ignoring cached namespace 'hdmf-experimental' version 0.3.0 because version 0.5.0 is already loaded.\n",
      "  return func(args[0], **pargs)\n"
     ]
    },
    {
     "name": "stderr",
     "output_type": "stream",
     "text": [
      "/home/eli/miniforge3/envs/ephys/lib/python3.11/site-packages/hdmf/utils.py:668: UserWarning: Ignoring cached namespace 'hdmf-common' version 1.6.0 because version 1.8.0 is already loaded.\n",
      "  return func(args[0], **pargs)\n",
      "/home/eli/miniforge3/envs/ephys/lib/python3.11/site-packages/hdmf/utils.py:668: UserWarning: Ignoring cached namespace 'core' version 2.6.0-alpha because version 2.7.0 is already loaded.\n",
      "  return func(args[0], **pargs)\n",
      "/home/eli/miniforge3/envs/ephys/lib/python3.11/site-packages/hdmf/utils.py:668: UserWarning: Ignoring cached namespace 'hdmf-experimental' version 0.3.0 because version 0.5.0 is already loaded.\n",
      "  return func(args[0], **pargs)\n"
     ]
    },
    {
     "name": "stderr",
     "output_type": "stream",
     "text": [
      "INFO:root:Finished epoching of go_gloexp condition in /mnt/data/DRAFT/000253/sub-645495/\n"
     ]
    },
    {
     "name": "stderr",
     "output_type": "stream",
     "text": [
      "INFO:root:Finished epoching of lo_gloexp condition in /mnt/data/DRAFT/000253/sub-645495/\n"
     ]
    },
    {
     "name": "stderr",
     "output_type": "stream",
     "text": [
      "INFO:root:Finished epoching of go_seqctl condition in /mnt/data/DRAFT/000253/sub-645495/\n"
     ]
    },
    {
     "name": "stderr",
     "output_type": "stream",
     "text": [
      "INFO:root:Finished epoching of lo_rndctl condition in /mnt/data/DRAFT/000253/sub-645495/\n"
     ]
    },
    {
     "name": "stderr",
     "output_type": "stream",
     "text": [
      "INFO:root:Finished epoching of igo_seqctl condition in /mnt/data/DRAFT/000253/sub-645495/\n"
     ]
    },
    {
     "name": "stderr",
     "output_type": "stream",
     "text": [
      "INFO:root:Finished epoching of /mnt/data/DRAFT/000253/sub-645495/\n"
     ]
    },
    {
     "name": "stderr",
     "output_type": "stream",
     "text": [
      "/home/eli/miniforge3/envs/ephys/lib/python3.11/site-packages/hdmf/utils.py:668: UserWarning: Ignoring cached namespace 'hdmf-common' version 1.6.0 because version 1.8.0 is already loaded.\n",
      "  return func(args[0], **pargs)\n",
      "/home/eli/miniforge3/envs/ephys/lib/python3.11/site-packages/hdmf/utils.py:668: UserWarning: Ignoring cached namespace 'core' version 2.6.0-alpha because version 2.7.0 is already loaded.\n",
      "  return func(args[0], **pargs)\n",
      "/home/eli/miniforge3/envs/ephys/lib/python3.11/site-packages/hdmf/utils.py:668: UserWarning: Ignoring cached namespace 'hdmf-experimental' version 0.3.0 because version 0.5.0 is already loaded.\n",
      "  return func(args[0], **pargs)\n"
     ]
    },
    {
     "name": "stderr",
     "output_type": "stream",
     "text": [
      "/home/eli/miniforge3/envs/ephys/lib/python3.11/site-packages/hdmf/utils.py:668: UserWarning: Ignoring cached namespace 'hdmf-common' version 1.6.0 because version 1.8.0 is already loaded.\n",
      "  return func(args[0], **pargs)\n",
      "/home/eli/miniforge3/envs/ephys/lib/python3.11/site-packages/hdmf/utils.py:668: UserWarning: Ignoring cached namespace 'core' version 2.6.0-alpha because version 2.7.0 is already loaded.\n",
      "  return func(args[0], **pargs)\n",
      "/home/eli/miniforge3/envs/ephys/lib/python3.11/site-packages/hdmf/utils.py:668: UserWarning: Ignoring cached namespace 'hdmf-experimental' version 0.3.0 because version 0.5.0 is already loaded.\n",
      "  return func(args[0], **pargs)\n"
     ]
    },
    {
     "name": "stderr",
     "output_type": "stream",
     "text": [
      "/home/eli/miniforge3/envs/ephys/lib/python3.11/site-packages/hdmf/utils.py:668: UserWarning: Ignoring cached namespace 'hdmf-common' version 1.6.0 because version 1.8.0 is already loaded.\n",
      "  return func(args[0], **pargs)\n",
      "/home/eli/miniforge3/envs/ephys/lib/python3.11/site-packages/hdmf/utils.py:668: UserWarning: Ignoring cached namespace 'core' version 2.6.0-alpha because version 2.7.0 is already loaded.\n",
      "  return func(args[0], **pargs)\n",
      "/home/eli/miniforge3/envs/ephys/lib/python3.11/site-packages/hdmf/utils.py:668: UserWarning: Ignoring cached namespace 'hdmf-experimental' version 0.3.0 because version 0.5.0 is already loaded.\n",
      "  return func(args[0], **pargs)\n"
     ]
    },
    {
     "name": "stderr",
     "output_type": "stream",
     "text": [
      "/home/eli/miniforge3/envs/ephys/lib/python3.11/site-packages/hdmf/utils.py:668: UserWarning: Ignoring cached namespace 'hdmf-common' version 1.6.0 because version 1.8.0 is already loaded.\n",
      "  return func(args[0], **pargs)\n",
      "/home/eli/miniforge3/envs/ephys/lib/python3.11/site-packages/hdmf/utils.py:668: UserWarning: Ignoring cached namespace 'core' version 2.6.0-alpha because version 2.7.0 is already loaded.\n",
      "  return func(args[0], **pargs)\n",
      "/home/eli/miniforge3/envs/ephys/lib/python3.11/site-packages/hdmf/utils.py:668: UserWarning: Ignoring cached namespace 'hdmf-experimental' version 0.3.0 because version 0.5.0 is already loaded.\n",
      "  return func(args[0], **pargs)\n"
     ]
    },
    {
     "name": "stderr",
     "output_type": "stream",
     "text": [
      "/home/eli/miniforge3/envs/ephys/lib/python3.11/site-packages/hdmf/utils.py:668: UserWarning: Ignoring cached namespace 'hdmf-common' version 1.6.0 because version 1.8.0 is already loaded.\n",
      "  return func(args[0], **pargs)\n",
      "/home/eli/miniforge3/envs/ephys/lib/python3.11/site-packages/hdmf/utils.py:668: UserWarning: Ignoring cached namespace 'core' version 2.6.0-alpha because version 2.7.0 is already loaded.\n",
      "  return func(args[0], **pargs)\n",
      "/home/eli/miniforge3/envs/ephys/lib/python3.11/site-packages/hdmf/utils.py:668: UserWarning: Ignoring cached namespace 'hdmf-experimental' version 0.3.0 because version 0.5.0 is already loaded.\n",
      "  return func(args[0], **pargs)\n"
     ]
    },
    {
     "name": "stderr",
     "output_type": "stream",
     "text": [
      "/home/eli/miniforge3/envs/ephys/lib/python3.11/site-packages/hdmf/utils.py:668: UserWarning: Ignoring cached namespace 'hdmf-common' version 1.6.0 because version 1.8.0 is already loaded.\n",
      "  return func(args[0], **pargs)\n",
      "/home/eli/miniforge3/envs/ephys/lib/python3.11/site-packages/hdmf/utils.py:668: UserWarning: Ignoring cached namespace 'core' version 2.6.0-alpha because version 2.7.0 is already loaded.\n",
      "  return func(args[0], **pargs)\n",
      "/home/eli/miniforge3/envs/ephys/lib/python3.11/site-packages/hdmf/utils.py:668: UserWarning: Ignoring cached namespace 'hdmf-experimental' version 0.3.0 because version 0.5.0 is already loaded.\n",
      "  return func(args[0], **pargs)\n"
     ]
    },
    {
     "name": "stderr",
     "output_type": "stream",
     "text": [
      "INFO:root:Finished epoching of go_gloexp condition in /mnt/data/DRAFT/000253/sub-647836/\n"
     ]
    },
    {
     "name": "stderr",
     "output_type": "stream",
     "text": [
      "INFO:root:Finished epoching of lo_gloexp condition in /mnt/data/DRAFT/000253/sub-647836/\n"
     ]
    },
    {
     "name": "stderr",
     "output_type": "stream",
     "text": [
      "INFO:root:Finished epoching of go_seqctl condition in /mnt/data/DRAFT/000253/sub-647836/\n"
     ]
    },
    {
     "name": "stderr",
     "output_type": "stream",
     "text": [
      "INFO:root:Finished epoching of lo_rndctl condition in /mnt/data/DRAFT/000253/sub-647836/\n"
     ]
    },
    {
     "name": "stderr",
     "output_type": "stream",
     "text": [
      "INFO:root:Finished epoching of igo_seqctl condition in /mnt/data/DRAFT/000253/sub-647836/\n"
     ]
    },
    {
     "name": "stderr",
     "output_type": "stream",
     "text": [
      "INFO:root:Finished epoching of /mnt/data/DRAFT/000253/sub-647836/\n"
     ]
    },
    {
     "name": "stderr",
     "output_type": "stream",
     "text": [
      "/home/eli/miniforge3/envs/ephys/lib/python3.11/site-packages/hdmf/utils.py:668: UserWarning: Ignoring cached namespace 'hdmf-common' version 1.6.0 because version 1.8.0 is already loaded.\n",
      "  return func(args[0], **pargs)\n",
      "/home/eli/miniforge3/envs/ephys/lib/python3.11/site-packages/hdmf/utils.py:668: UserWarning: Ignoring cached namespace 'core' version 2.6.0-alpha because version 2.7.0 is already loaded.\n",
      "  return func(args[0], **pargs)\n",
      "/home/eli/miniforge3/envs/ephys/lib/python3.11/site-packages/hdmf/utils.py:668: UserWarning: Ignoring cached namespace 'hdmf-experimental' version 0.3.0 because version 0.5.0 is already loaded.\n",
      "  return func(args[0], **pargs)\n"
     ]
    },
    {
     "name": "stderr",
     "output_type": "stream",
     "text": [
      "/home/eli/miniforge3/envs/ephys/lib/python3.11/site-packages/hdmf/utils.py:668: UserWarning: Ignoring cached namespace 'hdmf-common' version 1.6.0 because version 1.8.0 is already loaded.\n",
      "  return func(args[0], **pargs)\n",
      "/home/eli/miniforge3/envs/ephys/lib/python3.11/site-packages/hdmf/utils.py:668: UserWarning: Ignoring cached namespace 'core' version 2.6.0-alpha because version 2.7.0 is already loaded.\n",
      "  return func(args[0], **pargs)\n",
      "/home/eli/miniforge3/envs/ephys/lib/python3.11/site-packages/hdmf/utils.py:668: UserWarning: Ignoring cached namespace 'hdmf-experimental' version 0.3.0 because version 0.5.0 is already loaded.\n",
      "  return func(args[0], **pargs)\n"
     ]
    },
    {
     "name": "stderr",
     "output_type": "stream",
     "text": [
      "/home/eli/miniforge3/envs/ephys/lib/python3.11/site-packages/hdmf/utils.py:668: UserWarning: Ignoring cached namespace 'hdmf-common' version 1.6.0 because version 1.8.0 is already loaded.\n",
      "  return func(args[0], **pargs)\n",
      "/home/eli/miniforge3/envs/ephys/lib/python3.11/site-packages/hdmf/utils.py:668: UserWarning: Ignoring cached namespace 'core' version 2.6.0-alpha because version 2.7.0 is already loaded.\n",
      "  return func(args[0], **pargs)\n",
      "/home/eli/miniforge3/envs/ephys/lib/python3.11/site-packages/hdmf/utils.py:668: UserWarning: Ignoring cached namespace 'hdmf-experimental' version 0.3.0 because version 0.5.0 is already loaded.\n",
      "  return func(args[0], **pargs)\n"
     ]
    },
    {
     "name": "stderr",
     "output_type": "stream",
     "text": [
      "/home/eli/miniforge3/envs/ephys/lib/python3.11/site-packages/hdmf/utils.py:668: UserWarning: Ignoring cached namespace 'hdmf-common' version 1.6.0 because version 1.8.0 is already loaded.\n",
      "  return func(args[0], **pargs)\n",
      "/home/eli/miniforge3/envs/ephys/lib/python3.11/site-packages/hdmf/utils.py:668: UserWarning: Ignoring cached namespace 'core' version 2.6.0-alpha because version 2.7.0 is already loaded.\n",
      "  return func(args[0], **pargs)\n",
      "/home/eli/miniforge3/envs/ephys/lib/python3.11/site-packages/hdmf/utils.py:668: UserWarning: Ignoring cached namespace 'hdmf-experimental' version 0.3.0 because version 0.5.0 is already loaded.\n",
      "  return func(args[0], **pargs)\n"
     ]
    },
    {
     "name": "stderr",
     "output_type": "stream",
     "text": [
      "/home/eli/miniforge3/envs/ephys/lib/python3.11/site-packages/hdmf/utils.py:668: UserWarning: Ignoring cached namespace 'hdmf-common' version 1.6.0 because version 1.8.0 is already loaded.\n",
      "  return func(args[0], **pargs)\n",
      "/home/eli/miniforge3/envs/ephys/lib/python3.11/site-packages/hdmf/utils.py:668: UserWarning: Ignoring cached namespace 'core' version 2.6.0-alpha because version 2.7.0 is already loaded.\n",
      "  return func(args[0], **pargs)\n",
      "/home/eli/miniforge3/envs/ephys/lib/python3.11/site-packages/hdmf/utils.py:668: UserWarning: Ignoring cached namespace 'hdmf-experimental' version 0.3.0 because version 0.5.0 is already loaded.\n",
      "  return func(args[0], **pargs)\n"
     ]
    },
    {
     "name": "stderr",
     "output_type": "stream",
     "text": [
      "/home/eli/miniforge3/envs/ephys/lib/python3.11/site-packages/hdmf/utils.py:668: UserWarning: Ignoring cached namespace 'hdmf-common' version 1.6.0 because version 1.8.0 is already loaded.\n",
      "  return func(args[0], **pargs)\n",
      "/home/eli/miniforge3/envs/ephys/lib/python3.11/site-packages/hdmf/utils.py:668: UserWarning: Ignoring cached namespace 'core' version 2.6.0-alpha because version 2.7.0 is already loaded.\n",
      "  return func(args[0], **pargs)\n",
      "/home/eli/miniforge3/envs/ephys/lib/python3.11/site-packages/hdmf/utils.py:668: UserWarning: Ignoring cached namespace 'hdmf-experimental' version 0.3.0 because version 0.5.0 is already loaded.\n",
      "  return func(args[0], **pargs)\n"
     ]
    },
    {
     "name": "stderr",
     "output_type": "stream",
     "text": [
      "INFO:root:Finished epoching of go_gloexp condition in /mnt/data/DRAFT/000253/sub-649323/\n"
     ]
    },
    {
     "name": "stderr",
     "output_type": "stream",
     "text": [
      "INFO:root:Finished epoching of lo_gloexp condition in /mnt/data/DRAFT/000253/sub-649323/\n"
     ]
    },
    {
     "name": "stderr",
     "output_type": "stream",
     "text": [
      "INFO:root:Finished epoching of go_seqctl condition in /mnt/data/DRAFT/000253/sub-649323/\n"
     ]
    },
    {
     "name": "stderr",
     "output_type": "stream",
     "text": [
      "INFO:root:Finished epoching of lo_rndctl condition in /mnt/data/DRAFT/000253/sub-649323/\n"
     ]
    },
    {
     "name": "stderr",
     "output_type": "stream",
     "text": [
      "INFO:root:Finished epoching of igo_seqctl condition in /mnt/data/DRAFT/000253/sub-649323/\n"
     ]
    },
    {
     "name": "stderr",
     "output_type": "stream",
     "text": [
      "INFO:root:Finished epoching of /mnt/data/DRAFT/000253/sub-649323/\n"
     ]
    },
    {
     "name": "stderr",
     "output_type": "stream",
     "text": [
      "/home/eli/miniforge3/envs/ephys/lib/python3.11/site-packages/hdmf/utils.py:668: UserWarning: Ignoring cached namespace 'hdmf-common' version 1.6.0 because version 1.8.0 is already loaded.\n",
      "  return func(args[0], **pargs)\n",
      "/home/eli/miniforge3/envs/ephys/lib/python3.11/site-packages/hdmf/utils.py:668: UserWarning: Ignoring cached namespace 'core' version 2.6.0-alpha because version 2.7.0 is already loaded.\n",
      "  return func(args[0], **pargs)\n",
      "/home/eli/miniforge3/envs/ephys/lib/python3.11/site-packages/hdmf/utils.py:668: UserWarning: Ignoring cached namespace 'hdmf-experimental' version 0.3.0 because version 0.5.0 is already loaded.\n",
      "  return func(args[0], **pargs)\n"
     ]
    }
   ],
   "source": [
    "for s, subject_dir in enumerate(sorted(NWB_SUBJECTS)):\n",
    "    subject = subject_dir.split('/')[-2]\n",
    "    if all(os.path.exists(subject_dir + \"/\" + cond) for cond in CONDITIONS):\n",
    "        logging.info(\"Finished epoching of %s\" % subject_dir)\n",
    "        continue\n",
    "    recording = subjectdir_recording(subject_dir)\n",
    "    if recording is None:\n",
    "        continue\n",
    "\n",
    "    GOOD_SUBJECT_DIRS.append(subject_dir)\n",
    "    for cond in CONDITIONS:\n",
    "        condition_epochs = recording.intervals[\"type\"] == cond\n",
    "        trial_epochs = recording.intervals[\"type\"] == \"trial\"\n",
    "        sampling = recording.epoch(condition_epochs, trial_epochs, PRETRIAL_SECONDS, POSTTRIAL_SECONDS)\n",
    "\n",
    "        os.makedirs(subject_dir + '/' + cond, exist_ok=True)\n",
    "        sampling.pickle(subject_dir + '/' + cond)\n",
    "        del sampling\n",
    "        logging.info(\"Finished epoching of %s condition in %s\" % (cond, subject_dir))\n",
    "    del recording\n",
    "    logging.info(\"Finished epoching of %s\" % subject_dir)"
   ]
  },
  {
   "cell_type": "code",
   "execution_count": null,
   "id": "8b09d019-831e-4966-a4e9-37bb09a810c7",
   "metadata": {},
   "outputs": [],
   "source": []
  }
 ],
 "metadata": {
  "kernelspec": {
   "display_name": "Python [conda env:ephys] *",
   "language": "python",
   "name": "conda-env-ephys-py"
  },
  "language_info": {
   "codemirror_mode": {
    "name": "ipython",
    "version": 3
   },
   "file_extension": ".py",
   "mimetype": "text/x-python",
   "name": "python",
   "nbconvert_exporter": "python",
   "pygments_lexer": "ipython3",
   "version": "3.11.9"
  }
 },
 "nbformat": 4,
 "nbformat_minor": 5
}
