{
 "cells": [
  {
   "cell_type": "code",
   "execution_count": 1,
   "id": "8d64ff37-0c6f-45c3-8002-eca757bdc33a",
   "metadata": {},
   "outputs": [
    {
     "name": "stdout",
     "output_type": "stream",
     "text": [
      "/home/eli/AnacondaProjects/epych\n"
     ]
    }
   ],
   "source": [
    "%cd ../.."
   ]
  },
  {
   "cell_type": "code",
   "execution_count": 2,
   "id": "5d084a58-aaf7-42ce-8a8f-c57167b37658",
   "metadata": {},
   "outputs": [],
   "source": [
    "%load_ext autoreload\n",
    "%autoreload 2"
   ]
  },
  {
   "cell_type": "code",
   "execution_count": 3,
   "id": "58a51e18-e847-479b-b3a6-f785f02ea137",
   "metadata": {},
   "outputs": [
    {
     "name": "stderr",
     "output_type": "stream",
     "text": [
      "[striatum:1599283] shmem: mmap: an error occurred while determining whether or not /tmp/ompi.striatum.1000/jf.0/46530560/shared_mem_cuda_pool.striatum could be created.\n",
      "[striatum:1599283] create_and_attach: unable to create shared memory BTL coordinating structure :: size 134217728 \n"
     ]
    }
   ],
   "source": [
    "import collections\n",
    "import glob\n",
    "import functools\n",
    "import logging\n",
    "import math\n",
    "import matplotlib.pyplot as plt\n",
    "import numpy as np\n",
    "import os\n",
    "import pickle\n",
    "import quantities as pq\n",
    "\n",
    "import epych\n",
    "from epych.statistics import alignment"
   ]
  },
  {
   "cell_type": "code",
   "execution_count": 4,
   "id": "98c35185-db98-4e9b-a72b-efff6723c1e7",
   "metadata": {},
   "outputs": [],
   "source": [
    "%matplotlib inline"
   ]
  },
  {
   "cell_type": "code",
   "execution_count": 5,
   "id": "f0fc9442-7bc4-44a9-ba16-145472382f52",
   "metadata": {},
   "outputs": [],
   "source": [
    "logging.basicConfig(level=logging.INFO)"
   ]
  },
  {
   "cell_type": "code",
   "execution_count": 6,
   "id": "8a8fe153-26d2-45a1-bae9-46ed1912d585",
   "metadata": {},
   "outputs": [],
   "source": [
    "CONDITIONS = [\"go_gloexp\", \"go_seqctl\", \"lo_gloexp\", \"lonaive\", \"lo_rndctl\", \"igo_seqctl\"]\n",
    "PRETRIAL_SECONDS = 0.5\n",
    "POSTTRIAL_SECONDS = 0.5"
   ]
  },
  {
   "cell_type": "code",
   "execution_count": 7,
   "id": "0b0b3d9c-2703-44b0-8a67-7e23b2bfa12f",
   "metadata": {},
   "outputs": [],
   "source": [
    "NWB_SUBJECTS = glob.glob('/mnt/data/000253/sub-*/')"
   ]
  },
  {
   "cell_type": "code",
   "execution_count": 8,
   "id": "7aee750b-52f3-4e44-bae3-d33abb0d1111",
   "metadata": {},
   "outputs": [],
   "source": [
    "PILOT_FILES = []"
   ]
  },
  {
   "cell_type": "code",
   "execution_count": 9,
   "id": "71101393-a8de-4697-9c81-557179a739cc",
   "metadata": {},
   "outputs": [],
   "source": [
    "NUM_TRIALS = 0\n",
    "ODDBALL_ONSET = 0.\n",
    "ODDBALL_OFFSET = 0."
   ]
  },
  {
   "cell_type": "code",
   "execution_count": 10,
   "id": "a7a06078-d15d-49ac-907f-b5d87f90f0d1",
   "metadata": {},
   "outputs": [],
   "source": [
    "evoked = {}"
   ]
  },
  {
   "cell_type": "code",
   "execution_count": 11,
   "id": "566e8204-3c64-4252-b3e5-cee362f600fc",
   "metadata": {},
   "outputs": [],
   "source": [
    "aligner = epych.statistics.alignment.AlignmentSummary.unpickle(\"/mnt/data/000253/hippocampal_alignment\", statcls=epych.statistics.alignment.SubcorticalAlignment)"
   ]
  },
  {
   "cell_type": "code",
   "execution_count": 12,
   "id": "ad4ad860-1f89-42b7-a7cf-e3fc5416bc82",
   "metadata": {},
   "outputs": [],
   "source": [
    "def hippocampal_channels(channels):\n",
    "    hippocampal_indices = [chan for chan, loc in zip(channels.index.values,\n",
    "                                                     channels.location.values)\n",
    "                           if (\"DG-\" in loc or \"CA\" in loc)]\n",
    "    for chan in channels.index.values:\n",
    "        yield len(hippocampal_indices) > 0 and chan >= hippocampal_indices[0] and chan <= hippocampal_indices[-1]"
   ]
  },
  {
   "cell_type": "code",
   "execution_count": 13,
   "id": "a8f27065-0d69-4b41-ba8c-167553c69a42",
   "metadata": {},
   "outputs": [],
   "source": [
    "def hippocampal_align(signal):\n",
    "    return signal.select_channels(list(hippocampal_channels(signal.channels))).median_filter()"
   ]
  },
  {
   "cell_type": "code",
   "execution_count": 14,
   "id": "c805ede2-08b5-458d-b93f-e19fefbff003",
   "metadata": {},
   "outputs": [],
   "source": [
    "def hippocampal_sampling(sampling):\n",
    "    signals = {}\n",
    "    for probe, signal in sampling.signals.items():\n",
    "        visual_channels = signal.channels.location[[\"VIS\" in loc for loc in signal.channels.location]]\n",
    "        visual_area = os.path.commonprefix(list(visual_channels.values))\n",
    "        hippocampal_signal = signal.select_channels(list(hippocampal_channels(signal.channels)))\n",
    "        if len(hippocampal_signal.channels) > 0:\n",
    "            signals[visual_area] = hippocampal_signal\n",
    "    return sampling.__class__(sampling.intervals, sampling.trials, sampling.units, **signals)"
   ]
  },
  {
   "cell_type": "code",
   "execution_count": 15,
   "id": "ae302af3-35c8-4a8a-afc6-0c3a28eba93d",
   "metadata": {},
   "outputs": [],
   "source": [
    "def samplings(cond):\n",
    "    for s, subject_dir in enumerate(sorted(NWB_SUBJECTS)):\n",
    "        subject = subject_dir.split('/')[-2]\n",
    "        if not os.path.exists(subject_dir + \"/\" + cond):\n",
    "            continue\n",
    "        sampling = hippocampal_sampling(epych.recording.Sampling.unpickle(subject_dir + cond))\n",
    "        global ODDBALL_ONSET\n",
    "        global ODDBALL_OFFSET\n",
    "        global NUM_TRIALS\n",
    "        ODDBALL_ONSET += sampling.trials['stim3_start'].sum()\n",
    "        ODDBALL_OFFSET += sampling.trials['stim3_end'].sum()\n",
    "        NUM_TRIALS += len(sampling.trials)\n",
    "        yield sampling\n",
    "        del sampling\n",
    "        logging.info(\"Loaded LFPs for %s in subject %s\" % (cond, subject))"
   ]
  },
  {
   "cell_type": "code",
   "execution_count": 16,
   "id": "a5888644-c0cb-4e2b-97e0-37ae217f2669",
   "metadata": {},
   "outputs": [],
   "source": [
    "erps = {}"
   ]
  },
  {
   "cell_type": "code",
   "execution_count": 17,
   "id": "bf3dfdbb-fe4d-4125-b152-f811152edb45",
   "metadata": {},
   "outputs": [],
   "source": [
    "def initialize_grandcat(key, signal):\n",
    "    return epych.statistics.grand.GrandConcatenation(aligner.stats[key])"
   ]
  },
  {
   "cell_type": "code",
   "execution_count": 18,
   "id": "f060f515-548e-40d7-a661-ca110d22185a",
   "metadata": {},
   "outputs": [
    {
     "name": "stderr",
     "output_type": "stream",
     "text": [
      "INFO:root:Grand-concatenated LFPs for condition go_gloexp\n",
      "INFO:root:Grand-concatenated LFPs for condition go_seqctl\n",
      "INFO:root:Grand-concatenated LFPs for condition lo_gloexp\n",
      "INFO:root:Loaded LFPs for lonaive in subject sub-621890\n",
      "INFO:root:Loaded LFPs for lonaive in subject sub-632485\n",
      "INFO:root:Loaded LFPs for lonaive in subject sub-632487\n",
      "INFO:root:Loaded LFPs for lonaive in subject sub-637542\n",
      "INFO:root:Loaded LFPs for lonaive in subject sub-637908\n",
      "INFO:root:Loaded LFPs for lonaive in subject sub-637909\n",
      "INFO:root:Loaded LFPs for lonaive in subject sub-640507\n",
      "INFO:root:Loaded LFPs for lonaive in subject sub-642507\n",
      "INFO:root:Loaded LFPs for lonaive in subject sub-645322\n",
      "INFO:root:Loaded LFPs for lonaive in subject sub-645324\n",
      "INFO:root:Loaded LFPs for lonaive in subject sub-645495\n",
      "INFO:root:Loaded LFPs for lonaive in subject sub-647836\n",
      "INFO:root:Loaded LFPs for lonaive in subject sub-649323\n",
      "INFO:root:Loaded LFPs for lonaive in subject sub-649324\n",
      "INFO:root:Grand-concatenated LFPs for condition lonaive\n",
      "INFO:root:Loaded LFPs for lo_rndctl in subject sub-621890\n",
      "INFO:root:Loaded LFPs for lo_rndctl in subject sub-632485\n",
      "INFO:root:Loaded LFPs for lo_rndctl in subject sub-632487\n",
      "INFO:root:Loaded LFPs for lo_rndctl in subject sub-637542\n",
      "INFO:root:Loaded LFPs for lo_rndctl in subject sub-637908\n",
      "INFO:root:Loaded LFPs for lo_rndctl in subject sub-637909\n",
      "INFO:root:Loaded LFPs for lo_rndctl in subject sub-640507\n",
      "INFO:root:Loaded LFPs for lo_rndctl in subject sub-642507\n",
      "INFO:root:Loaded LFPs for lo_rndctl in subject sub-645322\n",
      "INFO:root:Loaded LFPs for lo_rndctl in subject sub-645324\n",
      "INFO:root:Loaded LFPs for lo_rndctl in subject sub-645495\n",
      "INFO:root:Loaded LFPs for lo_rndctl in subject sub-647836\n",
      "INFO:root:Loaded LFPs for lo_rndctl in subject sub-649323\n",
      "INFO:root:Loaded LFPs for lo_rndctl in subject sub-649324\n",
      "INFO:root:Grand-concatenated LFPs for condition lo_rndctl\n",
      "INFO:root:Loaded LFPs for igo_seqctl in subject sub-621890\n",
      "INFO:root:Loaded LFPs for igo_seqctl in subject sub-632485\n",
      "INFO:root:Loaded LFPs for igo_seqctl in subject sub-632487\n",
      "INFO:root:Loaded LFPs for igo_seqctl in subject sub-637542\n",
      "INFO:root:Loaded LFPs for igo_seqctl in subject sub-637908\n",
      "INFO:root:Loaded LFPs for igo_seqctl in subject sub-637909\n",
      "INFO:root:Loaded LFPs for igo_seqctl in subject sub-640507\n",
      "INFO:root:Loaded LFPs for igo_seqctl in subject sub-642507\n",
      "INFO:root:Loaded LFPs for igo_seqctl in subject sub-645322\n",
      "INFO:root:Loaded LFPs for igo_seqctl in subject sub-645324\n",
      "INFO:root:Loaded LFPs for igo_seqctl in subject sub-645495\n",
      "INFO:root:Loaded LFPs for igo_seqctl in subject sub-647836\n",
      "INFO:root:Loaded LFPs for igo_seqctl in subject sub-649323\n",
      "INFO:root:Loaded LFPs for igo_seqctl in subject sub-649324\n",
      "INFO:root:Grand-concatenated LFPs for condition igo_seqctl\n"
     ]
    }
   ],
   "source": [
    "for cond in CONDITIONS:\n",
    "    if not os.path.exists(\"/mnt/data/000253/grandcat_hippocampal_%s\" % cond):\n",
    "        summary = epych.statistic.Summary(epych.statistics.alignment.location_title, initialize_grandcat)\n",
    "        summary.calculate(samplings(cond))\n",
    "        cat = summary.results()\n",
    "        cat.pickle(\"/mnt/data/000253/grandcat_hippocampal_%s\" % cond)\n",
    "        del summary\n",
    "        del cat\n",
    "    logging.info(\"Grand-concatenated LFPs for condition %s\" % cond)"
   ]
  },
  {
   "cell_type": "code",
   "execution_count": null,
   "id": "10422435-e219-4ff9-90c9-cb080c226b88",
   "metadata": {},
   "outputs": [],
   "source": []
  }
 ],
 "metadata": {
  "kernelspec": {
   "display_name": "Python [conda env:ephys] *",
   "language": "python",
   "name": "conda-env-ephys-py"
  },
  "language_info": {
   "codemirror_mode": {
    "name": "ipython",
    "version": 3
   },
   "file_extension": ".py",
   "mimetype": "text/x-python",
   "name": "python",
   "nbconvert_exporter": "python",
   "pygments_lexer": "ipython3",
   "version": "3.12.7"
  }
 },
 "nbformat": 4,
 "nbformat_minor": 5
}
