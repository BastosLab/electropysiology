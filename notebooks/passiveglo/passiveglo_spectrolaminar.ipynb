{
 "cells": [
  {
   "cell_type": "code",
   "execution_count": 1,
   "id": "032e7f3b-4c0e-4222-b94c-7a0c31095291",
   "metadata": {},
   "outputs": [
    {
     "name": "stdout",
     "output_type": "stream",
     "text": [
      "/home/eli/AnacondaProjects/epych\n"
     ]
    }
   ],
   "source": [
    "%cd .."
   ]
  },
  {
   "cell_type": "code",
   "execution_count": 2,
   "id": "58a51e18-e847-479b-b3a6-f785f02ea137",
   "metadata": {},
   "outputs": [],
   "source": [
    "import epych\n",
    "import glob\n",
    "import h5py\n",
    "import logging\n",
    "import math\n",
    "import matplotlib.pyplot as plt\n",
    "import numpy as np\n",
    "import os\n",
    "import pandas as pd\n",
    "import pickle\n",
    "import quantities as pq"
   ]
  },
  {
   "cell_type": "code",
   "execution_count": 3,
   "id": "98c35185-db98-4e9b-a72b-efff6723c1e7",
   "metadata": {},
   "outputs": [],
   "source": [
    "%matplotlib inline"
   ]
  },
  {
   "cell_type": "code",
   "execution_count": 4,
   "id": "f0fc9442-7bc4-44a9-ba16-145472382f52",
   "metadata": {},
   "outputs": [],
   "source": [
    "logging.basicConfig(level=logging.INFO)"
   ]
  },
  {
   "cell_type": "code",
   "execution_count": 5,
   "id": "8080c295-5b7a-4cdf-b4f0-fb4ebdaee5d9",
   "metadata": {},
   "outputs": [],
   "source": [
    "CONDITIONS = [\"go_gloexp\", \"lo_gloexp\", \"go_seqctl\", \"seqctl\"]\n",
    "PRETRIAL_SECONDS = 0.5\n",
    "POSTTRIAL_SECONDS = 0.5"
   ]
  },
  {
   "cell_type": "code",
   "execution_count": 6,
   "id": "38a7731f-ab30-47d6-b03f-92f974b68605",
   "metadata": {},
   "outputs": [],
   "source": [
    "def hippocampal_areas(probe_areas):\n",
    "    for (c, a) in enumerate(probe_areas):\n",
    "        if \"DG-\" in a or \"CA\" in a:\n",
    "            yield (c, a)\n",
    "\n",
    "def visual_areas(probe_areas):\n",
    "    for (c, a) in enumerate(probe_areas):\n",
    "        if \"VIS\" in a:\n",
    "            yield (c, a)\n",
    "\n",
    "def subcortical_areas(probe_areas):\n",
    "    for (c, a) in enumerate(probe_areas):\n",
    "        if \"DG-\" in a or \"CA\" in a or \"MB\" in a or \"SCi\" in a or \"POST\" in a:\n",
    "            yield (c, a)"
   ]
  },
  {
   "cell_type": "code",
   "execution_count": 7,
   "id": "0b0b3d9c-2703-44b0-8a67-7e23b2bfa12f",
   "metadata": {},
   "outputs": [],
   "source": [
    "NWB_FILES = glob.glob('/mnt/data/*.nwb')"
   ]
  },
  {
   "cell_type": "code",
   "execution_count": 8,
   "id": "7aee750b-52f3-4e44-bae3-d33abb0d1111",
   "metadata": {},
   "outputs": [],
   "source": [
    "PILOT_FILES = []"
   ]
  },
  {
   "cell_type": "code",
   "execution_count": 9,
   "id": "6da6203d-4efd-4528-b5f6-2e9b7103aa41",
   "metadata": {},
   "outputs": [],
   "source": [
    "contrasts = {}"
   ]
  },
  {
   "cell_type": "code",
   "execution_count": 10,
   "id": "abd0cedb-cec4-439d-bed1-4d1f41487854",
   "metadata": {},
   "outputs": [],
   "source": [
    "GOOD_NWB_FILES = []"
   ]
  },
  {
   "cell_type": "code",
   "execution_count": 11,
   "id": "173432e5-5027-43cb-bc7f-05d0412c9b07",
   "metadata": {},
   "outputs": [
    {
     "name": "stderr",
     "output_type": "stream",
     "text": [
      "INFO:root:Loaded Sampling of go_gloexp condition in /mnt/data/sub-1169714193_ses-1180116198.nwb\n",
      "INFO:root:Calculated frequency power spectrum of go_gloexp condition in /mnt/data/sub-1169714193_ses-1180116198.nwb\n",
      "INFO:root:Loaded Sampling of lo_gloexp condition in /mnt/data/sub-1169714193_ses-1180116198.nwb\n",
      "INFO:root:Calculated frequency power spectrum of lo_gloexp condition in /mnt/data/sub-1169714193_ses-1180116198.nwb\n",
      "INFO:root:Loaded Sampling of go_seqctl condition in /mnt/data/sub-1169714193_ses-1180116198.nwb\n",
      "INFO:root:Calculated frequency power spectrum of go_seqctl condition in /mnt/data/sub-1169714193_ses-1180116198.nwb\n",
      "INFO:root:Loaded Sampling of seqctl condition in /mnt/data/sub-1169714193_ses-1180116198.nwb\n",
      "INFO:root:Calculated frequency power spectrum of seqctl condition in /mnt/data/sub-1169714193_ses-1180116198.nwb\n",
      "INFO:root:Calculated frequency power spectra of /mnt/data/sub-1169714193_ses-1180116198.nwb\n",
      "INFO:root:Loaded Sampling of go_gloexp condition in /mnt/data/sub-1196154905_ses-1211241460.nwb\n",
      "INFO:root:Calculated frequency power spectrum of go_gloexp condition in /mnt/data/sub-1196154905_ses-1211241460.nwb\n",
      "INFO:root:Loaded Sampling of lo_gloexp condition in /mnt/data/sub-1196154905_ses-1211241460.nwb\n",
      "INFO:root:Calculated frequency power spectrum of lo_gloexp condition in /mnt/data/sub-1196154905_ses-1211241460.nwb\n",
      "INFO:root:Loaded Sampling of go_seqctl condition in /mnt/data/sub-1196154905_ses-1211241460.nwb\n",
      "INFO:root:Calculated frequency power spectrum of go_seqctl condition in /mnt/data/sub-1196154905_ses-1211241460.nwb\n",
      "INFO:root:Loaded Sampling of seqctl condition in /mnt/data/sub-1196154905_ses-1211241460.nwb\n",
      "INFO:root:Calculated frequency power spectrum of seqctl condition in /mnt/data/sub-1196154905_ses-1211241460.nwb\n",
      "INFO:root:Calculated frequency power spectra of /mnt/data/sub-1196154905_ses-1211241460.nwb\n",
      "INFO:root:Loaded Sampling of go_gloexp condition in /mnt/data/sub-1196664789_ses-1212569512.nwb\n",
      "INFO:root:Calculated frequency power spectrum of go_gloexp condition in /mnt/data/sub-1196664789_ses-1212569512.nwb\n",
      "INFO:root:Loaded Sampling of lo_gloexp condition in /mnt/data/sub-1196664789_ses-1212569512.nwb\n",
      "INFO:root:Calculated frequency power spectrum of lo_gloexp condition in /mnt/data/sub-1196664789_ses-1212569512.nwb\n",
      "INFO:root:Loaded Sampling of go_seqctl condition in /mnt/data/sub-1196664789_ses-1212569512.nwb\n",
      "INFO:root:Calculated frequency power spectrum of go_seqctl condition in /mnt/data/sub-1196664789_ses-1212569512.nwb\n",
      "INFO:root:Loaded Sampling of seqctl condition in /mnt/data/sub-1196664789_ses-1212569512.nwb\n",
      "INFO:root:Calculated frequency power spectrum of seqctl condition in /mnt/data/sub-1196664789_ses-1212569512.nwb\n",
      "INFO:root:Calculated frequency power spectra of /mnt/data/sub-1196664789_ses-1212569512.nwb\n",
      "INFO:root:Loaded Sampling of go_gloexp condition in /mnt/data/sub-1196167186_ses-1210866107.nwb\n",
      "INFO:root:Calculated frequency power spectrum of go_gloexp condition in /mnt/data/sub-1196167186_ses-1210866107.nwb\n",
      "INFO:root:Loaded Sampling of lo_gloexp condition in /mnt/data/sub-1196167186_ses-1210866107.nwb\n",
      "INFO:root:Calculated frequency power spectrum of lo_gloexp condition in /mnt/data/sub-1196167186_ses-1210866107.nwb\n",
      "INFO:root:Loaded Sampling of go_seqctl condition in /mnt/data/sub-1196167186_ses-1210866107.nwb\n",
      "INFO:root:Calculated frequency power spectrum of go_seqctl condition in /mnt/data/sub-1196167186_ses-1210866107.nwb\n",
      "INFO:root:Loaded Sampling of seqctl condition in /mnt/data/sub-1196167186_ses-1210866107.nwb\n",
      "INFO:root:Calculated frequency power spectrum of seqctl condition in /mnt/data/sub-1196167186_ses-1210866107.nwb\n",
      "INFO:root:Calculated frequency power spectra of /mnt/data/sub-1196167186_ses-1210866107.nwb\n",
      "INFO:root:Loaded Sampling of go_gloexp condition in /mnt/data/sub-1170220951_ses-1186358749.nwb\n",
      "INFO:root:Calculated frequency power spectrum of go_gloexp condition in /mnt/data/sub-1170220951_ses-1186358749.nwb\n",
      "INFO:root:Loaded Sampling of lo_gloexp condition in /mnt/data/sub-1170220951_ses-1186358749.nwb\n",
      "INFO:root:Calculated frequency power spectrum of lo_gloexp condition in /mnt/data/sub-1170220951_ses-1186358749.nwb\n",
      "INFO:root:Loaded Sampling of go_seqctl condition in /mnt/data/sub-1170220951_ses-1186358749.nwb\n",
      "INFO:root:Calculated frequency power spectrum of go_seqctl condition in /mnt/data/sub-1170220951_ses-1186358749.nwb\n",
      "INFO:root:Loaded Sampling of seqctl condition in /mnt/data/sub-1170220951_ses-1186358749.nwb\n",
      "INFO:root:Calculated frequency power spectrum of seqctl condition in /mnt/data/sub-1170220951_ses-1186358749.nwb\n",
      "INFO:root:Calculated frequency power spectra of /mnt/data/sub-1170220951_ses-1186358749.nwb\n",
      "INFO:root:Loaded Sampling of go_gloexp condition in /mnt/data/sub-1186895119_ses-1204677304.nwb\n",
      "INFO:root:Calculated frequency power spectrum of go_gloexp condition in /mnt/data/sub-1186895119_ses-1204677304.nwb\n",
      "INFO:root:Loaded Sampling of lo_gloexp condition in /mnt/data/sub-1186895119_ses-1204677304.nwb\n",
      "INFO:root:Calculated frequency power spectrum of lo_gloexp condition in /mnt/data/sub-1186895119_ses-1204677304.nwb\n",
      "INFO:root:Loaded Sampling of go_seqctl condition in /mnt/data/sub-1186895119_ses-1204677304.nwb\n",
      "INFO:root:Calculated frequency power spectrum of go_seqctl condition in /mnt/data/sub-1186895119_ses-1204677304.nwb\n",
      "INFO:root:Loaded Sampling of seqctl condition in /mnt/data/sub-1186895119_ses-1204677304.nwb\n",
      "INFO:root:Calculated frequency power spectrum of seqctl condition in /mnt/data/sub-1186895119_ses-1204677304.nwb\n",
      "INFO:root:Calculated frequency power spectra of /mnt/data/sub-1186895119_ses-1204677304.nwb\n",
      "INFO:root:Loaded Sampling of go_gloexp condition in /mnt/data/sub-1197684876_ses-1213341633.nwb\n",
      "INFO:root:Calculated frequency power spectrum of go_gloexp condition in /mnt/data/sub-1197684876_ses-1213341633.nwb\n",
      "INFO:root:Loaded Sampling of lo_gloexp condition in /mnt/data/sub-1197684876_ses-1213341633.nwb\n",
      "INFO:root:Calculated frequency power spectrum of lo_gloexp condition in /mnt/data/sub-1197684876_ses-1213341633.nwb\n",
      "INFO:root:Loaded Sampling of go_seqctl condition in /mnt/data/sub-1197684876_ses-1213341633.nwb\n",
      "INFO:root:Calculated frequency power spectrum of go_seqctl condition in /mnt/data/sub-1197684876_ses-1213341633.nwb\n",
      "INFO:root:Loaded Sampling of seqctl condition in /mnt/data/sub-1197684876_ses-1213341633.nwb\n",
      "INFO:root:Calculated frequency power spectrum of seqctl condition in /mnt/data/sub-1197684876_ses-1213341633.nwb\n",
      "INFO:root:Calculated frequency power spectra of /mnt/data/sub-1197684876_ses-1213341633.nwb\n",
      "INFO:root:Loaded Sampling of go_gloexp condition in /mnt/data/sub-1186895128_ses-1203581890.nwb\n",
      "INFO:root:Calculated frequency power spectrum of go_gloexp condition in /mnt/data/sub-1186895128_ses-1203581890.nwb\n",
      "INFO:root:Loaded Sampling of lo_gloexp condition in /mnt/data/sub-1186895128_ses-1203581890.nwb\n",
      "INFO:root:Calculated frequency power spectrum of lo_gloexp condition in /mnt/data/sub-1186895128_ses-1203581890.nwb\n",
      "INFO:root:Loaded Sampling of go_seqctl condition in /mnt/data/sub-1186895128_ses-1203581890.nwb\n",
      "INFO:root:Calculated frequency power spectrum of go_seqctl condition in /mnt/data/sub-1186895128_ses-1203581890.nwb\n",
      "INFO:root:Loaded Sampling of seqctl condition in /mnt/data/sub-1186895128_ses-1203581890.nwb\n",
      "INFO:root:Calculated frequency power spectrum of seqctl condition in /mnt/data/sub-1186895128_ses-1203581890.nwb\n",
      "INFO:root:Calculated frequency power spectra of /mnt/data/sub-1186895128_ses-1203581890.nwb\n",
      "INFO:root:Loaded Sampling of go_gloexp condition in /mnt/data/sub-1202441642_ses-1217213788.nwb\n",
      "INFO:root:Calculated frequency power spectrum of go_gloexp condition in /mnt/data/sub-1202441642_ses-1217213788.nwb\n",
      "INFO:root:Loaded Sampling of lo_gloexp condition in /mnt/data/sub-1202441642_ses-1217213788.nwb\n",
      "INFO:root:Calculated frequency power spectrum of lo_gloexp condition in /mnt/data/sub-1202441642_ses-1217213788.nwb\n",
      "INFO:root:Loaded Sampling of go_seqctl condition in /mnt/data/sub-1202441642_ses-1217213788.nwb\n",
      "INFO:root:Calculated frequency power spectrum of go_seqctl condition in /mnt/data/sub-1202441642_ses-1217213788.nwb\n",
      "INFO:root:Loaded Sampling of seqctl condition in /mnt/data/sub-1202441642_ses-1217213788.nwb\n",
      "INFO:root:Calculated frequency power spectrum of seqctl condition in /mnt/data/sub-1202441642_ses-1217213788.nwb\n",
      "INFO:root:Calculated frequency power spectra of /mnt/data/sub-1202441642_ses-1217213788.nwb\n"
     ]
    }
   ],
   "source": [
    "for f, nwb_file in enumerate(NWB_FILES):\n",
    "    pickle_base = os.path.splitext(nwb_file)[0]\n",
    "    if len(glob.glob(pickle_base + \"_*.pickle\")) == 0:\n",
    "        continue\n",
    "    else:\n",
    "        GOOD_NWB_FILES.append(nwb_file)\n",
    "    for cond in CONDITIONS:\n",
    "        with open(pickle_base + \"_\" + cond + \".pickle\", mode=\"rb\") as f:\n",
    "            sampling = pickle.load(f)\n",
    "            logging.info(\"Loaded Sampling of %s condition in %s\" % (cond, nwb_file))\n",
    "        spectra = {k: v.power_spectrum(False, True, np.hanning).trial_mean() for k, v in sampling.signals.items()}\n",
    "        with open(pickle_base + \"_\" + cond + \"_spectrum.pickle\", mode=\"wb\") as f:\n",
    "            pickle.dump(spectra, f)\n",
    "        logging.info(\"Calculated frequency power spectrum of %s condition in %s\" % (cond, nwb_file))\n",
    "        del spectra\n",
    "        del sampling\n",
    "    logging.info(\"Calculated frequency power spectra of %s\" % nwb_file)"
   ]
  },
  {
   "cell_type": "code",
   "execution_count": null,
   "id": "bfd339f8-7e05-4034-b1ff-bea3f7096b16",
   "metadata": {},
   "outputs": [],
   "source": []
  }
 ],
 "metadata": {
  "kernelspec": {
   "display_name": "Python [conda env:ephys] *",
   "language": "python",
   "name": "conda-env-ephys-py"
  },
  "language_info": {
   "codemirror_mode": {
    "name": "ipython",
    "version": 3
   },
   "file_extension": ".py",
   "mimetype": "text/x-python",
   "name": "python",
   "nbconvert_exporter": "python",
   "pygments_lexer": "ipython3",
   "version": "3.11.7"
  }
 },
 "nbformat": 4,
 "nbformat_minor": 5
}
