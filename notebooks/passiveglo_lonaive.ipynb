{
 "cells": [
  {
   "cell_type": "code",
   "execution_count": 1,
   "id": "5812341f-236a-4123-9534-10039af0c6b2",
   "metadata": {},
   "outputs": [
    {
     "name": "stdout",
     "output_type": "stream",
     "text": [
      "/home/eli/AnacondaProjects/epych\n"
     ]
    }
   ],
   "source": [
    "%cd .."
   ]
  },
  {
   "cell_type": "code",
   "execution_count": 2,
   "id": "7c0d292c-71c8-41e3-b99c-98584e58af63",
   "metadata": {},
   "outputs": [],
   "source": [
    "%load_ext autoreload\n",
    "%autoreload 2"
   ]
  },
  {
   "cell_type": "code",
   "execution_count": 3,
   "id": "f7f4f5fd-ddd6-4c0f-88d5-97183be7830c",
   "metadata": {},
   "outputs": [],
   "source": [
    "import collections\n",
    "import glob\n",
    "import functools\n",
    "import logging\n",
    "import math\n",
    "import matplotlib.pyplot as plt\n",
    "import numpy as np\n",
    "import os\n",
    "import pickle\n",
    "import quantities as pq\n",
    "\n",
    "import epych\n",
    "from epych.statistics import alignment"
   ]
  },
  {
   "cell_type": "code",
   "execution_count": 4,
   "id": "8171fd84-1f1f-4d9f-9ea5-52c316d6d3b7",
   "metadata": {},
   "outputs": [],
   "source": [
    "%matplotlib inline"
   ]
  },
  {
   "cell_type": "code",
   "execution_count": 5,
   "id": "782054aa-6243-4e1e-abf7-5220d12f8220",
   "metadata": {},
   "outputs": [],
   "source": [
    "logging.basicConfig(level=logging.INFO)"
   ]
  },
  {
   "cell_type": "code",
   "execution_count": 7,
   "id": "a815c8d1-aa85-4c8c-9ca1-8f9ce08c5901",
   "metadata": {},
   "outputs": [],
   "source": [
    "NWB_SUBJECTS = glob.glob('/mnt/data/000253/sub-*/')"
   ]
  },
  {
   "cell_type": "code",
   "execution_count": 9,
   "id": "e222ebb7-a15c-419a-ba08-286083d00bde",
   "metadata": {},
   "outputs": [],
   "source": [
    "for s, subject_dir in enumerate(sorted(NWB_SUBJECTS)):\n",
    "    if not os.path.exists(subject_dir + '/lo_gloexp'):\n",
    "        continue\n",
    "    lo_gloexp = epych.recording.Sampling.unpickle(subject_dir + '/lo_gloexp')\n",
    "    lo_naive = lo_gloexp.select_trials(lo_gloexp.trials.index < 50)\n",
    "    lo_naive.pickle(subject_dir + '/lonaive')\n",
    "    del lo_gloexp\n",
    "    del lo_naive"
   ]
  },
  {
   "cell_type": "code",
   "execution_count": null,
   "id": "f2fa7364-ecae-4b94-bf50-a808854c5b85",
   "metadata": {},
   "outputs": [],
   "source": []
  }
 ],
 "metadata": {
  "kernelspec": {
   "display_name": "Python [conda env:ephys] *",
   "language": "python",
   "name": "conda-env-ephys-py"
  },
  "language_info": {
   "codemirror_mode": {
    "name": "ipython",
    "version": 3
   },
   "file_extension": ".py",
   "mimetype": "text/x-python",
   "name": "python",
   "nbconvert_exporter": "python",
   "pygments_lexer": "ipython3",
   "version": "3.11.9"
  }
 },
 "nbformat": 4,
 "nbformat_minor": 5
}
