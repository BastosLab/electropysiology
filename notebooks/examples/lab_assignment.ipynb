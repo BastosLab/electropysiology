{
 "cells": [
  {
   "cell_type": "code",
   "execution_count": 1,
   "id": "a3f12992-2750-4fcf-8334-0f9c42516b1e",
   "metadata": {},
   "outputs": [
    {
     "name": "stdout",
     "output_type": "stream",
     "text": [
      "/Users/eli/AnacondaProjects/electropysiology\n"
     ]
    }
   ],
   "source": [
    "%cd ../.."
   ]
  },
  {
   "cell_type": "code",
   "execution_count": 2,
   "id": "17f176a2-9e33-4ca3-9f6f-8b0ff4edabbd",
   "metadata": {},
   "outputs": [],
   "source": [
    "import electropysiology as epys\n",
    "import scipy.io as sio"
   ]
  },
  {
   "cell_type": "code",
   "execution_count": 3,
   "id": "7ead8a7b-496f-454a-9964-2d5cd58c4bf6",
   "metadata": {
    "editable": true,
    "slideshow": {
     "slide_type": ""
    },
    "tags": []
   },
   "outputs": [
    {
     "name": "stderr",
     "output_type": "stream",
     "text": [
      "/Users/eli/miniforge3/envs/ephys/lib/python3.11/site-packages/scipy/io/matlab/_mio.py:227: MatReadWarning: Duplicate variable name \"None\" in stream - replacing previous with new\n",
      "Consider mio5.varmats_from_mat to split file into single variable files\n",
      "  matfile_dict = MR.get_variables(variable_names)\n"
     ]
    }
   ],
   "source": [
    "data = sio.loadmat('data.mat', simplify_cells=True, struct_as_record=False)"
   ]
  },
  {
   "cell_type": "code",
   "execution_count": 8,
   "id": "f5971e4f-838b-41a6-9014-6bc33acd1852",
   "metadata": {
    "editable": true,
    "slideshow": {
     "slide_type": ""
    },
    "tags": []
   },
   "outputs": [],
   "source": [
    "dt = data['lfpSchema']['smpInterval'][0]"
   ]
  },
  {
   "cell_type": "code",
   "execution_count": 12,
   "id": "13afb317-027f-442e-915a-7283de8a5f00",
   "metadata": {
    "editable": true,
    "slideshow": {
     "slide_type": ""
    },
    "tags": []
   },
   "outputs": [],
   "source": [
    "times = data['lfpSchema']['index'][0]"
   ]
  },
  {
   "cell_type": "code",
   "execution_count": null,
   "id": "923a093e-c807-4c45-91f0-21f4d5ba4649",
   "metadata": {
    "editable": true,
    "slideshow": {
     "slide_type": ""
    },
    "tags": []
   },
   "outputs": [],
   "source": []
  }
 ],
 "metadata": {
  "kernelspec": {
   "display_name": "Python [conda env:ephys] *",
   "language": "python",
   "name": "conda-env-ephys-py"
  },
  "language_info": {
   "codemirror_mode": {
    "name": "ipython",
    "version": 3
   },
   "file_extension": ".py",
   "mimetype": "text/x-python",
   "name": "python",
   "nbconvert_exporter": "python",
   "pygments_lexer": "ipython3",
   "version": "3.11.6"
  }
 },
 "nbformat": 4,
 "nbformat_minor": 5
}
