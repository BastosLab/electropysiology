{
 "cells": [
  {
   "cell_type": "code",
   "execution_count": 1,
   "id": "8d64ff37-0c6f-45c3-8002-eca757bdc33a",
   "metadata": {},
   "outputs": [
    {
     "name": "stdout",
     "output_type": "stream",
     "text": [
      "/home/eli/AnacondaProjects/epych\n"
     ]
    }
   ],
   "source": [
    "%cd .."
   ]
  },
  {
   "cell_type": "code",
   "execution_count": 2,
   "id": "5d084a58-aaf7-42ce-8a8f-c57167b37658",
   "metadata": {},
   "outputs": [],
   "source": [
    "%load_ext autoreload\n",
    "%autoreload 2"
   ]
  },
  {
   "cell_type": "code",
   "execution_count": 3,
   "id": "58a51e18-e847-479b-b3a6-f785f02ea137",
   "metadata": {},
   "outputs": [],
   "source": [
    "import glob\n",
    "import logging\n",
    "import math\n",
    "import matplotlib.pyplot as plt\n",
    "import numpy as np\n",
    "import os\n",
    "import pickle\n",
    "import quantities as pq\n",
    "\n",
    "import epych"
   ]
  },
  {
   "cell_type": "code",
   "execution_count": 4,
   "id": "98c35185-db98-4e9b-a72b-efff6723c1e7",
   "metadata": {},
   "outputs": [],
   "source": [
    "%matplotlib inline"
   ]
  },
  {
   "cell_type": "code",
   "execution_count": 5,
   "id": "f0fc9442-7bc4-44a9-ba16-145472382f52",
   "metadata": {},
   "outputs": [],
   "source": [
    "logging.basicConfig(level=logging.INFO)"
   ]
  },
  {
   "cell_type": "code",
   "execution_count": 6,
   "id": "8a8fe153-26d2-45a1-bae9-46ed1912d585",
   "metadata": {},
   "outputs": [],
   "source": [
    "CONDITIONS = [\"go_gloexp\", \"go_seqctl\", \"lo_gloexp\"]\n",
    "PRETRIAL_SECONDS = 0.5\n",
    "POSTTRIAL_SECONDS = 0.5"
   ]
  },
  {
   "cell_type": "code",
   "execution_count": 7,
   "id": "38a7731f-ab30-47d6-b03f-92f974b68605",
   "metadata": {},
   "outputs": [],
   "source": [
    "def hippocampal_channels(channels):\n",
    "    for l in channels.location.values:\n",
    "        l = l.decode()\n",
    "        yield (\"DG-\" in l or \"CA\" in l)\n",
    "\n",
    "def visual_channels(channels):\n",
    "    for l in channels.location.values:\n",
    "        l = l.decode()\n",
    "        yield (\"VIS\" in l)\n",
    "\n",
    "def subcortical_channels(channels):\n",
    "    for l in channels.location.values:\n",
    "        l = l.decode()\n",
    "        yield (\"DG-\" in l or \"CA\" in l or \"MB\" in l or \"SCi\" in l or \"POST\" in l)"
   ]
  },
  {
   "cell_type": "code",
   "execution_count": 8,
   "id": "0b0b3d9c-2703-44b0-8a67-7e23b2bfa12f",
   "metadata": {},
   "outputs": [],
   "source": [
    "NWB_FILES = glob.glob('/mnt/data/*.nwb')"
   ]
  },
  {
   "cell_type": "code",
   "execution_count": 9,
   "id": "7aee750b-52f3-4e44-bae3-d33abb0d1111",
   "metadata": {},
   "outputs": [],
   "source": [
    "PILOT_FILES = []"
   ]
  },
  {
   "cell_type": "code",
   "execution_count": 10,
   "id": "ae302af3-35c8-4a8a-afc6-0c3a28eba93d",
   "metadata": {},
   "outputs": [],
   "source": [
    "def samplings():\n",
    "    cond = CONDITIONS[0]\n",
    "    for f, nwb_file in enumerate(NWB_FILES):\n",
    "        basename = os.path.splitext(nwb_file)[0]\n",
    "        if not os.path.exists(basename + \"_\" + cond):\n",
    "            continue\n",
    "        sampling = epych.recording.Sampling.unpickle(basename + \"_\" + cond).smap(lambda sig: sig.median_filter().select_channels([\"VIS\" in loc.decode() for loc in sig.channels.location]))\n",
    "        yield sampling\n",
    "        del sampling\n",
    "        logging.info(\"Loaded LFPs for %s in subject %s\" % (cond, nwb_file))"
   ]
  },
  {
   "cell_type": "code",
   "execution_count": 11,
   "id": "a69f5a1c-59f6-4be5-8a38-285cb605016d",
   "metadata": {},
   "outputs": [],
   "source": [
    "alignment = epych.statistics.alignment.AlignmentSummary()"
   ]
  },
  {
   "cell_type": "code",
   "execution_count": 12,
   "id": "33f5c5e5-9ab0-4d18-b915-400e65c910ac",
   "metadata": {},
   "outputs": [
    {
     "name": "stderr",
     "output_type": "stream",
     "text": [
      "INFO:root:Loaded LFPs for go_gloexp in subject /mnt/data/sub-1169714193_ses-1180116198.nwb\n",
      "INFO:root:Loaded LFPs for go_gloexp in subject /mnt/data/sub-1196154905_ses-1211241460.nwb\n",
      "INFO:root:Loaded LFPs for go_gloexp in subject /mnt/data/sub-1196664789_ses-1212569512.nwb\n",
      "INFO:root:Loaded LFPs for go_gloexp in subject /mnt/data/sub-1196167186_ses-1210866107.nwb\n",
      "INFO:root:Loaded LFPs for go_gloexp in subject /mnt/data/sub-1170220951_ses-1186358749.nwb\n",
      "INFO:root:Loaded LFPs for go_gloexp in subject /mnt/data/sub-1186895119_ses-1204677304.nwb\n",
      "INFO:root:Loaded LFPs for go_gloexp in subject /mnt/data/sub-1197684876_ses-1213341633.nwb\n",
      "INFO:root:Loaded LFPs for go_gloexp in subject /mnt/data/sub-1186895128_ses-1203581890.nwb\n",
      "INFO:root:Loaded LFPs for go_gloexp in subject /mnt/data/sub-1202441642_ses-1217213788.nwb\n"
     ]
    },
    {
     "data": {
      "text/plain": [
       "{'probeA/VISam': <epych.statistics.alignment.LaminarAlignment at 0x73fa88c79610>,\n",
       " 'probeB/VISpm': <epych.statistics.alignment.LaminarAlignment at 0x73fc58600950>,\n",
       " 'probeC/VISp': <epych.statistics.alignment.LaminarAlignment at 0x73fa825f2490>,\n",
       " 'probeD/VISl': <epych.statistics.alignment.LaminarAlignment at 0x73fa88370e50>,\n",
       " 'probeE/VISl': <epych.statistics.alignment.LaminarAlignment at 0x73fa829f0110>,\n",
       " 'probeF/VISrl': <epych.statistics.alignment.LaminarAlignment at 0x73fa88367950>,\n",
       " 'probeE/VISal': <epych.statistics.alignment.LaminarAlignment at 0x73fa89612510>,\n",
       " 'probeD/VIS': <epych.statistics.alignment.LaminarAlignment at 0x73fa88691790>,\n",
       " 'probeE/VISrl': <epych.statistics.alignment.LaminarAlignment at 0x73fa9bffe290>}"
      ]
     },
     "execution_count": 12,
     "metadata": {},
     "output_type": "execute_result"
    }
   ],
   "source": [
    "alignment.calculate(samplings())"
   ]
  },
  {
   "cell_type": "code",
   "execution_count": 13,
   "id": "f8c60621-8f90-4242-9cfb-88e4fc8638ea",
   "metadata": {},
   "outputs": [],
   "source": [
    "alignment.pickle(\"/mnt/data/mice_passiveglo_alignment\")"
   ]
  },
  {
   "cell_type": "code",
   "execution_count": null,
   "id": "5c77b379-b50f-4f69-b316-c3d6d6c24eff",
   "metadata": {},
   "outputs": [],
   "source": []
  }
 ],
 "metadata": {
  "kernelspec": {
   "display_name": "Python [conda env:ephys] *",
   "language": "python",
   "name": "conda-env-ephys-py"
  },
  "language_info": {
   "codemirror_mode": {
    "name": "ipython",
    "version": 3
   },
   "file_extension": ".py",
   "mimetype": "text/x-python",
   "name": "python",
   "nbconvert_exporter": "python",
   "pygments_lexer": "ipython3",
   "version": "3.11.8"
  }
 },
 "nbformat": 4,
 "nbformat_minor": 5
}
