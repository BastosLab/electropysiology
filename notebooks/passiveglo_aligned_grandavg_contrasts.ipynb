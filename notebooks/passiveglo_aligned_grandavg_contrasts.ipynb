{
 "cells": [
  {
   "cell_type": "code",
   "execution_count": null,
   "id": "8d64ff37-0c6f-45c3-8002-eca757bdc33a",
   "metadata": {},
   "outputs": [],
   "source": [
    "%cd .."
   ]
  },
  {
   "cell_type": "code",
   "execution_count": null,
   "id": "5d084a58-aaf7-42ce-8a8f-c57167b37658",
   "metadata": {},
   "outputs": [],
   "source": [
    "%load_ext autoreload\n",
    "%autoreload 2"
   ]
  },
  {
   "cell_type": "code",
   "execution_count": null,
   "id": "58a51e18-e847-479b-b3a6-f785f02ea137",
   "metadata": {},
   "outputs": [],
   "source": [
    "import collections\n",
    "import glob\n",
    "import functools\n",
    "import logging\n",
    "import math\n",
    "import matplotlib.pyplot as plt\n",
    "import numpy as np\n",
    "import os\n",
    "import pickle\n",
    "import quantities as pq\n",
    "\n",
    "import epych\n",
    "from epych.statistics import alignment"
   ]
  },
  {
   "cell_type": "code",
   "execution_count": null,
   "id": "98c35185-db98-4e9b-a72b-efff6723c1e7",
   "metadata": {},
   "outputs": [],
   "source": [
    "%matplotlib inline"
   ]
  },
  {
   "cell_type": "code",
   "execution_count": null,
   "id": "f0fc9442-7bc4-44a9-ba16-145472382f52",
   "metadata": {},
   "outputs": [],
   "source": [
    "logging.basicConfig(level=logging.INFO)"
   ]
  },
  {
   "cell_type": "code",
   "execution_count": null,
   "id": "8a8fe153-26d2-45a1-bae9-46ed1912d585",
   "metadata": {},
   "outputs": [],
   "source": [
    "CONDITIONS = [\"go_gloexp\", \"go_seqctl\", \"lo_gloexp\", \"lonaive\", \"lo_rndctl\", \"igo_seqctl\"]\n",
    "PRETRIAL_SECONDS = 0.5\n",
    "POSTTRIAL_SECONDS = 0.5"
   ]
  },
  {
   "cell_type": "code",
   "execution_count": null,
   "id": "ec0fdd9c-98bc-401b-a144-af73261cf7a5",
   "metadata": {},
   "outputs": [],
   "source": [
    "ADAPTED_ONSET = pq.Quantity(-1.0) * pq.second\n",
    "ADAPTED_OFFSET = pq.Quantity(-0.5) * pq.second\n",
    "ODDBALL_ONSET = pq.Quantity(-1.9017372477960602e-14) * pq.second\n",
    "ODDBALL_OFFSET = pq.Quantity(0.5004545430388676) * pq.second"
   ]
  },
  {
   "cell_type": "code",
   "execution_count": null,
   "id": "bb66dcbf-970c-4547-982a-8b37b1fa7af5",
   "metadata": {},
   "outputs": [],
   "source": [
    "avgs = {cond: {} for cond in CONDITIONS}"
   ]
  },
  {
   "cell_type": "code",
   "execution_count": null,
   "id": "398d4b22-9632-4602-97dd-ec602674d478",
   "metadata": {},
   "outputs": [],
   "source": [
    "area_titles = {\n",
    "    \"VISal\": \"AL\",\n",
    "    \"VISam\": \"AM\",\n",
    "    \"VISl\": \"LM\",\n",
    "    \"VISp\": \"V1\",\n",
    "    \"VISpm\": \"PM\",\n",
    "    \"VISrl\": \"RL\",\n",
    "}\n",
    "def sigtitle(name, signal):\n",
    "    if name in area_titles:\n",
    "        return area_titles[name]\n",
    "    return name"
   ]
  },
  {
   "cell_type": "code",
   "execution_count": null,
   "id": "bb925dab-0a9b-4a7d-8a8b-b2e38359ec60",
   "metadata": {},
   "outputs": [],
   "source": [
    "for cond in CONDITIONS:\n",
    "    avgs[cond] = epych.recording.EvokedSampling.unpickle(\"/mnt/data/000253/grandavg_%s\" % cond)\n",
    "    for sig in avgs[cond].signals.values():\n",
    "        sig._data = (sig.data * pq.units.volt).rescale('mV')\n",
    "        sig._timestamps = sig._timestamps * pq.second\n",
    "        sig._dt = sig._dt * pq.second\n",
    "    logging.info(\"Loaded grand-averaged LFPs for %s\" % cond)"
   ]
  },
  {
   "cell_type": "code",
   "execution_count": null,
   "id": "2261e2de-f549-4746-9a3e-7ed32fa8186a",
   "metadata": {},
   "outputs": [],
   "source": [
    "csds = {cond: {} for cond in CONDITIONS}"
   ]
  },
  {
   "cell_type": "code",
   "execution_count": null,
   "id": "3e7e4288-9d83-4484-bc38-d79c75e4a352",
   "metadata": {},
   "outputs": [],
   "source": [
    "for cond in CONDITIONS:\n",
    "    csds[cond] = avgs[cond].smap(lambda sig: sig.downsample(4).current_source_density(depth_column=\"vertical\"))\n",
    "    for sig in csds[cond].signals.values():\n",
    "        sig._data = sig.data.rescale('nA / mm**2')"
   ]
  },
  {
   "cell_type": "code",
   "execution_count": null,
   "id": "28408df6-5625-4a90-8e3d-5d7f9912851e",
   "metadata": {},
   "outputs": [],
   "source": [
    "events = {\n",
    "    \"Adapted Stimulus Onset\": (ADAPTED_ONSET.magnitude, \"lightgreen\"),\n",
    "    \"Adapted Stimulus Offset\": (ADAPTED_OFFSET.magnitude, \"red\"),\n",
    "    \"Oddball Onset\": (ODDBALL_ONSET.magnitude, 'lightgreen'),\n",
    "    \"Oddball Offset\": (ODDBALL_OFFSET.magnitude, 'red'),\n",
    "}"
   ]
  },
  {
   "cell_type": "code",
   "execution_count": null,
   "id": "1ffdb3c4-3e8a-416a-8838-2886138407cb",
   "metadata": {},
   "outputs": [],
   "source": [
    "for cond in CONDITIONS:\n",
    "    avgs[cond].plot(vmin=-1e-1, vmax=1e-1, figure=\"mice_passiveglo_visual_%s_lfp.pdf\" % cond, sigtitle=sigtitle, **events)\n",
    "    csds[cond].plot(figure=\"mice_passiveglo_visual_%s_csd.pdf\" % cond, cmap='jet_r', sigtitle=sigtitle, **events)\n",
    "    logging.info(\"Plotted grand-averaged LFPs for condition %s\" % cond)"
   ]
  },
  {
   "cell_type": "code",
   "execution_count": null,
   "id": "b2d9ca2e-0270-434a-afe0-46ce4649acf5",
   "metadata": {},
   "outputs": [],
   "source": [
    "subtraction_lfps, subtraction_csds = {}, {}"
   ]
  },
  {
   "cell_type": "code",
   "execution_count": null,
   "id": "666f92b8-addb-48a4-a7ba-2e09e4472948",
   "metadata": {},
   "outputs": [],
   "source": [
    "subtraction_events = {\n",
    "    \"Onset\": (ODDBALL_ONSET.magnitude, 'lightgreen'),\n",
    "    \"Offset\": (ODDBALL_OFFSET.magnitude, 'red'),\n",
    "}"
   ]
  },
  {
   "cell_type": "code",
   "execution_count": null,
   "id": "9a7389fe-d75e-40c2-a72f-bac68637c9a0",
   "metadata": {},
   "outputs": [],
   "source": [
    "OFFSET = pq.Quantity(0.25) * pq.second\n",
    "\n",
    "def subtract_signals(sig):\n",
    "    subtraction = sig[(ODDBALL_ONSET - OFFSET).magnitude:(ODDBALL_OFFSET + OFFSET).magnitude] - sig[(ADAPTED_ONSET - OFFSET).magnitude:(ADAPTED_OFFSET + OFFSET).magnitude]\n",
    "    return subtraction.shift_timestamps(-OFFSET)"
   ]
  },
  {
   "cell_type": "code",
   "execution_count": null,
   "id": "78c72fcb-565a-40e6-bcd9-a297bd1149b0",
   "metadata": {},
   "outputs": [],
   "source": [
    "for cond in CONDITIONS:\n",
    "    subtraction_lfps[cond] = avgs[cond].smap(subtract_signals)\n",
    "    subtraction_lfps[cond].plot(vmin=-1e-1, vmax=1e-1, figure=\"mice_passiveglo_visual_4minus3_%s_lfp.pdf\" % cond, sigtitle=sigtitle, **subtraction_events)\n",
    "\n",
    "    subtraction_csds[cond] = csds[cond].smap(subtract_signals)\n",
    "    subtraction_csds[cond].plot(figure=\"mice_passiveglo_visual_4minus3_%s_csd.pdf\" % cond, cmap='PiYG', sigtitle=sigtitle, **subtraction_events)\n",
    "    logging.info(\"Plotted grand-averaged single subtractions for condition %s\" % cond)"
   ]
  },
  {
   "cell_type": "code",
   "execution_count": null,
   "id": "6a0a30ad-d404-47be-bd1f-aca444fc7351",
   "metadata": {},
   "outputs": [],
   "source": [
    "CONTRASTS = [(\"logo\", \"lo_gloexp\", \"go_gloexp\"), (\"go_contrast\", \"go_gloexp\", \"go_seqctl\"), (\"lo_contrast\", \"lo_gloexp\", \"lo_rndctl\"), (\"ssa\", \"lo_gloexp\", \"igo_seqctl\"), (\"dd\", \"lo_rndctl\", \"lonaive\")]"
   ]
  },
  {
   "cell_type": "code",
   "execution_count": null,
   "id": "3f4fa622-ce9d-4c2f-a75b-84a2116c870b",
   "metadata": {},
   "outputs": [],
   "source": [
    "for (name, l, r) in CONTRASTS:\n",
    "    lfp = avgs[l] - avgs[r]\n",
    "    lfp.plot(vmin=-1e-1, vmax=1e-1, figure=\"mice_passiveglo_visual_%s_lfp.pdf\" % name, sigtitle=sigtitle, **events)\n",
    "    csd = csds[l] - csds[r]\n",
    "    csd.plot_signals(name, cmap='PiYG', sigtitle=sigtitle, **events)\n",
    "    logging.info(\"Plotted %s contrast\" % name)\n",
    "\n",
    "    lfp = subtraction_lfps[l] - subtraction_lfps[r]\n",
    "    lfp.plot(vmin=-1e-1, vmax=1e-1, figure=\"mice_passiveglo_visual_4minus3_%s_lfp.pdf\" % name, sigtitle=sigtitle, **subtraction_events)\n",
    "    csd = subtraction_csds[l] - subtraction_csds[r]\n",
    "    csd.plot_signals(name + \"_4minus3\", cmap='PiYG', sigtitle=sigtitle, **subtraction_events)\n",
    "    logging.info(\"Plotted contrast of %s single subtractions\" % name)"
   ]
  },
  {
   "cell_type": "code",
   "execution_count": null,
   "id": "399d6522-960f-47f1-911e-a402d0f21cff",
   "metadata": {},
   "outputs": [],
   "source": []
  },
  {
   "cell_type": "code",
   "execution_count": null,
   "id": "1fa2d26a-8290-471c-acee-da161535cf51",
   "metadata": {},
   "outputs": [],
   "source": []
  }
 ],
 "metadata": {
  "kernelspec": {
   "display_name": "Python [conda env:ephys] *",
   "language": "python",
   "name": "conda-env-ephys-py"
  },
  "language_info": {
   "codemirror_mode": {
    "name": "ipython",
    "version": 3
   },
   "file_extension": ".py",
   "mimetype": "text/x-python",
   "name": "python",
   "nbconvert_exporter": "python",
   "pygments_lexer": "ipython3",
   "version": "3.11.9"
  }
 },
 "nbformat": 4,
 "nbformat_minor": 5
}
