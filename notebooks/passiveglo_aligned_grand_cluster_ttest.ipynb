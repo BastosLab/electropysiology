{
 "cells": [
  {
   "cell_type": "code",
   "execution_count": 1,
   "id": "8d64ff37-0c6f-45c3-8002-eca757bdc33a",
   "metadata": {},
   "outputs": [
    {
     "name": "stdout",
     "output_type": "stream",
     "text": [
      "/home/eli/AnacondaProjects/epych\n"
     ]
    }
   ],
   "source": [
    "%cd .."
   ]
  },
  {
   "cell_type": "code",
   "execution_count": 2,
   "id": "5d084a58-aaf7-42ce-8a8f-c57167b37658",
   "metadata": {},
   "outputs": [],
   "source": [
    "%load_ext autoreload\n",
    "%autoreload 2"
   ]
  },
  {
   "cell_type": "code",
   "execution_count": 3,
   "id": "58a51e18-e847-479b-b3a6-f785f02ea137",
   "metadata": {},
   "outputs": [],
   "source": [
    "import collections\n",
    "import glob\n",
    "import functools\n",
    "import logging\n",
    "import math\n",
    "import matplotlib.pyplot as plt\n",
    "import numpy as np\n",
    "import os\n",
    "import pickle\n",
    "import quantities as pq\n",
    "\n",
    "import epych\n",
    "from epych.statistics import alignment, grand"
   ]
  },
  {
   "cell_type": "code",
   "execution_count": 4,
   "id": "98c35185-db98-4e9b-a72b-efff6723c1e7",
   "metadata": {},
   "outputs": [],
   "source": [
    "%matplotlib inline"
   ]
  },
  {
   "cell_type": "code",
   "execution_count": 5,
   "id": "f0fc9442-7bc4-44a9-ba16-145472382f52",
   "metadata": {},
   "outputs": [],
   "source": [
    "logging.basicConfig(level=logging.INFO)"
   ]
  },
  {
   "cell_type": "code",
   "execution_count": 6,
   "id": "8a8fe153-26d2-45a1-bae9-46ed1912d585",
   "metadata": {},
   "outputs": [],
   "source": [
    "CONDITIONS = [\"go_gloexp\", \"go_seqctl\", \"lo_gloexp\", \"lonaive\", \"lo_rndctl\", \"igo_seqctl\"]\n",
    "PRETRIAL_SECONDS = 0.5\n",
    "POSTTRIAL_SECONDS = 0.5"
   ]
  },
  {
   "cell_type": "code",
   "execution_count": 7,
   "id": "0b0b3d9c-2703-44b0-8a67-7e23b2bfa12f",
   "metadata": {},
   "outputs": [],
   "source": [
    "NWB_SUBJECTS = glob.glob('/mnt/data/000253/sub-*/')"
   ]
  },
  {
   "cell_type": "code",
   "execution_count": 8,
   "id": "7aee750b-52f3-4e44-bae3-d33abb0d1111",
   "metadata": {},
   "outputs": [],
   "source": [
    "PILOT_FILES = []"
   ]
  },
  {
   "cell_type": "code",
   "execution_count": 9,
   "id": "566e8204-3c64-4252-b3e5-cee362f600fc",
   "metadata": {},
   "outputs": [],
   "source": [
    "aligner = epych.statistics.alignment.AlignmentSummary.unpickle(\"/mnt/data/000253/visual_alignment\")"
   ]
  },
  {
   "cell_type": "code",
   "execution_count": 10,
   "id": "f02f158a-a349-4888-a191-8d0ba6f0d120",
   "metadata": {},
   "outputs": [],
   "source": [
    "cats = {}"
   ]
  },
  {
   "cell_type": "code",
   "execution_count": 11,
   "id": "7f2bdb68-51a5-4e73-8591-b76d249ae164",
   "metadata": {},
   "outputs": [
    {
     "name": "stderr",
     "output_type": "stream",
     "text": [
      "INFO:root:Loaded cross-subject LFPs for condition go_gloexp\n",
      "INFO:root:Loaded cross-subject LFPs for condition go_seqctl\n",
      "INFO:root:Loaded cross-subject LFPs for condition lo_gloexp\n",
      "INFO:root:Loaded cross-subject LFPs for condition lonaive\n",
      "INFO:root:Loaded cross-subject LFPs for condition lo_rndctl\n",
      "INFO:root:Loaded cross-subject LFPs for condition igo_seqctl\n"
     ]
    }
   ],
   "source": [
    "for cond in CONDITIONS:\n",
    "    cats[cond] = epych.recording.Sampling.unpickle(\"/mnt/data/000253/grandcat_%s\" % cond)\n",
    "    logging.info(\"Loaded cross-subject LFPs for condition %s\" % cond)"
   ]
  },
  {
   "cell_type": "code",
   "execution_count": 12,
   "id": "330c7fbc-7078-455d-9690-8221456567a0",
   "metadata": {},
   "outputs": [],
   "source": [
    "PVALUE = 1e-2"
   ]
  },
  {
   "cell_type": "code",
   "execution_count": 13,
   "id": "86b82e39-8e96-407e-8cd1-730bc6348dbb",
   "metadata": {},
   "outputs": [],
   "source": [
    "CONTRASTS = [(\"logo\", \"lo_gloexp\", \"go_gloexp\"), (\"go_contrast\", \"go_gloexp\", \"go_seqctl\"), (\"lo_contrast\", \"lo_gloexp\", \"lo_rndctl\"), (\"ssa\", \"lo_gloexp\", \"igo_seqctl\"), (\"dd\", \"lo_rndctl\", \"lonaive\")]"
   ]
  },
  {
   "cell_type": "code",
   "execution_count": 14,
   "id": "d86ca4fc-93ea-4894-977b-2241f819b995",
   "metadata": {},
   "outputs": [],
   "source": [
    "def initialize_grand_cluster_test(cond, key, signals):\n",
    "    area = os.path.commonprefix([loc for loc in signals[0].channels.location])\n",
    "    return epych.statistics.grand.GrandNonparametricClusterTest(aligner.stats[area], alpha=PVALUE)"
   ]
  },
  {
   "cell_type": "code",
   "execution_count": 15,
   "id": "a5888644-c0cb-4e2b-97e0-37ae217f2669",
   "metadata": {},
   "outputs": [],
   "source": [
    "summaries = {}"
   ]
  },
  {
   "cell_type": "code",
   "execution_count": 16,
   "id": "66f470a5-cb01-40f8-aac1-4e61b4104522",
   "metadata": {},
   "outputs": [],
   "source": [
    "def location_prefix_signal_key(probe, signals):\n",
    "    return alignment.location_prefix(probe, signals[0])"
   ]
  },
  {
   "cell_type": "code",
   "execution_count": 17,
   "id": "6a11dd2b-00d8-4895-a59e-1ffd543436b5",
   "metadata": {},
   "outputs": [],
   "source": [
    "contrasts = {}"
   ]
  },
  {
   "cell_type": "code",
   "execution_count": 18,
   "id": "22d16b17-23fc-4db7-9a94-4c2bcaa6d2e8",
   "metadata": {},
   "outputs": [
    {
     "ename": "KeyboardInterrupt",
     "evalue": "",
     "output_type": "error",
     "traceback": [
      "\u001b[0;31m---------------------------------------------------------------------------\u001b[0m",
      "\u001b[0;31mKeyboardInterrupt\u001b[0m                         Traceback (most recent call last)",
      "Cell \u001b[0;32mIn[18], line 5\u001b[0m\n\u001b[1;32m      3\u001b[0m contrast_signals \u001b[38;5;241m=\u001b[39m {k: (cats[condl]\u001b[38;5;241m.\u001b[39msignals[k], cats[condr]\u001b[38;5;241m.\u001b[39msignals[k]) \u001b[38;5;28;01mfor\u001b[39;00m k \u001b[38;5;129;01min\u001b[39;00m cats[condl]\u001b[38;5;241m.\u001b[39msignals\u001b[38;5;241m.\u001b[39mkeys()}\n\u001b[1;32m      4\u001b[0m summaries[contrast]\u001b[38;5;241m.\u001b[39mcalculate([contrast_signals])\n\u001b[0;32m----> 5\u001b[0m contrasts[contrast] \u001b[38;5;241m=\u001b[39m \u001b[43m{\u001b[49m\u001b[43mk\u001b[49m\u001b[43m:\u001b[49m\u001b[43m \u001b[49m\u001b[43mv\u001b[49m\u001b[38;5;241;43m.\u001b[39;49m\u001b[43mresult\u001b[49m\u001b[43m(\u001b[49m\u001b[43m)\u001b[49m\u001b[43m \u001b[49m\u001b[38;5;28;43;01mfor\u001b[39;49;00m\u001b[43m \u001b[49m\u001b[43mk\u001b[49m\u001b[43m,\u001b[49m\u001b[43m \u001b[49m\u001b[43mv\u001b[49m\u001b[43m \u001b[49m\u001b[38;5;129;43;01min\u001b[39;49;00m\u001b[43m \u001b[49m\u001b[43msummaries\u001b[49m\u001b[43m[\u001b[49m\u001b[43mcontrast\u001b[49m\u001b[43m]\u001b[49m\u001b[38;5;241;43m.\u001b[39;49m\u001b[43mstats\u001b[49m\u001b[38;5;241;43m.\u001b[39;49m\u001b[43mitems\u001b[49m\u001b[43m(\u001b[49m\u001b[43m)\u001b[49m\u001b[43m}\u001b[49m\n",
      "Cell \u001b[0;32mIn[18], line 5\u001b[0m, in \u001b[0;36m<dictcomp>\u001b[0;34m(.0)\u001b[0m\n\u001b[1;32m      3\u001b[0m contrast_signals \u001b[38;5;241m=\u001b[39m {k: (cats[condl]\u001b[38;5;241m.\u001b[39msignals[k], cats[condr]\u001b[38;5;241m.\u001b[39msignals[k]) \u001b[38;5;28;01mfor\u001b[39;00m k \u001b[38;5;129;01min\u001b[39;00m cats[condl]\u001b[38;5;241m.\u001b[39msignals\u001b[38;5;241m.\u001b[39mkeys()}\n\u001b[1;32m      4\u001b[0m summaries[contrast]\u001b[38;5;241m.\u001b[39mcalculate([contrast_signals])\n\u001b[0;32m----> 5\u001b[0m contrasts[contrast] \u001b[38;5;241m=\u001b[39m {k: \u001b[43mv\u001b[49m\u001b[38;5;241;43m.\u001b[39;49m\u001b[43mresult\u001b[49m\u001b[43m(\u001b[49m\u001b[43m)\u001b[49m \u001b[38;5;28;01mfor\u001b[39;00m k, v \u001b[38;5;129;01min\u001b[39;00m summaries[contrast]\u001b[38;5;241m.\u001b[39mstats\u001b[38;5;241m.\u001b[39mitems()}\n",
      "File \u001b[0;32m~/AnacondaProjects/epych/epych/statistics/grand.py:241\u001b[0m, in \u001b[0;36mGrandNonparametricClusterTest.result\u001b[0;34m(self)\u001b[0m\n\u001b[1;32m    239\u001b[0m l_pseudomean \u001b[38;5;241m=\u001b[39m l_pseudo\u001b[38;5;241m.\u001b[39mmean(axis\u001b[38;5;241m=\u001b[39m\u001b[38;5;241m-\u001b[39m\u001b[38;5;241m1\u001b[39m)\n\u001b[1;32m    240\u001b[0m r_pseudomean \u001b[38;5;241m=\u001b[39m r_pseudo\u001b[38;5;241m.\u001b[39mmean(axis\u001b[38;5;241m=\u001b[39m\u001b[38;5;241m-\u001b[39m\u001b[38;5;241m1\u001b[39m)\n\u001b[0;32m--> 241\u001b[0m l_pseudovar \u001b[38;5;241m=\u001b[39m \u001b[43mnp\u001b[49m\u001b[38;5;241;43m.\u001b[39;49m\u001b[43mvar\u001b[49m\u001b[43m(\u001b[49m\u001b[43ml_pseudo\u001b[49m\u001b[43m,\u001b[49m\u001b[43m \u001b[49m\u001b[43maxis\u001b[49m\u001b[38;5;241;43m=\u001b[39;49m\u001b[38;5;241;43m-\u001b[39;49m\u001b[38;5;241;43m1\u001b[39;49m\u001b[43m,\u001b[49m\u001b[43m \u001b[49m\u001b[43mddof\u001b[49m\u001b[38;5;241;43m=\u001b[39;49m\u001b[38;5;241;43m1\u001b[39;49m\u001b[43m)\u001b[49m\n\u001b[1;32m    242\u001b[0m r_pseudovar \u001b[38;5;241m=\u001b[39m np\u001b[38;5;241m.\u001b[39mvar(r_pseudo, axis\u001b[38;5;241m=\u001b[39m\u001b[38;5;241m-\u001b[39m\u001b[38;5;241m1\u001b[39m, ddof\u001b[38;5;241m=\u001b[39m\u001b[38;5;241m1\u001b[39m)\n\u001b[1;32m    243\u001b[0m ts, pvals \u001b[38;5;241m=\u001b[39m t_stats(\u001b[38;5;28mlen\u001b[39m(ltrials), l_pseudomean, l_pseudovar,\n\u001b[1;32m    244\u001b[0m                     \u001b[38;5;28mlen\u001b[39m(rtrials), r_pseudomean, r_pseudovar)\n",
      "File \u001b[0;32m~/miniforge3/envs/ephys/lib/python3.11/site-packages/numpy/core/fromnumeric.py:3787\u001b[0m, in \u001b[0;36mvar\u001b[0;34m(a, axis, dtype, out, ddof, keepdims, where)\u001b[0m\n\u001b[1;32m   3784\u001b[0m     \u001b[38;5;28;01melse\u001b[39;00m:\n\u001b[1;32m   3785\u001b[0m         \u001b[38;5;28;01mreturn\u001b[39;00m var(axis\u001b[38;5;241m=\u001b[39maxis, dtype\u001b[38;5;241m=\u001b[39mdtype, out\u001b[38;5;241m=\u001b[39mout, ddof\u001b[38;5;241m=\u001b[39mddof, \u001b[38;5;241m*\u001b[39m\u001b[38;5;241m*\u001b[39mkwargs)\n\u001b[0;32m-> 3787\u001b[0m \u001b[38;5;28;01mreturn\u001b[39;00m \u001b[43m_methods\u001b[49m\u001b[38;5;241;43m.\u001b[39;49m\u001b[43m_var\u001b[49m\u001b[43m(\u001b[49m\u001b[43ma\u001b[49m\u001b[43m,\u001b[49m\u001b[43m \u001b[49m\u001b[43maxis\u001b[49m\u001b[38;5;241;43m=\u001b[39;49m\u001b[43maxis\u001b[49m\u001b[43m,\u001b[49m\u001b[43m \u001b[49m\u001b[43mdtype\u001b[49m\u001b[38;5;241;43m=\u001b[39;49m\u001b[43mdtype\u001b[49m\u001b[43m,\u001b[49m\u001b[43m \u001b[49m\u001b[43mout\u001b[49m\u001b[38;5;241;43m=\u001b[39;49m\u001b[43mout\u001b[49m\u001b[43m,\u001b[49m\u001b[43m \u001b[49m\u001b[43mddof\u001b[49m\u001b[38;5;241;43m=\u001b[39;49m\u001b[43mddof\u001b[49m\u001b[43m,\u001b[49m\n\u001b[1;32m   3788\u001b[0m \u001b[43m                     \u001b[49m\u001b[38;5;241;43m*\u001b[39;49m\u001b[38;5;241;43m*\u001b[39;49m\u001b[43mkwargs\u001b[49m\u001b[43m)\u001b[49m\n",
      "File \u001b[0;32m~/miniforge3/envs/ephys/lib/python3.11/site-packages/numpy/core/_methods.py:173\u001b[0m, in \u001b[0;36m_var\u001b[0;34m(a, axis, dtype, out, ddof, keepdims, where)\u001b[0m\n\u001b[1;32m    168\u001b[0m     arrmean \u001b[38;5;241m=\u001b[39m arrmean \u001b[38;5;241m/\u001b[39m rcount\n\u001b[1;32m    170\u001b[0m \u001b[38;5;66;03m# Compute sum of squared deviations from mean\u001b[39;00m\n\u001b[1;32m    171\u001b[0m \u001b[38;5;66;03m# Note that x may not be inexact and that we need it to be an array,\u001b[39;00m\n\u001b[1;32m    172\u001b[0m \u001b[38;5;66;03m# not a scalar.\u001b[39;00m\n\u001b[0;32m--> 173\u001b[0m x \u001b[38;5;241m=\u001b[39m asanyarray(arr \u001b[38;5;241m-\u001b[39m arrmean)\n\u001b[1;32m    175\u001b[0m \u001b[38;5;28;01mif\u001b[39;00m \u001b[38;5;28missubclass\u001b[39m(arr\u001b[38;5;241m.\u001b[39mdtype\u001b[38;5;241m.\u001b[39mtype, (nt\u001b[38;5;241m.\u001b[39mfloating, nt\u001b[38;5;241m.\u001b[39minteger)):\n\u001b[1;32m    176\u001b[0m     x \u001b[38;5;241m=\u001b[39m um\u001b[38;5;241m.\u001b[39mmultiply(x, x, out\u001b[38;5;241m=\u001b[39mx)\n",
      "\u001b[0;31mKeyboardInterrupt\u001b[0m: "
     ]
    }
   ],
   "source": [
    "for (contrast, condl, condr) in CONTRASTS:\n",
    "    summaries[contrast] = epych.statistic.Summary(location_prefix_signal_key, functools.partial(initialize_grand_cluster_test, cond))\n",
    "    contrast_signals = {k: (cats[condl].signals[k], cats[condr].signals[k]) for k in cats[condl].signals.keys()}\n",
    "    summaries[contrast].calculate([contrast_signals])\n",
    "    contrasts[contrast] = {k: v.result() for k, v in summaries[contrast].stats.items()}\n",
    "    logging.info(\"Nonparametrically contrasted for %s\" % contrast)"
   ]
  },
  {
   "cell_type": "code",
   "execution_count": null,
   "id": "74c7cfae-4692-4192-90ae-1a24e378c760",
   "metadata": {},
   "outputs": [],
   "source": [
    "area_titles = {\n",
    "    \"VISal\": \"AL\",\n",
    "    \"VISam\": \"AM\",\n",
    "    \"VISl\": \"LM\",\n",
    "    \"VISp\": \"V1\",\n",
    "    \"VISpm\": \"PM\",\n",
    "    \"VISrl\": \"RL\",\n",
    "}\n",
    "def sigtitle(name, signal):\n",
    "    if name in area_titles:\n",
    "        return area_titles[name]\n",
    "    return name"
   ]
  },
  {
   "cell_type": "code",
   "execution_count": null,
   "id": "28408df6-5625-4a90-8e3d-5d7f9912851e",
   "metadata": {},
   "outputs": [],
   "source": [
    "ADAPTED_ONSET = pq.Quantity(-1.0) * pq.second\n",
    "ADAPTED_OFFSET = pq.Quantity(-0.5) * pq.second\n",
    "ODDBALL_ONSET = pq.Quantity(-1.9017372477960602e-14) * pq.second\n",
    "ODDBALL_OFFSET = pq.Quantity(0.5004545430388676) * pq.second\n",
    "EVENTS = {\n",
    "    \"Onset\": (ODDBALL_ONSET.magnitude, 'lightgreen'),\n",
    "    \"Offset\": (ODDBALL_OFFSET.magnitude, 'red'),\n",
    "}"
   ]
  },
  {
   "cell_type": "code",
   "execution_count": null,
   "id": "e6d24b95-33a5-4e98-a494-8d6c3162f787",
   "metadata": {},
   "outputs": [],
   "source": [
    "def compute_contrast(condl, condr):\n",
    "    contrast = epych.statistics.grand.summary_t_test(summaries[condl], summaries[condr])\n",
    "    lfp_diffs, csd_diffs = {}, {}\n",
    "    for area in sorted(contrast.keys()):\n",
    "        meanl, meanr = summaries[condl].stats[area].mean, summaries[condr].stats[area].mean\n",
    "        diff_data = (meanl.data - meanr.data) * (contrast[area][1] < PVALUE)\n",
    "        lfp_diffs[area] = epych.signals.lfp.EvokedLfp(meanl.channels, diff_data, meanl.dt, meanl.times)\n",
    "\n",
    "        csdl, csdr = meanl.downsample(4).current_source_density(depth_column=\"vertical\"), meanr.downsample(4).current_source_density(depth_column=\"vertical\")\n",
    "        csdl._data, csdr._data = csdl.data.rescale('nA / mm**2'), csdr.data.rescale('nA / mm**2')\n",
    "        diff_data = (csdl.data - csdr.data)* (contrast[area][1][::4, :, :] < PVALUE)\n",
    "        csd_diffs[area] = epych.signals.lfp.EvokedLfp(meanl.channels[::4], diff_data, meanl.dt, meanl.times)\n",
    "\n",
    "    lfps = epych.recording.EvokedSampling(epych.recording.empty_intervals(), epych.recording.empty_trials(), epych.recording.default_units(),\n",
    "                                          **lfp_diffs)\n",
    "    csds = epych.recording.EvokedSampling(epych.recording.empty_intervals(), epych.recording.empty_trials(), epych.recording.default_units(),\n",
    "                                          **csd_diffs)\n",
    "    return contrast, lfps, csds"
   ]
  },
  {
   "cell_type": "code",
   "execution_count": null,
   "id": "2e677d88-e96d-4a16-8093-6a6fa19bf802",
   "metadata": {},
   "outputs": [],
   "source": [
    "def plot_contrast(name, condl, condr):\n",
    "    contrast, lfps, csd = compute_contrast(condl, condr)\n",
    "    lfps.plot(vmin=-1e-1, vmax=1e-1, figure=name + \"_all_lfps.png\", sigtitle=sigtitle, **EVENTS)\n",
    "    csd.plot_signals(name + \"/significant\", cmap='PiYG', sigtitle=sigtitle, **EVENTS)"
   ]
  },
  {
   "cell_type": "code",
   "execution_count": null,
   "id": "cada3f4a-fc71-4308-9de0-302a6935045b",
   "metadata": {},
   "outputs": [],
   "source": [
    "for (contrast, condl, condr) in CONTRASTS:\n",
    "    plot_contrast(contrast, condl, condr)\n",
    "    logging.info(\"Plotted grand t-test contrasts for %s\" % contrast)"
   ]
  },
  {
   "cell_type": "code",
   "execution_count": null,
   "id": "62f84523-9795-46b3-88ba-66b9a991f610",
   "metadata": {},
   "outputs": [],
   "source": [
    "OFFSET = np.array(0.25) * pq.second\n",
    "\n",
    "def subtraction_variance(cond_summary):\n",
    "    result = cond_summary.__class__(cond_summary.signal_key, cond_summary.stat)\n",
    "    for area, grand_var in cond_summary.stats.items():\n",
    "        alignment = grand_var.alignment\n",
    "        mean, variance = grand_var.mean, grand_var.result()\n",
    "        mean_subtraction = mean[(ODDBALL_ONSET - OFFSET).magnitude:(ODDBALL_OFFSET + OFFSET).magnitude] - mean[(ADAPTED_ONSET - OFFSET).magnitude:(ADAPTED_OFFSET + OFFSET).magnitude]\n",
    "        mean_subtraction = mean_subtraction.shift_timestamps(-OFFSET)\n",
    "        variance_addition = variance[(ODDBALL_ONSET - OFFSET).magnitude:(ODDBALL_OFFSET + OFFSET).magnitude] + variance[(ADAPTED_ONSET - OFFSET).magnitude:(ADAPTED_OFFSET + OFFSET).magnitude]\n",
    "        variance_addition = variance_addition.shift_timestamps(-OFFSET)\n",
    "        result._stats[area] = grand.GrandVariance(alignment, mean_subtraction)\n",
    "        result.stats[area].data[\"diffs\"] = variance_addition.data * (grand_var.data[\"n\"] - 1)\n",
    "        result.stats[area].data[\"k\"] = grand_var.data[\"k\"]\n",
    "        result.stats[area].data[\"n\"] = grand_var.data[\"n\"]\n",
    "    return result"
   ]
  },
  {
   "cell_type": "code",
   "execution_count": null,
   "id": "13f35531-0cb5-4328-ae50-b47d4d9b2130",
   "metadata": {},
   "outputs": [],
   "source": [
    "CONTRAST_STDS = {}"
   ]
  },
  {
   "cell_type": "code",
   "execution_count": null,
   "id": "c7f503bd-8bec-4d27-8335-a73dba52cc6d",
   "metadata": {},
   "outputs": [],
   "source": [
    "def compute_subtraction_contrast(name, condl, condr):\n",
    "    summaryl = subtraction_variance(summaries[condl])\n",
    "    summaryr = subtraction_variance(summaries[condr])\n",
    "    contrast = epych.statistics.grand.summary_t_test(summaryl, summaryr)\n",
    "    lfp_diffs, csd_diffs = {}, {}\n",
    "    for area in sorted(contrast.keys()):\n",
    "        meanl, meanr = summaryl.stats[area].mean, summaryr.stats[area].mean\n",
    "        diff_data = (meanl.data - meanr.data) * (contrast[area][1] < PVALUE)\n",
    "        lfp_diffs[area] = epych.signals.lfp.EvokedLfp(meanl.channels, diff_data, meanl.dt, meanl.times)\n",
    "\n",
    "        csdl, csdr = meanl.downsample(4).current_source_density(depth_column=\"vertical\"), meanr.downsample(4).current_source_density(depth_column=\"vertical\")\n",
    "        csdl._data, csdr._data = csdl.data.rescale('nA / mm**2'), csdr.data.rescale('nA / mm**2')\n",
    "        diff_data = (csdl.data - csdr.data) * (contrast[area][1][::4, :, :] < PVALUE)\n",
    "        if name not in CONTRAST_STDS:\n",
    "            CONTRAST_STDS[name] = {}\n",
    "        CONTRAST_STDS[name][area] = diff_data.std()\n",
    "        csd_diffs[area] = epych.signals.lfp.EvokedLfp(meanl.channels[::4], diff_data, meanl.dt, meanl.times)\n",
    "\n",
    "    lfps = epych.recording.EvokedSampling(epych.recording.empty_intervals(), epych.recording.empty_trials(), epych.recording.default_units(),\n",
    "                                          **lfp_diffs)\n",
    "    csds = epych.recording.EvokedSampling(epych.recording.empty_intervals(), epych.recording.empty_trials(), epych.recording.default_units(),\n",
    "                                          **csd_diffs)\n",
    "    return contrast, lfps, csds"
   ]
  },
  {
   "cell_type": "code",
   "execution_count": null,
   "id": "c0a98f95-d784-4557-b331-7757e1100d31",
   "metadata": {},
   "outputs": [],
   "source": [
    "def plot_subtraction_contrast(name, condl, condr):\n",
    "    contrast, lfps, csd = compute_subtraction_contrast(name, condl, condr)\n",
    "    lfps.plot(vmin=-1e-1, vmax=1e-1, figure=name + \"_4minus3_all_lfps.svg\", sigtitle=sigtitle, **EVENTS)\n",
    "    csd.plot_signals(name + \"_4minus3_significant\", vmaxs={area: 2 * std_dev for area, std_dev in CONTRAST_STDS[name].items()}, vmins={area: -2 * std_dev for area, std_dev in CONTRAST_STDS[name].items()},\n",
    "                     sigtitle=sigtitle, cmap='PiYG', **EVENTS)"
   ]
  },
  {
   "cell_type": "code",
   "execution_count": null,
   "id": "f30daeda-f5e2-4f31-a278-ace1b07d1300",
   "metadata": {},
   "outputs": [],
   "source": [
    "for (contrast, condl, condr) in CONTRASTS:\n",
    "    plot_subtraction_contrast(contrast, condl, condr)\n",
    "    logging.info(\"Plotted grand t-test of 4th-minus-3rd contrasts for %s\" % contrast)"
   ]
  },
  {
   "cell_type": "code",
   "execution_count": null,
   "id": "e00ef419-b166-41b6-be12-5fecd8809cdc",
   "metadata": {},
   "outputs": [],
   "source": []
  }
 ],
 "metadata": {
  "kernelspec": {
   "display_name": "Python [conda env:ephys] *",
   "language": "python",
   "name": "conda-env-ephys-py"
  },
  "language_info": {
   "codemirror_mode": {
    "name": "ipython",
    "version": 3
   },
   "file_extension": ".py",
   "mimetype": "text/x-python",
   "name": "python",
   "nbconvert_exporter": "python",
   "pygments_lexer": "ipython3",
   "version": "3.11.9"
  }
 },
 "nbformat": 4,
 "nbformat_minor": 5
}
