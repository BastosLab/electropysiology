{
 "cells": [
  {
   "cell_type": "code",
   "execution_count": null,
   "id": "8d64ff37-0c6f-45c3-8002-eca757bdc33a",
   "metadata": {},
   "outputs": [],
   "source": [
    "%cd .."
   ]
  },
  {
   "cell_type": "code",
   "execution_count": null,
   "id": "5d084a58-aaf7-42ce-8a8f-c57167b37658",
   "metadata": {},
   "outputs": [],
   "source": [
    "%load_ext autoreload\n",
    "%autoreload 2"
   ]
  },
  {
   "cell_type": "code",
   "execution_count": null,
   "id": "58a51e18-e847-479b-b3a6-f785f02ea137",
   "metadata": {},
   "outputs": [],
   "source": [
    "import glob\n",
    "import logging\n",
    "import math\n",
    "import matplotlib.pyplot as plt\n",
    "import numpy as np\n",
    "import os\n",
    "import pickle\n",
    "import quantities as pq\n",
    "\n",
    "import epych"
   ]
  },
  {
   "cell_type": "code",
   "execution_count": null,
   "id": "98c35185-db98-4e9b-a72b-efff6723c1e7",
   "metadata": {},
   "outputs": [],
   "source": [
    "%matplotlib inline"
   ]
  },
  {
   "cell_type": "code",
   "execution_count": null,
   "id": "f0fc9442-7bc4-44a9-ba16-145472382f52",
   "metadata": {},
   "outputs": [],
   "source": [
    "logging.basicConfig(level=logging.INFO)"
   ]
  },
  {
   "cell_type": "code",
   "execution_count": null,
   "id": "8a8fe153-26d2-45a1-bae9-46ed1912d585",
   "metadata": {},
   "outputs": [],
   "source": [
    "CONDITIONS = [\"go_gloexp\", \"go_seqctl\", \"lo_gloexp\"]\n",
    "PRETRIAL_SECONDS = 0.5\n",
    "POSTTRIAL_SECONDS = 0.5"
   ]
  },
  {
   "cell_type": "code",
   "execution_count": null,
   "id": "38a7731f-ab30-47d6-b03f-92f974b68605",
   "metadata": {},
   "outputs": [],
   "source": [
    "def hippocampal_channels(channels):\n",
    "    for l in channels.location.values:\n",
    "        l = l.decode()\n",
    "        yield (\"DG-\" in l or \"CA\" in l)\n",
    "\n",
    "def visual_channels(channels):\n",
    "    for l in channels.location.values:\n",
    "        l = l.decode()\n",
    "        yield (\"VIS\" in l)\n",
    "\n",
    "def subcortical_channels(channels):\n",
    "    for l in channels.location.values:\n",
    "        l = l.decode()\n",
    "        yield (\"DG-\" in l or \"CA\" in l or \"MB\" in l or \"SCi\" in l or \"POST\" in l)"
   ]
  },
  {
   "cell_type": "code",
   "execution_count": null,
   "id": "0b0b3d9c-2703-44b0-8a67-7e23b2bfa12f",
   "metadata": {},
   "outputs": [],
   "source": [
    "NWB_FILES = glob.glob('/mnt/data/*.nwb')"
   ]
  },
  {
   "cell_type": "code",
   "execution_count": null,
   "id": "7aee750b-52f3-4e44-bae3-d33abb0d1111",
   "metadata": {},
   "outputs": [],
   "source": [
    "PILOT_FILES = []"
   ]
  },
  {
   "cell_type": "code",
   "execution_count": null,
   "id": "a7a06078-d15d-49ac-907f-b5d87f90f0d1",
   "metadata": {},
   "outputs": [],
   "source": [
    "evoked = {}"
   ]
  },
  {
   "cell_type": "code",
   "execution_count": null,
   "id": "ae302af3-35c8-4a8a-afc6-0c3a28eba93d",
   "metadata": {},
   "outputs": [],
   "source": [
    "for cond in CONDITIONS:\n",
    "    for f, nwb_file in enumerate(NWB_FILES):\n",
    "        basename = os.path.splitext(nwb_file)[0]\n",
    "        if not os.path.exists(basename + \"_\" + cond):\n",
    "            continue\n",
    "        sampling = epych.recording.Sampling.unpickle(basename + \"_\" + cond).smap(lambda sig: sig.median_filter())\n",
    "        evoked[(cond, nwb_file, True)] = sampling.baseline_correct(0., POSTTRIAL_SECONDS).erp()\n",
    "        del sampling\n",
    "        logging.info(\"Loaded LFPs for %s in subject %s\" % (cond, nwb_file))"
   ]
  },
  {
   "cell_type": "code",
   "execution_count": null,
   "id": "81d37a74-dbf7-414d-82e1-3950f919b8c6",
   "metadata": {
    "scrolled": true
   },
   "outputs": [],
   "source": [
    "for cond in CONDITIONS:\n",
    "    logging.info(\"Plotting baseline-corrected LFPs for %s across subjects\" % cond)\n",
    "    for f, nwb_file in enumerate(NWB_FILES):\n",
    "        basename = os.path.splitext(nwb_file)[0]\n",
    "        if (cond, nwb_file, True) not in evoked:\n",
    "            continue\n",
    "        erp = evoked[(cond, nwb_file, True)]\n",
    "        events = {\n",
    "            \"Oddball Onset\": (erp.trials[\"stim3_start\"].mean(), 'lightgreen'),\n",
    "            \"Oddball Offset\": (erp.trials[\"stim3_end\"].mean(), 'red'),\n",
    "        }\n",
    "        cortical = erp.smap(lambda sig: sig.select_channels(list(visual_channels(sig.channels))))\n",
    "        cortical.plot(vmin=-1e-4, vmax=1e-4, figure=\"%s_%s_visual_lfp.pdf\" % (basename, cond), layout=\"tight\", **events)\n",
    "\n",
    "        subcortical = erp.smap(lambda sig: sig.select_channels(list(subcortical_channels(sig.channels))))\n",
    "        subcortical.plot(vmin=-1e-4, vmax=1e-4, figure=\"%s_%s_subcortical_lfp.pdf\" % (basename, cond), layout=\"tight\", **events)"
   ]
  },
  {
   "cell_type": "code",
   "execution_count": null,
   "id": "7455b714-2766-4da0-a12c-8b8912fc8071",
   "metadata": {},
   "outputs": [],
   "source": [
    "for cond in CONDITIONS:\n",
    "    logging.info(\"Plotting baseline-corrected CSDs for %s across subjects\" % cond)\n",
    "    for f, nwb_file in enumerate(NWB_FILES):\n",
    "        basename = os.path.splitext(nwb_file)[0]\n",
    "        if (cond, nwb_file, True) not in evoked:\n",
    "            continue\n",
    "        erp = evoked[(cond, nwb_file, True)].smap(lambda sig: sig.downsample(4).current_source_density(depth_column=\"vertical\"))\n",
    "        events = {\n",
    "            \"Oddball Onset\": (erp.trials[\"stim3_start\"].mean(), 'lightgreen'),\n",
    "            \"Oddball Offset\": (erp.trials[\"stim3_end\"].mean(), 'red'),\n",
    "        }\n",
    "        cortical = erp.smap(lambda sig: sig.select_channels(list(visual_channels(sig.channels))))\n",
    "        cortical.plot(vmin=-1e-4, vmax=1e-4, figure=\"%s_%s_visual_csd.pdf\" % (basename, cond), **events)\n",
    "\n",
    "        subcortical = erp.smap(lambda sig: sig.select_channels(list(subcortical_channels(sig.channels))))\n",
    "        subcortical.plot(vmin=-1e-4, vmax=1e-4, figure=\"%s_%s_subcortical_csd.pdf\" % (basename, cond), **events)"
   ]
  },
  {
   "cell_type": "code",
   "execution_count": null,
   "id": "ab5f27a4-322c-40dc-8f82-ca7db55c11e0",
   "metadata": {},
   "outputs": [],
   "source": []
  },
  {
   "cell_type": "code",
   "execution_count": null,
   "id": "f8c60621-8f90-4242-9cfb-88e4fc8638ea",
   "metadata": {},
   "outputs": [],
   "source": []
  }
 ],
 "metadata": {
  "kernelspec": {
   "display_name": "Python [conda env:ephys] *",
   "language": "python",
   "name": "conda-env-ephys-py"
  },
  "language_info": {
   "codemirror_mode": {
    "name": "ipython",
    "version": 3
   },
   "file_extension": ".py",
   "mimetype": "text/x-python",
   "name": "python",
   "nbconvert_exporter": "python",
   "pygments_lexer": "ipython3",
   "version": "3.11.7"
  }
 },
 "nbformat": 4,
 "nbformat_minor": 5
}
