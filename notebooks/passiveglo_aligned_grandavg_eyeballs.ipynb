{
 "cells": [
  {
   "cell_type": "code",
   "execution_count": null,
   "id": "8d64ff37-0c6f-45c3-8002-eca757bdc33a",
   "metadata": {},
   "outputs": [],
   "source": [
    "%cd .."
   ]
  },
  {
   "cell_type": "code",
   "execution_count": null,
   "id": "5d084a58-aaf7-42ce-8a8f-c57167b37658",
   "metadata": {},
   "outputs": [],
   "source": [
    "%load_ext autoreload\n",
    "%autoreload 2"
   ]
  },
  {
   "cell_type": "code",
   "execution_count": null,
   "id": "58a51e18-e847-479b-b3a6-f785f02ea137",
   "metadata": {},
   "outputs": [],
   "source": [
    "import collections\n",
    "import glob\n",
    "import functools\n",
    "import logging\n",
    "import math\n",
    "import matplotlib.pyplot as plt\n",
    "import numpy as np\n",
    "import os\n",
    "import pickle\n",
    "import quantities as pq\n",
    "\n",
    "import epych\n",
    "from epych.statistics import alignment"
   ]
  },
  {
   "cell_type": "code",
   "execution_count": null,
   "id": "98c35185-db98-4e9b-a72b-efff6723c1e7",
   "metadata": {},
   "outputs": [],
   "source": [
    "%matplotlib inline"
   ]
  },
  {
   "cell_type": "code",
   "execution_count": null,
   "id": "f0fc9442-7bc4-44a9-ba16-145472382f52",
   "metadata": {},
   "outputs": [],
   "source": [
    "logging.basicConfig(level=logging.INFO)"
   ]
  },
  {
   "cell_type": "code",
   "execution_count": null,
   "id": "8a8fe153-26d2-45a1-bae9-46ed1912d585",
   "metadata": {},
   "outputs": [],
   "source": [
    "CONDITIONS = [\"go_gloexp\", \"go_seqctl\", \"lo_gloexp\", \"lonaive\", \"lo_rndctl\", \"igo_seqctl\"]\n",
    "PRETRIAL_SECONDS = 0.5\n",
    "POSTTRIAL_SECONDS = 0.5"
   ]
  },
  {
   "cell_type": "code",
   "execution_count": null,
   "id": "0b0b3d9c-2703-44b0-8a67-7e23b2bfa12f",
   "metadata": {},
   "outputs": [],
   "source": [
    "NWB_FILES = glob.glob('/mnt/data/*.nwb')"
   ]
  },
  {
   "cell_type": "code",
   "execution_count": null,
   "id": "7aee750b-52f3-4e44-bae3-d33abb0d1111",
   "metadata": {},
   "outputs": [],
   "source": [
    "PILOT_FILES = []"
   ]
  },
  {
   "cell_type": "code",
   "execution_count": null,
   "id": "a7a06078-d15d-49ac-907f-b5d87f90f0d1",
   "metadata": {},
   "outputs": [],
   "source": [
    "evoked = {}"
   ]
  },
  {
   "cell_type": "code",
   "execution_count": null,
   "id": "566e8204-3c64-4252-b3e5-cee362f600fc",
   "metadata": {},
   "outputs": [],
   "source": [
    "aligner = epych.statistics.alignment.AlignmentSummary.unpickle(\"/mnt/data/000253/visual_alignment\")"
   ]
  },
  {
   "cell_type": "code",
   "execution_count": null,
   "id": "28408df6-5625-4a90-8e3d-5d7f9912851e",
   "metadata": {},
   "outputs": [],
   "source": [
    "ODDBALL_ONSET = 0\n",
    "ODDBALL_OFFSET = 0.5\n",
    "events = {\n",
    "    \"Onset\": (ODDBALL_ONSET, 'lightgreen'),\n",
    "    \"Offset\": (ODDBALL_OFFSET, 'red'),\n",
    "}"
   ]
  },
  {
   "cell_type": "code",
   "execution_count": null,
   "id": "ab831eca-01b8-49e0-a6b4-a541869946b1",
   "metadata": {},
   "outputs": [],
   "source": [
    "avgs = {cond: {} for cond in CONDITIONS}"
   ]
  },
  {
   "cell_type": "code",
   "execution_count": null,
   "id": "1ffdb3c4-3e8a-416a-8838-2886138407cb",
   "metadata": {},
   "outputs": [],
   "source": [
    "for cond in CONDITIONS:\n",
    "    avgs[cond] = epych.recording.EvokedSampling.unpickle(\"/mnt/data/000253/grandavg_%s\" % cond)\n",
    "    for sig in avgs[cond].signals.values():\n",
    "        sig._data = (sig.data * pq.units.volt).rescale('mV')\n",
    "        sig._timestamps = sig._timestamps * pq.second\n",
    "    logging.info(\"Loaded grand-averaged LFPs for %s\" % cond)"
   ]
  },
  {
   "cell_type": "code",
   "execution_count": null,
   "id": "fb3ff726-b92e-4d1e-8d81-6610d6c7887e",
   "metadata": {},
   "outputs": [],
   "source": [
    "area_titles = {\n",
    "    \"VISal\": \"AL\",\n",
    "    \"VISam\": \"AM\",\n",
    "    \"VISl\": \"LM\",\n",
    "    \"VISp\": \"V1\",\n",
    "    \"VISpm\": \"PM\",\n",
    "    \"VISrl\": \"RL\",\n",
    "}\n",
    "def sigtitle(name, signal):\n",
    "    if name in area_titles:\n",
    "        return area_titles[name]\n",
    "    return name"
   ]
  },
  {
   "cell_type": "code",
   "execution_count": null,
   "id": "4699f1c8-dbad-4358-bfa8-80494e13001d",
   "metadata": {},
   "outputs": [],
   "source": [
    "for cond in CONDITIONS:\n",
    "    avgs[cond].plot_signals(cond + '/lfp/', sigtitle=sigtitle, **events)\n",
    "\n",
    "    csd = avgs[cond].smap(lambda sig: sig.downsample(4).current_source_density(depth_column=\"vertical\"))\n",
    "    for sig in csd.signals.values():\n",
    "        sig._data = sig.data.rescale('nA / mm**2')\n",
    "    csd.plot_signals(cond + '/csd/', cmap='jet_r', sigtitle=sigtitle, **events)\n",
    "    logging.info(\"Plotted grand-averaged LFPs, CSDs for condition %s\" % cond)"
   ]
  },
  {
   "cell_type": "code",
   "execution_count": null,
   "id": "6a482dc5-e929-49ec-aaef-ad611a93b5aa",
   "metadata": {},
   "outputs": [],
   "source": []
  }
 ],
 "metadata": {
  "kernelspec": {
   "display_name": "Python [conda env:ephys] *",
   "language": "python",
   "name": "conda-env-ephys-py"
  },
  "language_info": {
   "codemirror_mode": {
    "name": "ipython",
    "version": 3
   },
   "file_extension": ".py",
   "mimetype": "text/x-python",
   "name": "python",
   "nbconvert_exporter": "python",
   "pygments_lexer": "ipython3",
   "version": "3.11.9"
  }
 },
 "nbformat": 4,
 "nbformat_minor": 5
}
