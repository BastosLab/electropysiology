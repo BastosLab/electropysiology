{
 "cells": [
  {
   "cell_type": "code",
   "execution_count": null,
   "id": "8d64ff37-0c6f-45c3-8002-eca757bdc33a",
   "metadata": {},
   "outputs": [],
   "source": [
    "%cd .."
   ]
  },
  {
   "cell_type": "code",
   "execution_count": null,
   "id": "5d084a58-aaf7-42ce-8a8f-c57167b37658",
   "metadata": {},
   "outputs": [],
   "source": [
    "%load_ext autoreload\n",
    "%autoreload 2"
   ]
  },
  {
   "cell_type": "code",
   "execution_count": null,
   "id": "58a51e18-e847-479b-b3a6-f785f02ea137",
   "metadata": {},
   "outputs": [],
   "source": [
    "import collections\n",
    "import glob\n",
    "import functools\n",
    "import logging\n",
    "import math\n",
    "import matplotlib.pyplot as plt\n",
    "import numpy as np\n",
    "import os\n",
    "import pickle\n",
    "import quantities as pq\n",
    "\n",
    "import epych\n",
    "from epych.statistics import alignment"
   ]
  },
  {
   "cell_type": "code",
   "execution_count": null,
   "id": "98c35185-db98-4e9b-a72b-efff6723c1e7",
   "metadata": {},
   "outputs": [],
   "source": [
    "%matplotlib inline"
   ]
  },
  {
   "cell_type": "code",
   "execution_count": null,
   "id": "f0fc9442-7bc4-44a9-ba16-145472382f52",
   "metadata": {},
   "outputs": [],
   "source": [
    "logging.basicConfig(level=logging.INFO)"
   ]
  },
  {
   "cell_type": "code",
   "execution_count": null,
   "id": "8a8fe153-26d2-45a1-bae9-46ed1912d585",
   "metadata": {},
   "outputs": [],
   "source": [
    "CONDITIONS = [\"go_gloexp\", \"go_seqctl\", \"lo_gloexp\", \"lonaive\", \"lo_rndctl\", \"igo_seqctl\"]\n",
    "PRETRIAL_SECONDS = 0.5\n",
    "POSTTRIAL_SECONDS = 0.5"
   ]
  },
  {
   "cell_type": "code",
   "execution_count": null,
   "id": "0b0b3d9c-2703-44b0-8a67-7e23b2bfa12f",
   "metadata": {},
   "outputs": [],
   "source": [
    "NWB_SUBJECTS = glob.glob('/mnt/data/000253/sub-*/')"
   ]
  },
  {
   "cell_type": "code",
   "execution_count": null,
   "id": "7aee750b-52f3-4e44-bae3-d33abb0d1111",
   "metadata": {},
   "outputs": [],
   "source": [
    "PILOT_FILES = []"
   ]
  },
  {
   "cell_type": "code",
   "execution_count": null,
   "id": "71101393-a8de-4697-9c81-557179a739cc",
   "metadata": {},
   "outputs": [],
   "source": [
    "NUM_TRIALS = 0\n",
    "ODDBALL_ONSET = 0.\n",
    "ODDBALL_OFFSET = 0."
   ]
  },
  {
   "cell_type": "code",
   "execution_count": null,
   "id": "a7a06078-d15d-49ac-907f-b5d87f90f0d1",
   "metadata": {},
   "outputs": [],
   "source": [
    "evoked = {}"
   ]
  },
  {
   "cell_type": "code",
   "execution_count": null,
   "id": "566e8204-3c64-4252-b3e5-cee362f600fc",
   "metadata": {},
   "outputs": [],
   "source": [
    "aligner = epych.statistics.alignment.AlignmentSummary.unpickle(\"/mnt/data/000253/visual_alignment\")"
   ]
  },
  {
   "cell_type": "code",
   "execution_count": null,
   "id": "a8f27065-0d69-4b41-ba8c-167553c69a42",
   "metadata": {},
   "outputs": [],
   "source": [
    "def visual_align(signal):\n",
    "    return signal.select_channels([\"VIS\" in loc for loc in signal.channels.location]).median_filter()"
   ]
  },
  {
   "cell_type": "code",
   "execution_count": null,
   "id": "ae302af3-35c8-4a8a-afc6-0c3a28eba93d",
   "metadata": {},
   "outputs": [],
   "source": [
    "def samplings(cond):\n",
    "    for s, subject_dir in enumerate(sorted(NWB_SUBJECTS)):\n",
    "        subject = subject_dir.split('/')[-2]\n",
    "        if not os.path.exists(subject_dir + \"/\" + cond):\n",
    "            continue\n",
    "        sampling = epych.recording.Sampling.unpickle(subject_dir + \"/\" + cond).smap(visual_align)\n",
    "        global ODDBALL_ONSET\n",
    "        global ODDBALL_OFFSET\n",
    "        global NUM_TRIALS\n",
    "        ODDBALL_ONSET += sampling.trials['stim3_start'].sum()\n",
    "        ODDBALL_OFFSET += sampling.trials['stim3_end'].sum()\n",
    "        NUM_TRIALS += len(sampling.trials)\n",
    "        yield sampling\n",
    "        del sampling\n",
    "        logging.info(\"Loaded LFPs for %s in subject %s\" % (cond, subject))"
   ]
  },
  {
   "cell_type": "code",
   "execution_count": null,
   "id": "a5888644-c0cb-4e2b-97e0-37ae217f2669",
   "metadata": {},
   "outputs": [],
   "source": [
    "summaries = {}"
   ]
  },
  {
   "cell_type": "code",
   "execution_count": null,
   "id": "bf3dfdbb-fe4d-4125-b152-f811152edb45",
   "metadata": {},
   "outputs": [],
   "source": [
    "def initialize_grandcat(key, signal):\n",
    "    area = os.path.commonprefix([loc for loc in signal.channels.location])\n",
    "    return epych.statistics.grand.GrandConcatenation(aligner.stats[area])"
   ]
  },
  {
   "cell_type": "code",
   "execution_count": null,
   "id": "f060f515-548e-40d7-a661-ca110d22185a",
   "metadata": {},
   "outputs": [],
   "source": [
    "for cond in CONDITIONS:\n",
    "    summaries[cond] = epych.statistic.Summary(alignment.location_prefix, initialize_grand_avg)\n",
    "    summaries[cond].calculate(samplings(cond))\n",
    "    logging.info(\"Grand-averaged LFPs for condition %s\" % cond)"
   ]
  },
  {
   "cell_type": "code",
   "execution_count": null,
   "id": "28408df6-5625-4a90-8e3d-5d7f9912851e",
   "metadata": {},
   "outputs": [],
   "source": [
    "ODDBALL_ONSET /= NUM_TRIALS\n",
    "ODDBALL_OFFSET /= NUM_TRIALS\n",
    "events = {\n",
    "    \"Oddball Onset\": (ODDBALL_ONSET, 'lightgreen'),\n",
    "    \"Oddball Offset\": (ODDBALL_OFFSET, 'red'),\n",
    "}"
   ]
  },
  {
   "cell_type": "code",
   "execution_count": null,
   "id": "ab831eca-01b8-49e0-a6b4-a541869946b1",
   "metadata": {},
   "outputs": [],
   "source": [
    "avgs = {cond: {} for cond in CONDITIONS}"
   ]
  },
  {
   "cell_type": "code",
   "execution_count": null,
   "id": "1ffdb3c4-3e8a-416a-8838-2886138407cb",
   "metadata": {},
   "outputs": [],
   "source": [
    "for cond in CONDITIONS:\n",
    "    avgs[cond] = epych.recording.EvokedSampling(epych.recording.empty_intervals(), epych.recording.empty_trials(), epych.recording.default_units(),\n",
    "                                                **{k: v.result() for k, v in summaries[cond].stats.items()})\n",
    "    avgs[cond].pickle(\"/mnt/data/000253/grandcat_%s\" % cond)"
   ]
  },
  {
   "cell_type": "code",
   "execution_count": null,
   "id": "6a482dc5-e929-49ec-aaef-ad611a93b5aa",
   "metadata": {},
   "outputs": [],
   "source": [
    "for cond in CONDITIONS:\n",
    "    avgs[cond].baseline_correct(0, PRETRIAL_SECONDS).plot(vmin=-1e-4, vmax=1e-4, figure=\"mice_passiveglo_visual_%s_lfp.pdf\" % cond, **events)\n",
    "\n",
    "    csd = avgs[cond].smap(lambda sig: sig.downsample(4).current_source_density(depth_column=\"vertical\"))\n",
    "    csd.plot(figure=\"mice_passiveglo_visual_%s_csd.pdf\" % cond, **events)\n",
    "    logging.info(\"Plotted grand-averaged LFPs, CSDs for condition %s\" % cond)"
   ]
  },
  {
   "cell_type": "code",
   "execution_count": null,
   "id": "10422435-e219-4ff9-90c9-cb080c226b88",
   "metadata": {},
   "outputs": [],
   "source": []
  }
 ],
 "metadata": {
  "kernelspec": {
   "display_name": "Python [conda env:ephys] *",
   "language": "python",
   "name": "conda-env-ephys-py"
  },
  "language_info": {
   "codemirror_mode": {
    "name": "ipython",
    "version": 3
   },
   "file_extension": ".py",
   "mimetype": "text/x-python",
   "name": "python",
   "nbconvert_exporter": "python",
   "pygments_lexer": "ipython3",
   "version": "3.11.9"
  }
 },
 "nbformat": 4,
 "nbformat_minor": 5
}
